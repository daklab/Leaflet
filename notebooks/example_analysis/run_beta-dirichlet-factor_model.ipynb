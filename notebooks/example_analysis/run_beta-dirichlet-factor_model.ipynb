{
 "cells": [
  {
   "cell_type": "code",
   "execution_count": 1,
   "metadata": {},
   "outputs": [],
   "source": [
    "import sys\n",
    "import numpy as np\n",
    "import torch \n",
    "# still do preprocessing in scipy\n",
    "import scipy.sparse as sp\n",
    "from sklearn.impute import SimpleImputer\n",
    "from sklearn.decomposition import PCA\n",
    "from sklearn.metrics import silhouette_score\n",
    "\n",
    "# import factor model from beta-dirichlet-factor\n",
    "sys.path.append('/gpfs/commons/home/kisaev/Leaflet/src/beta-dirichlet-factor')\n",
    "import factor_model"
   ]
  },
  {
   "cell_type": "code",
   "execution_count": 2,
   "metadata": {},
   "outputs": [],
   "source": [
    "leaflet_repo = '/gpfs/commons/home/kisaev/Leaflet/src/beta-binomial-mix/'\n",
    "sys.path.append(leaflet_repo)\n",
    "import load_cluster_data\n",
    "from betabinomo_mix_singlecells import *"
   ]
  },
  {
   "cell_type": "markdown",
   "metadata": {},
   "source": [
    "### Settings and Load data"
   ]
  },
  {
   "cell_type": "code",
   "execution_count": 3,
   "metadata": {},
   "outputs": [
    {
     "name": "stdout",
     "output_type": "stream",
     "text": [
      "cpu\n"
     ]
    }
   ],
   "source": [
    "torch.manual_seed(42)\n",
    "\n",
    "# set device\n",
    "device = torch.device('cuda' if torch.cuda.is_available() else 'cpu')\n",
    "print(device)\n",
    "\n",
    "float_type = { \n",
    "    \"device\" : device, \n",
    "    \"dtype\" : torch.float, # save memory\n",
    "}"
   ]
  },
  {
   "cell_type": "code",
   "execution_count": 4,
   "metadata": {},
   "outputs": [
    {
     "name": "stdout",
     "output_type": "stream",
     "text": [
      "Reading in data from folder ...\n",
      "/gpfs/commons/groups/knowles_lab/Karin/Leaflet-analysis-WD/TabulaMurisBrain/MLCB_Brain_true/FULL/\n",
      "Finished reading in data from folder ...\n",
      "Looking at only specific cell types ...['Brain_Non-Myeloid_brain_pericyte', 'Brain_Non-Myeloid_oligodendrocyte_precursor_cell', 'Brain_Non-Myeloid_endothelial_cell', 'Brain_Non-Myeloid_oligodendrocyte', 'Brain_Non-Myeloid_neuron', 'Brain_Myeloid_macrophage', 'Brain_Myeloid_microglial_cell', 'Brain_Non-Myeloid_astrocyte']\n",
      "['Brain_Non-Myeloid_brain_pericyte'\n",
      " 'Brain_Non-Myeloid_oligodendrocyte_precursor_cell'\n",
      " 'Brain_Non-Myeloid_endothelial_cell' 'Brain_Non-Myeloid_oligodendrocyte'\n",
      " 'Brain_Non-Myeloid_neuron' 'Brain_Myeloid_macrophage'\n",
      " 'Brain_Myeloid_microglial_cell' 'Brain_Non-Myeloid_astrocyte']\n",
      "7816\n",
      "16190\n",
      "The maximum junction count was initially:  150346\n",
      "80\n",
      "The maximum junction count is now:  4982\n",
      "                                             cell_id  Cluster  Cluster_Counts  \\\n",
      "0  A14-MAA000581-3_10_M-1-1_Brain_Non-Myeloid_bra...        4              21   \n",
      "1  A14-MAA000581-3_10_M-1-1_Brain_Non-Myeloid_bra...        4              21   \n",
      "2  A14-MAA000581-3_10_M-1-1_Brain_Non-Myeloid_bra...       10              16   \n",
      "3  A14-MAA000581-3_10_M-1-1_Brain_Non-Myeloid_bra...       27               7   \n",
      "4  A14-MAA000581-3_10_M-1-1_Brain_Non-Myeloid_bra...       28              12   \n",
      "\n",
      "             junction_id        gene_id  junc_count  \\\n",
      "0  1_160044753_160070699  4930523C07Rik          11   \n",
      "1  1_160070803_160075030  4930523C07Rik          10   \n",
      "2  1_155567681_155572197          Acbd6          16   \n",
      "3    1_36307836_36316208         Arid5a           7   \n",
      "4    1_36316327_36317609         Arid5a           5   \n",
      "\n",
      "                          cell_type  junc_ratio  cell_id_index  \\\n",
      "0  Brain_Non-Myeloid_brain_pericyte    0.523810              0   \n",
      "1  Brain_Non-Myeloid_brain_pericyte    0.476190              0   \n",
      "2  Brain_Non-Myeloid_brain_pericyte    1.000000              0   \n",
      "3  Brain_Non-Myeloid_brain_pericyte    1.000000              0   \n",
      "4  Brain_Non-Myeloid_brain_pericyte    0.416667              0   \n",
      "\n",
      "   junction_id_index  \n",
      "0                  0  \n",
      "1                  1  \n",
      "2                  2  \n",
      "3                  3  \n",
      "4                  4  \n",
      "The number of junctions in the data is:  15929\n",
      "The number of cells in the data is:  7816\n",
      "The number of cell types in the data is:  8\n"
     ]
    }
   ],
   "source": [
    "input_files_folder = '/gpfs/commons/groups/knowles_lab/Karin/Leaflet-analysis-WD/TabulaMurisBrain/MLCB_Brain_true/FULL/'\n",
    "\n",
    "cell_types = ['Brain_Non-Myeloid_brain_pericyte','Brain_Non-Myeloid_oligodendrocyte_precursor_cell','Brain_Non-Myeloid_endothelial_cell','Brain_Non-Myeloid_oligodendrocyte',\n",
    " 'Brain_Non-Myeloid_neuron', 'Brain_Myeloid_macrophage',\n",
    " 'Brain_Myeloid_microglial_cell', 'Brain_Non-Myeloid_astrocyte']\n",
    "\n",
    "#ignoring Bergmann_glial_cell since very few cells\n",
    "\n",
    "# convert data to Leaflet required input formats \n",
    "final_data, coo_counts_sparse, coo_cluster_sparse, cell_ids_conversion, junction_ids_conversion = load_cluster_data.load_cluster_data(\n",
    "    input_folder = input_files_folder, max_intron_count=5000, celltypes=cell_types, has_genes=\"yes\") \n",
    "\n",
    "# add cluster to final_data \n",
    "final_data = final_data.merge(junction_ids_conversion, on=[\"junction_id_index\"], how=\"left\")\n",
    "\n",
    "# get indices (maybe don't need this actually)\n",
    "indices = (final_data.cell_id_index, final_data.junction_id_index)\n",
    "indices_np = np.stack(indices)\n",
    "junc_counts = sp.coo_matrix((final_data.junc_count, indices))\n",
    "cluster_counts = sp.coo_matrix((final_data.cluster_count, indices))"
   ]
  },
  {
   "cell_type": "code",
   "execution_count": 5,
   "metadata": {},
   "outputs": [
    {
     "name": "stdout",
     "output_type": "stream",
     "text": [
      "The number of cells going into training data is:\n",
      "7816\n",
      "7816\n"
     ]
    },
    {
     "name": "stderr",
     "output_type": "stream",
     "text": [
      "/gpfs/commons/home/kisaev/Leaflet/src/beta-binomial-mix/betabinomo_mix_singlecells.py:333: UserWarning: Sparse CSR tensor support is in beta state. If you miss a functionality in the sparse tensor support, please submit a feature request to https://github.com/pytorch/pytorch/issues. (Triggered internally at ../aten/src/ATen/SparseCsrTensorImpl.cpp:53.)\n",
      "  ycount_lookup = torch.sparse_coo_tensor(\n"
     ]
    }
   ],
   "source": [
    "cell_index_tensor, junc_index_tensor, my_data = make_torch_data(final_data, **float_type)"
   ]
  },
  {
   "cell_type": "code",
   "execution_count": 6,
   "metadata": {},
   "outputs": [],
   "source": [
    "simple_data = final_data[[\"cell_id_index\", \"Cluster\", \"cell_type\", \"junction_id_index\", \"juncratio\", \"junc_count\", \"cluster_count\",  \"junction_id\", \"gene_id\"]]\n",
    "#sns.kdeplot(data=final_data, x=\"juncratio\", hue=\"cell_type\", cumulative=True, common_norm=False, common_grid=True)"
   ]
  },
  {
   "cell_type": "markdown",
   "metadata": {},
   "source": [
    "### Start with a simple PCA using imputed values "
   ]
  },
  {
   "cell_type": "code",
   "execution_count": null,
   "metadata": {},
   "outputs": [],
   "source": [
    "# make matrix of junctions by cells and fill with juncratio values \n",
    "mat = np.zeros((len(final_data.cell_id_index.unique()), len(final_data.junction_id_index.unique())))\n",
    "mat[final_data.cell_id_index, final_data.junction_id_index] = final_data.juncratio\n",
    "mat[~(final_data.cell_id_index), ~(final_data.junction_id_index)] = np.nan\n",
    "\n",
    "# imput nan values using mean of each row (does this make sense?)\n",
    "imp = SimpleImputer(missing_values=np.nan, strategy='mean')\n",
    "imp.fit(mat)\n",
    "mat_imputed = imp.transform(mat)\n",
    "\n",
    "# run PCA on mat_imputed \n",
    "pca = PCA(n_components=10)\n",
    "pca.fit(mat_imputed)\n",
    "print(pca.explained_variance_ratio_)"
   ]
  },
  {
   "cell_type": "code",
   "execution_count": null,
   "metadata": {},
   "outputs": [],
   "source": [
    "pcs = pca.transform(mat_imputed)\n",
    "pcs_df = pd.DataFrame(pcs, columns=[\"PC1\", \"PC2\", \"PC3\", \"PC4\", \"PC5\", \"PC6\", \"PC7\", \"PC8\", \"PC9\", \"PC10\"])\n",
    "cell_types_pcs = cell_ids_conversion[\"cell_type\"]"
   ]
  },
  {
   "cell_type": "code",
   "execution_count": null,
   "metadata": {},
   "outputs": [],
   "source": [
    "# plot first two PCs\n",
    "sns.scatterplot(data=pcs_df, x=\"PC1\", y=\"PC2\", hue=cell_types_pcs.values, s=5, alpha=0.5)\n",
    "# move legend outside of plot\n",
    "plt.legend(bbox_to_anchor=(1.05, 1), loc=2, borderaxespad=0.)\n",
    "plt.title(\"PCA of Junction Usage Ratios (imputed matrix)\")"
   ]
  },
  {
   "cell_type": "code",
   "execution_count": null,
   "metadata": {},
   "outputs": [],
   "source": [
    "# plot first and third PCs\n",
    "sns.scatterplot(data=pcs_df, x=\"PC2\", y=\"PC3\", hue=cell_types_pcs.values, s=5, alpha=0.5)\n",
    "# move legend outside of plot\n",
    "plt.legend(bbox_to_anchor=(1.05, 1), loc=2, borderaxespad=0.)\n",
    "plt.title(\"PCA of Junction Usage Ratios (imputed matrix)\")"
   ]
  },
  {
   "cell_type": "markdown",
   "metadata": {},
   "source": [
    "### Take a quick look at coverage of reads across junctions"
   ]
  },
  {
   "cell_type": "code",
   "execution_count": null,
   "metadata": {},
   "outputs": [],
   "source": [
    "cell_junc_cov = final_data.groupby(\"cell_id_index\").junc_count.sum()\n",
    "cell_cluster_cov = final_data.groupby(\"cell_id_index\").cluster_count.sum()\n",
    "\n",
    "# plot histogram of coverage\n",
    "sns.histplot(cell_junc_cov/1000)\n",
    "plt.title(\"Junction Coverage per Cell (read counts/1000)\")"
   ]
  },
  {
   "cell_type": "code",
   "execution_count": null,
   "metadata": {},
   "outputs": [],
   "source": [
    "# plot histogram of coverage clusters \n",
    "sns.histplot(cell_cluster_cov/1000)\n",
    "plt.title(\"Cluster Coverage per Cell (read counts/1000)\")"
   ]
  },
  {
   "cell_type": "markdown",
   "metadata": {},
   "source": [
    "### Get ready for model training "
   ]
  },
  {
   "cell_type": "code",
   "execution_count": null,
   "metadata": {},
   "outputs": [],
   "source": [
    "if device == torch.device('cuda'):\n",
    "    torch.set_default_tensor_type('torch.cuda.FloatTensor')"
   ]
  },
  {
   "cell_type": "code",
   "execution_count": null,
   "metadata": {},
   "outputs": [],
   "source": [
    "indices = torch.tensor(final_data[['cell_id_index', 'junction_id_index']].to_numpy().T, dtype=torch.long)\n",
    "values = torch.tensor(final_data['junc_count'].to_numpy(), dtype=torch.float)\n",
    "# Determine the size of the tensor\n",
    "num_cells = final_data['cell_id_index'].max() + 1\n",
    "num_junctions = final_data['junction_id_index'].max() + 1\n",
    "size = (num_cells, num_junctions)\n",
    "# Create a sparse tensor\n",
    "y_tensor = torch.sparse_coo_tensor(indices, values, size)"
   ]
  },
  {
   "cell_type": "code",
   "execution_count": null,
   "metadata": {},
   "outputs": [],
   "source": [
    "indices_counts = torch.tensor(final_data[['cell_id_index', 'junction_id_index']].to_numpy().T, dtype=torch.long)\n",
    "values_counts = torch.tensor(final_data['cluster_count'].to_numpy(), dtype=torch.float)\n",
    "# Determine the size of the tensor\n",
    "num_cells_counts = final_data['cell_id_index'].max() + 1\n",
    "num_junctions_counts = final_data['junction_id_index'].max() + 1\n",
    "size_counts = (num_cells_counts, num_junctions_counts)\n",
    "# Create a sparse tensor\n",
    "total_counts_tensor = torch.sparse_coo_tensor(indices_counts, values_counts, size_counts)"
   ]
  },
  {
   "cell_type": "markdown",
   "metadata": {},
   "source": [
    "### Run factor model!"
   ]
  },
  {
   "cell_type": "code",
   "execution_count": null,
   "metadata": {},
   "outputs": [],
   "source": [
    "# import reload \n",
    "from importlib import reload\n",
    "reload(factor_model)"
   ]
  },
  {
   "cell_type": "code",
   "execution_count": null,
   "metadata": {},
   "outputs": [],
   "source": [
    "# When set K to 100, error pops up after 270 iterations of training \n",
    "# with global priors -> SS of 0.02\n",
    "# with no prior on PSI "
   ]
  },
  {
   "cell_type": "code",
   "execution_count": null,
   "metadata": {},
   "outputs": [],
   "source": [
    "K = 100\n",
    "losses, sampled_guide, latent_vars = factor_model.main(y_tensor, total_counts_tensor, use_global_prior=True, K=K, lr=0.1, loss_plot=True, num_epochs=100)"
   ]
  },
  {
   "cell_type": "code",
   "execution_count": null,
   "metadata": {},
   "outputs": [],
   "source": [
    "# extract latent variables\n",
    "pi = latent_vars[\"pi\"] # overall contribution of each factor to cell population\n",
    "conc = latent_vars[\"conc\"] # one scaling value \n",
    "\n",
    "assign_post = latent_vars[\"assign\"]\n",
    "\n",
    "psis = latent_vars[\"psi\"] # psi is the probability of a junction being used in a cluster\n",
    "a = latent_vars[\"a\"] # a is the alpha parameter of the beta distribution (if no global prior used, then this is one value per junction)\n",
    "b = latent_vars[\"b\"] # b is the beta parameter of the beta distribution (if no global prior used, then this is one value per junction)\n",
    "\n",
    "#a_global = latent_vars[\"a_global\"] # a_global is the alpha parameter of the beta distribution (if global prior used, then this is one value for all junctions)\n",
    "#b_global = latent_vars[\"b_global\"] # b_global is the beta parameter of the beta distribution (if global prior used, then this is one value for all junctions)"
   ]
  },
  {
   "cell_type": "code",
   "execution_count": null,
   "metadata": {},
   "outputs": [],
   "source": [
    "# plot histogram of pi values \n",
    "sns.histplot(pi)"
   ]
  },
  {
   "cell_type": "code",
   "execution_count": null,
   "metadata": {},
   "outputs": [],
   "source": [
    "print(a.shape)\n",
    "print(b.shape)"
   ]
  },
  {
   "cell_type": "code",
   "execution_count": null,
   "metadata": {},
   "outputs": [],
   "source": [
    "print(\"The inferred concentration parameter is: \" + str(conc))\n",
    "print(\"The inferred pi parameter is: \" + str(pi))"
   ]
  },
  {
   "cell_type": "code",
   "execution_count": null,
   "metadata": {},
   "outputs": [],
   "source": [
    "mu=a/(a+b)\n",
    "s=a+b\n",
    "\n",
    "print(mu)\n",
    "print(s)"
   ]
  },
  {
   "cell_type": "markdown",
   "metadata": {},
   "source": [
    "### Evaluate latent variables "
   ]
  },
  {
   "cell_type": "code",
   "execution_count": null,
   "metadata": {},
   "outputs": [],
   "source": [
    "color_palette = sns.color_palette(\"Set1\", n_colors=len(cell_ids_conversion['cell_type'].unique()))\n",
    "# Create a color bar legend\n",
    "legend = sns.color_palette(palette=color_palette, as_cmap=True)\n",
    "\n",
    "# Obtain cell type labels for every cell in the matrix also \n",
    "unique_cell_types = cell_ids_conversion['cell_type'].unique()\n",
    "num_unique_types = len(unique_cell_types)\n",
    "colors = sns.color_palette('Set1', n_colors=num_unique_types)  # You can use any color palette\n",
    "cell_types = cell_ids_conversion.cell_type.values\n",
    "\n",
    "# create colours for each cell type \n",
    "cell_type_colors = {cell_type: color for cell_type, color in zip(unique_cell_types, colors)}\n",
    "row_colors = [cell_type_colors[cell_type] for cell_type in cell_types]"
   ]
  },
  {
   "cell_type": "code",
   "execution_count": null,
   "metadata": {},
   "outputs": [],
   "source": [
    "assign_post.shape"
   ]
  },
  {
   "cell_type": "code",
   "execution_count": null,
   "metadata": {},
   "outputs": [],
   "source": [
    "cluster = sns.clustermap(\n",
    "    data=assign_post,\n",
    "    method='complete',\n",
    "    cmap=\"viridis\",\n",
    "    annot=False,\n",
    "    fmt=\".2f\",\n",
    "    yticklabels=False,\n",
    "    figsize=(8, 8),\n",
    "    center=0,\n",
    "    row_colors=row_colors,  # Apply row colors\n",
    "    cbar_kws={'label': 'Post assignment'} \n",
    "    )\n",
    "cluster.cax.set_ylabel('Post assignment', size=8)\n",
    "# Increase font size for color bar tick labels:\n",
    "cbar_ax = cluster.cax\n",
    "for label in cbar_ax.yaxis.get_ticklabels():\n",
    "    label.set_size(8)"
   ]
  },
  {
   "cell_type": "code",
   "execution_count": null,
   "metadata": {},
   "outputs": [],
   "source": [
    "# print cell type color legend seperately\n",
    "cell_type_colors\n",
    "# Create a color bar legend\n",
    "legend = sns.color_palette(palette=color_palette, as_cmap=True)\n",
    "sns.palplot(color_palette)\n",
    "plt.title(\"Cell Type Legend\")\n",
    "# add cell type names to legend\n",
    "plt.xticks(np.arange(len(unique_cell_types)), unique_cell_types, rotation=45, ha='right')\n",
    "plt.xlabel(\"Cell Type\")\n"
   ]
  },
  {
   "cell_type": "code",
   "execution_count": null,
   "metadata": {},
   "outputs": [],
   "source": [
    "# let's calculate silhouette score ussing assign_post\n",
    "ss = silhouette_score(assign_post, cell_types)\n",
    "# print with K equals K the ss is \n",
    "print(\"The silhouette score for K = \" + str(K) + \" is: \" + str(ss))"
   ]
  },
  {
   "cell_type": "code",
   "execution_count": null,
   "metadata": {},
   "outputs": [],
   "source": [
    "# let's plot junction usage across factors using heatmap\n",
    "# get junction usage for factor 1\n",
    "factor_junc_usage = psis[1:8000, :]\n",
    "factor_junc_usage\n",
    "# make heatmap to visualize junction usage across factors\n",
    "sns.clustermap(factor_junc_usage, cmap=\"viridis\")"
   ]
  },
  {
   "cell_type": "code",
   "execution_count": null,
   "metadata": {},
   "outputs": [],
   "source": [
    "psis.shape"
   ]
  },
  {
   "cell_type": "code",
   "execution_count": null,
   "metadata": {},
   "outputs": [],
   "source": [
    "psis.shape"
   ]
  },
  {
   "cell_type": "code",
   "execution_count": null,
   "metadata": {},
   "outputs": [],
   "source": [
    "# make histogram from np array to visualize distribution of probabilities for junction usages across factors \n",
    "# Number of factors (columns)\n",
    "num_factors = psis.shape[0]\n",
    "\n",
    "# Plotting KDE cumulative plot for each column\n",
    "for i in range(num_factors):\n",
    "    sns.kdeplot(psis[i, :], cumulative=True, label=f'Factor {i+1}')\n",
    "\n",
    "plt.title('Latent junction PSIs across factors')\n",
    "plt.xlabel('Junction-Factor PSI')\n",
    "plt.ylabel('Cumulative Density')\n",
    "plt.axhline(y=0.5, color='red', linestyle='--')\n",
    "plt.show()"
   ]
  },
  {
   "cell_type": "code",
   "execution_count": null,
   "metadata": {},
   "outputs": [],
   "source": [
    "junc_counts.shape"
   ]
  },
  {
   "cell_type": "code",
   "execution_count": null,
   "metadata": {},
   "outputs": [],
   "source": [
    "cluster_counts"
   ]
  },
  {
   "cell_type": "markdown",
   "metadata": {},
   "source": [
    "## Evaluate perfomrance on imputation/masking task"
   ]
  },
  {
   "cell_type": "code",
   "execution_count": 72,
   "metadata": {},
   "outputs": [],
   "source": [
    "# import factor model from beta-dirichlet-factor\n",
    "sys.path.append('/gpfs/commons/home/kisaev/Leaflet/src/evaluations')\n",
    "import masking\n",
    "from masking import *"
   ]
  },
  {
   "cell_type": "code",
   "execution_count": 73,
   "metadata": {},
   "outputs": [
    {
     "data": {
      "text/plain": [
       "<module 'masking' from '/gpfs/commons/home/kisaev/Leaflet/src/evaluations/masking.py'>"
      ]
     },
     "execution_count": 73,
     "metadata": {},
     "output_type": "execute_result"
    }
   ],
   "source": [
    "# import reload \n",
    "from importlib import reload\n",
    "reload(masking)"
   ]
  },
  {
   "cell_type": "code",
   "execution_count": 69,
   "metadata": {},
   "outputs": [
    {
     "name": "stdout",
     "output_type": "stream",
     "text": [
      "Masked indices:  tensor([117408269, 106544114,  32023343,  ...,  16161691,   9466006,\n",
      "         83695050])\n"
     ]
    }
   ],
   "source": [
    "#1. get masked matrix using intron cluster counts for this mouse brain data \n",
    "masks = generate_mask(cluster_counts)"
   ]
  },
  {
   "cell_type": "code",
   "execution_count": 74,
   "metadata": {},
   "outputs": [],
   "source": [
    "#2. get junction and intron cluster count matrices with masked values \n",
    "masked_junction_counts, masked_intron_clusts = apply_mask(junc_counts, cluster_counts, masks)"
   ]
  },
  {
   "cell_type": "code",
   "execution_count": 75,
   "metadata": {},
   "outputs": [],
   "source": [
    "#3. get input files for factor model (junction and intron cluster sparse tensor)\n",
    "y_tensor, total_counts_tensor = prep_model_input(masked_junction_counts, masked_intron_clusts)"
   ]
  },
  {
   "cell_type": "code",
   "execution_count": 76,
   "metadata": {},
   "outputs": [
    {
     "data": {
      "text/plain": [
       "tensor(indices=tensor([[    0,     0,     0,  ...,  7815,  7815,  7815],\n",
       "                       [    0,     1,     2,  ..., 15889, 15903, 15921]]),\n",
       "       values=tensor([11., 10., 16.,  ...,  0.,  0.,  0.]),\n",
       "       size=(7816, 15929), nnz=9489760, layout=torch.sparse_coo)"
      ]
     },
     "execution_count": 76,
     "metadata": {},
     "output_type": "execute_result"
    }
   ],
   "source": [
    "y_tensor"
   ]
  },
  {
   "cell_type": "code",
   "execution_count": 77,
   "metadata": {},
   "outputs": [
    {
     "data": {
      "text/plain": [
       "tensor(indices=tensor([[    0,     0,     0,  ...,  7815,  7815,  7815],\n",
       "                       [    0,     1,     2,  ..., 15889, 15903, 15921]]),\n",
       "       values=tensor([21., 21., 16.,  ..., 31., 29., 31.]),\n",
       "       size=(7816, 15929), nnz=9489760, layout=torch.sparse_coo)"
      ]
     },
     "execution_count": 77,
     "metadata": {},
     "output_type": "execute_result"
    }
   ],
   "source": [
    "total_counts_tensor"
   ]
  },
  {
   "cell_type": "code",
   "execution_count": 78,
   "metadata": {},
   "outputs": [
    {
     "name": "stdout",
     "output_type": "stream",
     "text": [
      "Epoch 0, Loss: 234738382.1038659\n",
      "Epoch 10, Loss: 134540865.22459766\n",
      "Epoch 20, Loss: 91527235.5729742\n",
      "Epoch 30, Loss: 73003868.6637435\n",
      "Epoch 40, Loss: 64530919.061581135\n",
      "Epoch 50, Loss: 60487939.36831999\n",
      "Epoch 60, Loss: 58548297.752251744\n",
      "Epoch 70, Loss: 57437438.68340051\n",
      "Epoch 80, Loss: 56757957.338353276\n",
      "Epoch 90, Loss: 56261020.63451779\n"
     ]
    },
    {
     "data": {
      "image/png": "[encoded data removed]",
      "text/plain": [
       "<Figure size 640x480 with 1 Axes>"
      ]
     },
     "metadata": {},
     "output_type": "display_data"
    },
    {
     "name": "stdout",
     "output_type": "stream",
     "text": [
      "Done! Returning losses, sampled_guide, and latent_vars.\n"
     ]
    }
   ],
   "source": [
    "# Now can run factor model on masked data\n",
    "K = 8\n",
    "losses, sampled_guide, latent_vars = factor_model.main(y_tensor, total_counts_tensor, use_global_prior=False, K=K, lr=0.1, loss_plot=True, num_epochs=100)"
   ]
  },
  {
   "cell_type": "code",
   "execution_count": 79,
   "metadata": {},
   "outputs": [],
   "source": [
    "# get latent variables\n",
    "pi = latent_vars[\"pi\"] # overall contribution of each factor to cell population\n",
    "conc = latent_vars[\"conc\"] # one scaling value\n",
    "psi = latent_vars[\"psi\"] # psi is the probability of a junction being used in a cluster\n",
    "a = latent_vars[\"a\"] # a is the alpha parameter of the beta distribution (if no global prior used, then this is one value per junction)\n",
    "b = latent_vars[\"b\"] # b is the beta parameter of the beta distribution (if no global prior used, then this is one value per junction)\n",
    "assign_post=latent_vars[\"assign\"]"
   ]
  },
  {
   "cell_type": "code",
   "execution_count": 80,
   "metadata": {},
   "outputs": [
    {
     "data": {
      "text/plain": [
       "(array([0.37730145, 0.11104967, 0.09963002, 0.08261578, 0.06818659,\n",
       "        0.06696493, 0.12163274, 0.07261881], dtype=float32),\n",
       " array(2.931182, dtype=float32))"
      ]
     },
     "execution_count": 80,
     "metadata": {},
     "output_type": "execute_result"
    }
   ],
   "source": [
    "pi, conc"
   ]
  },
  {
   "cell_type": "code",
   "execution_count": 82,
   "metadata": {},
   "outputs": [
    {
     "data": {
      "text/plain": [
       "((15929,), (15929,))"
      ]
     },
     "execution_count": 82,
     "metadata": {},
     "output_type": "execute_result"
    }
   ],
   "source": [
    "a.shape, b.shape"
   ]
  },
  {
   "cell_type": "code",
   "execution_count": 84,
   "metadata": {},
   "outputs": [
    {
     "data": {
      "text/plain": [
       "(7816, 8)"
      ]
     },
     "execution_count": 84,
     "metadata": {},
     "output_type": "execute_result"
    }
   ],
   "source": [
    "assign_post.shape"
   ]
  },
  {
   "cell_type": "code",
   "execution_count": 88,
   "metadata": {},
   "outputs": [
    {
     "data": {
      "text/plain": [
       "(8, 15929)"
      ]
     },
     "execution_count": 88,
     "metadata": {},
     "output_type": "execute_result"
    }
   ],
   "source": [
    "psi.shape K x J "
   ]
  },
  {
   "cell_type": "code",
   "execution_count": null,
   "metadata": {},
   "outputs": [],
   "source": [
    "# To recover the original matrix, we need to multiply the factor matrix by the factor loadings\n",
    "\n"
   ]
  }
 ],
 "metadata": {
  "kernelspec": {
   "display_name": "leafcutter-sc",
   "language": "python",
   "name": "python3"
  },
  "language_info": {
   "codemirror_mode": {
    "name": "ipython",
    "version": 3
   },
   "file_extension": ".py",
   "mimetype": "text/x-python",
   "name": "python",
   "nbconvert_exporter": "python",
   "pygments_lexer": "ipython3",
   "version": "3.9.16"
  }
 },
 "nbformat": 4,
 "nbformat_minor": 2
}
