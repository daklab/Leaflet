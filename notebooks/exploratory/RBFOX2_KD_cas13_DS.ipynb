{
 "cells": [
  {
   "cell_type": "code",
   "execution_count": 17,
   "metadata": {
    "vscode": {
     "languageId": "r"
    }
   },
   "outputs": [],
   "source": [
    "library(data.table)\n",
    "library(dplyr)\n",
    "library(ggpubr)\n",
    "library(VennDiagram)\n",
    "setwd(\"/gpfs/commons/home/mschertzer/for_Karin\")"
   ]
  },
  {
   "cell_type": "code",
   "execution_count": 18,
   "metadata": {
    "vscode": {
     "languageId": "r"
    }
   },
   "outputs": [
    {
     "data": {
      "text/html": [
       "<style>\n",
       ".list-inline {list-style: none; margin:0; padding: 0}\n",
       ".list-inline>li {display: inline-block}\n",
       ".list-inline>li:not(:last-child)::after {content: \"\\00b7\"; padding: 0 .5ex}\n",
       "</style>\n",
       "<ol class=list-inline><li>'gencode_predictions.rda'</li><li>'rb2_empty_hesc_all_lfc_junctions.rda'</li><li>'rb2_g1_hesc_all_lfc_junctions.rda'</li><li>'rb2_g3_hesc_all_lfc_junctions.rda'</li><li>'rb2_g5_hesc_all_lfc_junctions.rda'</li></ol>\n"
      ],
      "text/latex": [
       "\\begin{enumerate*}\n",
       "\\item 'gencode\\_predictions.rda'\n",
       "\\item 'rb2\\_empty\\_hesc\\_all\\_lfc\\_junctions.rda'\n",
       "\\item 'rb2\\_g1\\_hesc\\_all\\_lfc\\_junctions.rda'\n",
       "\\item 'rb2\\_g3\\_hesc\\_all\\_lfc\\_junctions.rda'\n",
       "\\item 'rb2\\_g5\\_hesc\\_all\\_lfc\\_junctions.rda'\n",
       "\\end{enumerate*}\n"
      ],
      "text/markdown": [
       "1. 'gencode_predictions.rda'\n",
       "2. 'rb2_empty_hesc_all_lfc_junctions.rda'\n",
       "3. 'rb2_g1_hesc_all_lfc_junctions.rda'\n",
       "4. 'rb2_g3_hesc_all_lfc_junctions.rda'\n",
       "5. 'rb2_g5_hesc_all_lfc_junctions.rda'\n",
       "\n",
       "\n"
      ],
      "text/plain": [
       "[1] \"gencode_predictions.rda\"             \n",
       "[2] \"rb2_empty_hesc_all_lfc_junctions.rda\"\n",
       "[3] \"rb2_g1_hesc_all_lfc_junctions.rda\"   \n",
       "[4] \"rb2_g3_hesc_all_lfc_junctions.rda\"   \n",
       "[5] \"rb2_g5_hesc_all_lfc_junctions.rda\"   "
      ]
     },
     "metadata": {},
     "output_type": "display_data"
    }
   ],
   "source": [
    "list.files(pattern=\".rda\")"
   ]
  },
  {
   "cell_type": "code",
   "execution_count": 19,
   "metadata": {
    "vscode": {
     "languageId": "r"
    }
   },
   "outputs": [],
   "source": [
    "# load RBFOX2 minicutter outputs - WT empty vector \n",
    "load(\"rb2_empty_hesc_all_lfc_junctions.rda\")\n",
    "wt=juncs_recluster\n",
    "wt$experiment = \"WT\""
   ]
  },
  {
   "cell_type": "code",
   "execution_count": 20,
   "metadata": {
    "vscode": {
     "languageId": "r"
    }
   },
   "outputs": [],
   "source": [
    "# load RBFOX2 minicutter outputs - total knockdown vector \n",
    "load(\"rb2_g1_hesc_all_lfc_junctions.rda\")\n",
    "total_rbfox2 = juncs_recluster\n",
    "total_rbfox2$experiment = \"total_rbfox2\""
   ]
  },
  {
   "cell_type": "code",
   "execution_count": 21,
   "metadata": {
    "vscode": {
     "languageId": "r"
    }
   },
   "outputs": [],
   "source": [
    "# load RBFOX2 minicutter outputs - 208 knockdown\n",
    "load(\"rb2_g3_hesc_all_lfc_junctions.rda\")\n",
    "g3_208_rbfox2 = juncs_recluster\n",
    "g3_208_rbfox2$experiment = \"g3_208_rbfox2\""
   ]
  },
  {
   "cell_type": "code",
   "execution_count": 22,
   "metadata": {
    "vscode": {
     "languageId": "r"
    }
   },
   "outputs": [],
   "source": [
    "# load RBFOX2 minicutter outputs - 209 knockdown\n",
    "load(\"rb2_g5_hesc_all_lfc_junctions.rda\")\n",
    "g3_209_rbfox2 = juncs_recluster\n",
    "g3_209_rbfox2$experiment = \"g3_209_rbfox2\""
   ]
  },
  {
   "cell_type": "code",
   "execution_count": 23,
   "metadata": {
    "vscode": {
     "languageId": "r"
    }
   },
   "outputs": [],
   "source": [
    "cas13_kd = rbind(wt, total_rbfox2, g3_208_rbfox2, g3_209_rbfox2)"
   ]
  },
  {
   "cell_type": "code",
   "execution_count": 24,
   "metadata": {
    "vscode": {
     "languageId": "r"
    }
   },
   "outputs": [
    {
     "data": {
      "text/html": [
       "<table class=\"dataframe\">\n",
       "<caption>A tibble: 6 × 9</caption>\n",
       "<thead>\n",
       "\t<tr><th scope=col>chrom</th><th scope=col>start</th><th scope=col>end</th><th scope=col>readcount</th><th scope=col>strand</th><th scope=col>cluster_idx</th><th scope=col>usage_ratio</th><th scope=col>experiment</th><th scope=col>junction_id</th></tr>\n",
       "\t<tr><th scope=col>&lt;chr&gt;</th><th scope=col>&lt;dbl&gt;</th><th scope=col>&lt;dbl&gt;</th><th scope=col>&lt;dbl&gt;</th><th scope=col>&lt;chr&gt;</th><th scope=col>&lt;dbl&gt;</th><th scope=col>&lt;dbl&gt;</th><th scope=col>&lt;chr&gt;</th><th scope=col>&lt;chr&gt;</th></tr>\n",
       "</thead>\n",
       "<tbody>\n",
       "\t<tr><td>chr1</td><td> 14829</td><td> 14970</td><td>16</td><td>-</td><td>10413</td><td>1.0000000</td><td>WT</td><td>chr1_14829_14970_-  </td></tr>\n",
       "\t<tr><td>chr1</td><td>136610</td><td>136709</td><td>17</td><td>-</td><td>10424</td><td>0.4473684</td><td>WT</td><td>chr1_136610_136709_-</td></tr>\n",
       "\t<tr><td>chr1</td><td>137329</td><td>492191</td><td>30</td><td>+</td><td>    9</td><td>1.0000000</td><td>WT</td><td>chr1_137329_492191_+</td></tr>\n",
       "\t<tr><td>chr1</td><td>146509</td><td>146642</td><td>13</td><td>-</td><td>10429</td><td>1.0000000</td><td>WT</td><td>chr1_146509_146642_-</td></tr>\n",
       "\t<tr><td>chr1</td><td>187577</td><td>187755</td><td>10</td><td>-</td><td>10435</td><td>0.6666667</td><td>WT</td><td>chr1_187577_187755_-</td></tr>\n",
       "\t<tr><td>chr1</td><td>497299</td><td>498399</td><td>37</td><td>-</td><td>10446</td><td>0.9250000</td><td>WT</td><td>chr1_497299_498399_-</td></tr>\n",
       "</tbody>\n",
       "</table>\n"
      ],
      "text/latex": [
       "A tibble: 6 × 9\n",
       "\\begin{tabular}{lllllllll}\n",
       " chrom & start & end & readcount & strand & cluster\\_idx & usage\\_ratio & experiment & junction\\_id\\\\\n",
       " <chr> & <dbl> & <dbl> & <dbl> & <chr> & <dbl> & <dbl> & <chr> & <chr>\\\\\n",
       "\\hline\n",
       "\t chr1 &  14829 &  14970 & 16 & - & 10413 & 1.0000000 & WT & chr1\\_14829\\_14970\\_-  \\\\\n",
       "\t chr1 & 136610 & 136709 & 17 & - & 10424 & 0.4473684 & WT & chr1\\_136610\\_136709\\_-\\\\\n",
       "\t chr1 & 137329 & 492191 & 30 & + &     9 & 1.0000000 & WT & chr1\\_137329\\_492191\\_+\\\\\n",
       "\t chr1 & 146509 & 146642 & 13 & - & 10429 & 1.0000000 & WT & chr1\\_146509\\_146642\\_-\\\\\n",
       "\t chr1 & 187577 & 187755 & 10 & - & 10435 & 0.6666667 & WT & chr1\\_187577\\_187755\\_-\\\\\n",
       "\t chr1 & 497299 & 498399 & 37 & - & 10446 & 0.9250000 & WT & chr1\\_497299\\_498399\\_-\\\\\n",
       "\\end{tabular}\n"
      ],
      "text/markdown": [
       "\n",
       "A tibble: 6 × 9\n",
       "\n",
       "| chrom &lt;chr&gt; | start &lt;dbl&gt; | end &lt;dbl&gt; | readcount &lt;dbl&gt; | strand &lt;chr&gt; | cluster_idx &lt;dbl&gt; | usage_ratio &lt;dbl&gt; | experiment &lt;chr&gt; | junction_id &lt;chr&gt; |\n",
       "|---|---|---|---|---|---|---|---|---|\n",
       "| chr1 |  14829 |  14970 | 16 | - | 10413 | 1.0000000 | WT | chr1_14829_14970_-   |\n",
       "| chr1 | 136610 | 136709 | 17 | - | 10424 | 0.4473684 | WT | chr1_136610_136709_- |\n",
       "| chr1 | 137329 | 492191 | 30 | + |     9 | 1.0000000 | WT | chr1_137329_492191_+ |\n",
       "| chr1 | 146509 | 146642 | 13 | - | 10429 | 1.0000000 | WT | chr1_146509_146642_- |\n",
       "| chr1 | 187577 | 187755 | 10 | - | 10435 | 0.6666667 | WT | chr1_187577_187755_- |\n",
       "| chr1 | 497299 | 498399 | 37 | - | 10446 | 0.9250000 | WT | chr1_497299_498399_- |\n",
       "\n"
      ],
      "text/plain": [
       "  chrom start  end    readcount strand cluster_idx usage_ratio experiment\n",
       "1 chr1   14829  14970 16        -      10413       1.0000000   WT        \n",
       "2 chr1  136610 136709 17        -      10424       0.4473684   WT        \n",
       "3 chr1  137329 492191 30        +          9       1.0000000   WT        \n",
       "4 chr1  146509 146642 13        -      10429       1.0000000   WT        \n",
       "5 chr1  187577 187755 10        -      10435       0.6666667   WT        \n",
       "6 chr1  497299 498399 37        -      10446       0.9250000   WT        \n",
       "  junction_id         \n",
       "1 chr1_14829_14970_-  \n",
       "2 chr1_136610_136709_-\n",
       "3 chr1_137329_492191_+\n",
       "4 chr1_146509_146642_-\n",
       "5 chr1_187577_187755_-\n",
       "6 chr1_497299_498399_-"
      ]
     },
     "metadata": {},
     "output_type": "display_data"
    }
   ],
   "source": [
    "# establish new junction ID based on coordinates \n",
    "cas13_kd$junction_id = paste(cas13_kd$chrom, cas13_kd$start, cas13_kd$end, cas13_kd$strand, sep=\"_\")\n",
    "# keep only junctions that have at least 10 reads in the WT experiment condition \n",
    "juncs_keep = unique(dplyr::filter(cas13_kd, experiment==\"WT\" & readcount >= 10)$junction_id)\n",
    "cas13_kd = dplyr::filter(cas13_kd, junction_id %in% juncs_keep)\n",
    "cas13_kd$name = NULL\n",
    "head(cas13_kd)"
   ]
  },
  {
   "cell_type": "code",
   "execution_count": 25,
   "metadata": {
    "vscode": {
     "languageId": "r"
    }
   },
   "outputs": [
    {
     "data": {
      "text/html": [
       "<table class=\"dataframe\">\n",
       "<caption>A data.table: 6 × 2</caption>\n",
       "<thead>\n",
       "\t<tr><th scope=col>V1</th><th scope=col>N</th></tr>\n",
       "\t<tr><th scope=col>&lt;chr&gt;</th><th scope=col>&lt;int&gt;</th></tr>\n",
       "</thead>\n",
       "<tbody>\n",
       "\t<tr><td>chr1_100007156_100011365_+</td><td>4</td></tr>\n",
       "\t<tr><td>chr1_100011533_100015302_+</td><td>4</td></tr>\n",
       "\t<tr><td>chr1_100015420_100017682_+</td><td>4</td></tr>\n",
       "\t<tr><td>chr1_100017815_100022386_+</td><td>4</td></tr>\n",
       "\t<tr><td>chr1_100038316_100049909_+</td><td>4</td></tr>\n",
       "\t<tr><td>chr1_100043229_100049909_+</td><td>4</td></tr>\n",
       "</tbody>\n",
       "</table>\n"
      ],
      "text/latex": [
       "A data.table: 6 × 2\n",
       "\\begin{tabular}{ll}\n",
       " V1 & N\\\\\n",
       " <chr> & <int>\\\\\n",
       "\\hline\n",
       "\t chr1\\_100007156\\_100011365\\_+ & 4\\\\\n",
       "\t chr1\\_100011533\\_100015302\\_+ & 4\\\\\n",
       "\t chr1\\_100015420\\_100017682\\_+ & 4\\\\\n",
       "\t chr1\\_100017815\\_100022386\\_+ & 4\\\\\n",
       "\t chr1\\_100038316\\_100049909\\_+ & 4\\\\\n",
       "\t chr1\\_100043229\\_100049909\\_+ & 4\\\\\n",
       "\\end{tabular}\n"
      ],
      "text/markdown": [
       "\n",
       "A data.table: 6 × 2\n",
       "\n",
       "| V1 &lt;chr&gt; | N &lt;int&gt; |\n",
       "|---|---|\n",
       "| chr1_100007156_100011365_+ | 4 |\n",
       "| chr1_100011533_100015302_+ | 4 |\n",
       "| chr1_100015420_100017682_+ | 4 |\n",
       "| chr1_100017815_100022386_+ | 4 |\n",
       "| chr1_100038316_100049909_+ | 4 |\n",
       "| chr1_100043229_100049909_+ | 4 |\n",
       "\n"
      ],
      "text/plain": [
       "  V1                         N\n",
       "1 chr1_100007156_100011365_+ 4\n",
       "2 chr1_100011533_100015302_+ 4\n",
       "3 chr1_100015420_100017682_+ 4\n",
       "4 chr1_100017815_100022386_+ 4\n",
       "5 chr1_100038316_100049909_+ 4\n",
       "6 chr1_100043229_100049909_+ 4"
      ]
     },
     "metadata": {},
     "output_type": "display_data"
    }
   ],
   "source": [
    "tt=as.data.table(table(cas13_kd$junction_id))\n",
    "tt=tt[order(-N)]\n",
    "tt = filter(tt, N == 4)\n",
    "head(tt)\n",
    "# keep only junctions that appear in all four conditions so can evaluate how they change \n",
    "cas13_kd = filter(cas13_kd, junction_id %in% tt$V1)"
   ]
  },
  {
   "cell_type": "code",
   "execution_count": 26,
   "metadata": {
    "vscode": {
     "languageId": "r"
    }
   },
   "outputs": [
    {
     "data": {
      "text/html": [
       "<table class=\"dataframe\">\n",
       "<caption>A tibble: 6 × 9</caption>\n",
       "<thead>\n",
       "\t<tr><th scope=col>chrom</th><th scope=col>start</th><th scope=col>end</th><th scope=col>readcount</th><th scope=col>strand</th><th scope=col>cluster_idx</th><th scope=col>usage_ratio</th><th scope=col>experiment</th><th scope=col>junction_id</th></tr>\n",
       "\t<tr><th scope=col>&lt;chr&gt;</th><th scope=col>&lt;dbl&gt;</th><th scope=col>&lt;dbl&gt;</th><th scope=col>&lt;dbl&gt;</th><th scope=col>&lt;chr&gt;</th><th scope=col>&lt;dbl&gt;</th><th scope=col>&lt;dbl&gt;</th><th scope=col>&lt;chr&gt;</th><th scope=col>&lt;chr&gt;</th></tr>\n",
       "</thead>\n",
       "<tbody>\n",
       "\t<tr><td>chr1</td><td> 14829</td><td> 14970</td><td>16</td><td>-</td><td>10413</td><td>1.0000000</td><td>WT</td><td>chr1_14829_14970_-  </td></tr>\n",
       "\t<tr><td>chr1</td><td>136610</td><td>136709</td><td>17</td><td>-</td><td>10424</td><td>0.4473684</td><td>WT</td><td>chr1_136610_136709_-</td></tr>\n",
       "\t<tr><td>chr1</td><td>137329</td><td>492191</td><td>30</td><td>+</td><td>    9</td><td>1.0000000</td><td>WT</td><td>chr1_137329_492191_+</td></tr>\n",
       "\t<tr><td>chr1</td><td>146509</td><td>146642</td><td>13</td><td>-</td><td>10429</td><td>1.0000000</td><td>WT</td><td>chr1_146509_146642_-</td></tr>\n",
       "\t<tr><td>chr1</td><td>187577</td><td>187755</td><td>10</td><td>-</td><td>10435</td><td>0.6666667</td><td>WT</td><td>chr1_187577_187755_-</td></tr>\n",
       "\t<tr><td>chr1</td><td>497299</td><td>498399</td><td>37</td><td>-</td><td>10446</td><td>0.9250000</td><td>WT</td><td>chr1_497299_498399_-</td></tr>\n",
       "</tbody>\n",
       "</table>\n"
      ],
      "text/latex": [
       "A tibble: 6 × 9\n",
       "\\begin{tabular}{lllllllll}\n",
       " chrom & start & end & readcount & strand & cluster\\_idx & usage\\_ratio & experiment & junction\\_id\\\\\n",
       " <chr> & <dbl> & <dbl> & <dbl> & <chr> & <dbl> & <dbl> & <chr> & <chr>\\\\\n",
       "\\hline\n",
       "\t chr1 &  14829 &  14970 & 16 & - & 10413 & 1.0000000 & WT & chr1\\_14829\\_14970\\_-  \\\\\n",
       "\t chr1 & 136610 & 136709 & 17 & - & 10424 & 0.4473684 & WT & chr1\\_136610\\_136709\\_-\\\\\n",
       "\t chr1 & 137329 & 492191 & 30 & + &     9 & 1.0000000 & WT & chr1\\_137329\\_492191\\_+\\\\\n",
       "\t chr1 & 146509 & 146642 & 13 & - & 10429 & 1.0000000 & WT & chr1\\_146509\\_146642\\_-\\\\\n",
       "\t chr1 & 187577 & 187755 & 10 & - & 10435 & 0.6666667 & WT & chr1\\_187577\\_187755\\_-\\\\\n",
       "\t chr1 & 497299 & 498399 & 37 & - & 10446 & 0.9250000 & WT & chr1\\_497299\\_498399\\_-\\\\\n",
       "\\end{tabular}\n"
      ],
      "text/markdown": [
       "\n",
       "A tibble: 6 × 9\n",
       "\n",
       "| chrom &lt;chr&gt; | start &lt;dbl&gt; | end &lt;dbl&gt; | readcount &lt;dbl&gt; | strand &lt;chr&gt; | cluster_idx &lt;dbl&gt; | usage_ratio &lt;dbl&gt; | experiment &lt;chr&gt; | junction_id &lt;chr&gt; |\n",
       "|---|---|---|---|---|---|---|---|---|\n",
       "| chr1 |  14829 |  14970 | 16 | - | 10413 | 1.0000000 | WT | chr1_14829_14970_-   |\n",
       "| chr1 | 136610 | 136709 | 17 | - | 10424 | 0.4473684 | WT | chr1_136610_136709_- |\n",
       "| chr1 | 137329 | 492191 | 30 | + |     9 | 1.0000000 | WT | chr1_137329_492191_+ |\n",
       "| chr1 | 146509 | 146642 | 13 | - | 10429 | 1.0000000 | WT | chr1_146509_146642_- |\n",
       "| chr1 | 187577 | 187755 | 10 | - | 10435 | 0.6666667 | WT | chr1_187577_187755_- |\n",
       "| chr1 | 497299 | 498399 | 37 | - | 10446 | 0.9250000 | WT | chr1_497299_498399_- |\n",
       "\n"
      ],
      "text/plain": [
       "  chrom start  end    readcount strand cluster_idx usage_ratio experiment\n",
       "1 chr1   14829  14970 16        -      10413       1.0000000   WT        \n",
       "2 chr1  136610 136709 17        -      10424       0.4473684   WT        \n",
       "3 chr1  137329 492191 30        +          9       1.0000000   WT        \n",
       "4 chr1  146509 146642 13        -      10429       1.0000000   WT        \n",
       "5 chr1  187577 187755 10        -      10435       0.6666667   WT        \n",
       "6 chr1  497299 498399 37        -      10446       0.9250000   WT        \n",
       "  junction_id         \n",
       "1 chr1_14829_14970_-  \n",
       "2 chr1_136610_136709_-\n",
       "3 chr1_137329_492191_+\n",
       "4 chr1_146509_146642_-\n",
       "5 chr1_187577_187755_-\n",
       "6 chr1_497299_498399_-"
      ]
     },
     "metadata": {},
     "output_type": "display_data"
    }
   ],
   "source": [
    "minicutter_output = cas13_kd\n",
    "head(minicutter_output)"
   ]
  },
  {
   "cell_type": "code",
   "execution_count": 27,
   "metadata": {
    "vscode": {
     "languageId": "r"
    }
   },
   "outputs": [
    {
     "data": {
      "text/html": [
       "131913"
      ],
      "text/latex": [
       "131913"
      ],
      "text/markdown": [
       "131913"
      ],
      "text/plain": [
       "[1] 131913"
      ]
     },
     "metadata": {},
     "output_type": "display_data"
    }
   ],
   "source": [
    "# run get_DS_juncs on all unique junctions in the dataset and bind together \n",
    "all_juncs = unique(minicutter_output$junction_id)\n",
    "length(all_juncs)"
   ]
  },
  {
   "cell_type": "code",
   "execution_count": 28,
   "metadata": {
    "vscode": {
     "languageId": "r"
    }
   },
   "outputs": [],
   "source": [
    "# get DS across all junctions \n",
    "DS_juncs = minicutter_output %>% dplyr::group_by(junction_id) %>% mutate(usage_ratio_comparison = usage_ratio / usage_ratio[experiment == \"WT\"]) %>%\n",
    "    select(experiment, usage_ratio_comparison, junction_id) "
   ]
  },
  {
   "cell_type": "code",
   "execution_count": 29,
   "metadata": {
    "vscode": {
     "languageId": "r"
    }
   },
   "outputs": [
    {
     "data": {
      "text/html": [
       "<table class=\"dataframe\">\n",
       "<caption>A grouped_df: 6 × 3</caption>\n",
       "<thead>\n",
       "\t<tr><th scope=col>experiment</th><th scope=col>usage_ratio_comparison</th><th scope=col>junction_id</th></tr>\n",
       "\t<tr><th scope=col>&lt;chr&gt;</th><th scope=col>&lt;dbl&gt;</th><th scope=col>&lt;chr&gt;</th></tr>\n",
       "</thead>\n",
       "<tbody>\n",
       "\t<tr><td>WT</td><td>1</td><td>chr1_14829_14970_-  </td></tr>\n",
       "\t<tr><td>WT</td><td>1</td><td>chr1_136610_136709_-</td></tr>\n",
       "\t<tr><td>WT</td><td>1</td><td>chr1_137329_492191_+</td></tr>\n",
       "\t<tr><td>WT</td><td>1</td><td>chr1_146509_146642_-</td></tr>\n",
       "\t<tr><td>WT</td><td>1</td><td>chr1_187577_187755_-</td></tr>\n",
       "\t<tr><td>WT</td><td>1</td><td>chr1_497299_498399_-</td></tr>\n",
       "</tbody>\n",
       "</table>\n"
      ],
      "text/latex": [
       "A grouped\\_df: 6 × 3\n",
       "\\begin{tabular}{lll}\n",
       " experiment & usage\\_ratio\\_comparison & junction\\_id\\\\\n",
       " <chr> & <dbl> & <chr>\\\\\n",
       "\\hline\n",
       "\t WT & 1 & chr1\\_14829\\_14970\\_-  \\\\\n",
       "\t WT & 1 & chr1\\_136610\\_136709\\_-\\\\\n",
       "\t WT & 1 & chr1\\_137329\\_492191\\_+\\\\\n",
       "\t WT & 1 & chr1\\_146509\\_146642\\_-\\\\\n",
       "\t WT & 1 & chr1\\_187577\\_187755\\_-\\\\\n",
       "\t WT & 1 & chr1\\_497299\\_498399\\_-\\\\\n",
       "\\end{tabular}\n"
      ],
      "text/markdown": [
       "\n",
       "A grouped_df: 6 × 3\n",
       "\n",
       "| experiment &lt;chr&gt; | usage_ratio_comparison &lt;dbl&gt; | junction_id &lt;chr&gt; |\n",
       "|---|---|---|\n",
       "| WT | 1 | chr1_14829_14970_-   |\n",
       "| WT | 1 | chr1_136610_136709_- |\n",
       "| WT | 1 | chr1_137329_492191_+ |\n",
       "| WT | 1 | chr1_146509_146642_- |\n",
       "| WT | 1 | chr1_187577_187755_- |\n",
       "| WT | 1 | chr1_497299_498399_- |\n",
       "\n"
      ],
      "text/plain": [
       "  experiment usage_ratio_comparison junction_id         \n",
       "1 WT         1                      chr1_14829_14970_-  \n",
       "2 WT         1                      chr1_136610_136709_-\n",
       "3 WT         1                      chr1_137329_492191_+\n",
       "4 WT         1                      chr1_146509_146642_-\n",
       "5 WT         1                      chr1_187577_187755_-\n",
       "6 WT         1                      chr1_497299_498399_-"
      ]
     },
     "metadata": {},
     "output_type": "display_data"
    }
   ],
   "source": [
    "head(DS_juncs)"
   ]
  },
  {
   "cell_type": "code",
   "execution_count": 30,
   "metadata": {
    "vscode": {
     "languageId": "r"
    }
   },
   "outputs": [
    {
     "data": {
      "text/html": [
       "<table class=\"dataframe\">\n",
       "<caption>A tibble: 6 × 9</caption>\n",
       "<thead>\n",
       "\t<tr><th scope=col>chrom</th><th scope=col>start</th><th scope=col>end</th><th scope=col>readcount</th><th scope=col>strand</th><th scope=col>cluster_idx</th><th scope=col>usage_ratio</th><th scope=col>experiment</th><th scope=col>junction_id</th></tr>\n",
       "\t<tr><th scope=col>&lt;chr&gt;</th><th scope=col>&lt;dbl&gt;</th><th scope=col>&lt;dbl&gt;</th><th scope=col>&lt;dbl&gt;</th><th scope=col>&lt;chr&gt;</th><th scope=col>&lt;dbl&gt;</th><th scope=col>&lt;dbl&gt;</th><th scope=col>&lt;chr&gt;</th><th scope=col>&lt;chr&gt;</th></tr>\n",
       "</thead>\n",
       "<tbody>\n",
       "\t<tr><td>chr1</td><td> 14829</td><td> 14970</td><td>16</td><td>-</td><td>10413</td><td>1.0000000</td><td>WT</td><td>chr1_14829_14970_-  </td></tr>\n",
       "\t<tr><td>chr1</td><td>136610</td><td>136709</td><td>17</td><td>-</td><td>10424</td><td>0.4473684</td><td>WT</td><td>chr1_136610_136709_-</td></tr>\n",
       "\t<tr><td>chr1</td><td>137329</td><td>492191</td><td>30</td><td>+</td><td>    9</td><td>1.0000000</td><td>WT</td><td>chr1_137329_492191_+</td></tr>\n",
       "\t<tr><td>chr1</td><td>146509</td><td>146642</td><td>13</td><td>-</td><td>10429</td><td>1.0000000</td><td>WT</td><td>chr1_146509_146642_-</td></tr>\n",
       "\t<tr><td>chr1</td><td>187577</td><td>187755</td><td>10</td><td>-</td><td>10435</td><td>0.6666667</td><td>WT</td><td>chr1_187577_187755_-</td></tr>\n",
       "\t<tr><td>chr1</td><td>497299</td><td>498399</td><td>37</td><td>-</td><td>10446</td><td>0.9250000</td><td>WT</td><td>chr1_497299_498399_-</td></tr>\n",
       "</tbody>\n",
       "</table>\n"
      ],
      "text/latex": [
       "A tibble: 6 × 9\n",
       "\\begin{tabular}{lllllllll}\n",
       " chrom & start & end & readcount & strand & cluster\\_idx & usage\\_ratio & experiment & junction\\_id\\\\\n",
       " <chr> & <dbl> & <dbl> & <dbl> & <chr> & <dbl> & <dbl> & <chr> & <chr>\\\\\n",
       "\\hline\n",
       "\t chr1 &  14829 &  14970 & 16 & - & 10413 & 1.0000000 & WT & chr1\\_14829\\_14970\\_-  \\\\\n",
       "\t chr1 & 136610 & 136709 & 17 & - & 10424 & 0.4473684 & WT & chr1\\_136610\\_136709\\_-\\\\\n",
       "\t chr1 & 137329 & 492191 & 30 & + &     9 & 1.0000000 & WT & chr1\\_137329\\_492191\\_+\\\\\n",
       "\t chr1 & 146509 & 146642 & 13 & - & 10429 & 1.0000000 & WT & chr1\\_146509\\_146642\\_-\\\\\n",
       "\t chr1 & 187577 & 187755 & 10 & - & 10435 & 0.6666667 & WT & chr1\\_187577\\_187755\\_-\\\\\n",
       "\t chr1 & 497299 & 498399 & 37 & - & 10446 & 0.9250000 & WT & chr1\\_497299\\_498399\\_-\\\\\n",
       "\\end{tabular}\n"
      ],
      "text/markdown": [
       "\n",
       "A tibble: 6 × 9\n",
       "\n",
       "| chrom &lt;chr&gt; | start &lt;dbl&gt; | end &lt;dbl&gt; | readcount &lt;dbl&gt; | strand &lt;chr&gt; | cluster_idx &lt;dbl&gt; | usage_ratio &lt;dbl&gt; | experiment &lt;chr&gt; | junction_id &lt;chr&gt; |\n",
       "|---|---|---|---|---|---|---|---|---|\n",
       "| chr1 |  14829 |  14970 | 16 | - | 10413 | 1.0000000 | WT | chr1_14829_14970_-   |\n",
       "| chr1 | 136610 | 136709 | 17 | - | 10424 | 0.4473684 | WT | chr1_136610_136709_- |\n",
       "| chr1 | 137329 | 492191 | 30 | + |     9 | 1.0000000 | WT | chr1_137329_492191_+ |\n",
       "| chr1 | 146509 | 146642 | 13 | - | 10429 | 1.0000000 | WT | chr1_146509_146642_- |\n",
       "| chr1 | 187577 | 187755 | 10 | - | 10435 | 0.6666667 | WT | chr1_187577_187755_- |\n",
       "| chr1 | 497299 | 498399 | 37 | - | 10446 | 0.9250000 | WT | chr1_497299_498399_- |\n",
       "\n"
      ],
      "text/plain": [
       "  chrom start  end    readcount strand cluster_idx usage_ratio experiment\n",
       "1 chr1   14829  14970 16        -      10413       1.0000000   WT        \n",
       "2 chr1  136610 136709 17        -      10424       0.4473684   WT        \n",
       "3 chr1  137329 492191 30        +          9       1.0000000   WT        \n",
       "4 chr1  146509 146642 13        -      10429       1.0000000   WT        \n",
       "5 chr1  187577 187755 10        -      10435       0.6666667   WT        \n",
       "6 chr1  497299 498399 37        -      10446       0.9250000   WT        \n",
       "  junction_id         \n",
       "1 chr1_14829_14970_-  \n",
       "2 chr1_136610_136709_-\n",
       "3 chr1_137329_492191_+\n",
       "4 chr1_146509_146642_-\n",
       "5 chr1_187577_187755_-\n",
       "6 chr1_497299_498399_-"
      ]
     },
     "metadata": {},
     "output_type": "display_data"
    }
   ],
   "source": [
    "head(minicutter_output)"
   ]
  },
  {
   "cell_type": "code",
   "execution_count": 31,
   "metadata": {
    "vscode": {
     "languageId": "r"
    }
   },
   "outputs": [
    {
     "data": {
      "text/html": [
       "<table class=\"dataframe\">\n",
       "<caption>A data.frame: 6 × 10</caption>\n",
       "<thead>\n",
       "\t<tr><th></th><th scope=col>experiment</th><th scope=col>junction_id</th><th scope=col>chrom</th><th scope=col>start</th><th scope=col>end</th><th scope=col>readcount</th><th scope=col>strand</th><th scope=col>cluster_idx</th><th scope=col>usage_ratio</th><th scope=col>usage_ratio_comparison</th></tr>\n",
       "\t<tr><th></th><th scope=col>&lt;chr&gt;</th><th scope=col>&lt;chr&gt;</th><th scope=col>&lt;chr&gt;</th><th scope=col>&lt;dbl&gt;</th><th scope=col>&lt;dbl&gt;</th><th scope=col>&lt;dbl&gt;</th><th scope=col>&lt;chr&gt;</th><th scope=col>&lt;dbl&gt;</th><th scope=col>&lt;dbl&gt;</th><th scope=col>&lt;dbl&gt;</th></tr>\n",
       "</thead>\n",
       "<tbody>\n",
       "\t<tr><th scope=row>1</th><td>g3_208_rbfox2</td><td>chr1_100007156_100011365_+</td><td>chr1</td><td>100007156</td><td>100011365</td><td>36</td><td>+</td><td>4241</td><td>0.3103448</td><td> 2.2489372</td></tr>\n",
       "\t<tr><th scope=row>2</th><td>g3_208_rbfox2</td><td>chr1_100011533_100015302_+</td><td>chr1</td><td>100011533</td><td>100015302</td><td>43</td><td>+</td><td>4243</td><td>0.5890411</td><td> 0.5890411</td></tr>\n",
       "\t<tr><th scope=row>3</th><td>g3_208_rbfox2</td><td>chr1_100015420_100017682_+</td><td>chr1</td><td>100015420</td><td>100017682</td><td>13</td><td>+</td><td>4244</td><td>1.0000000</td><td>20.3461538</td></tr>\n",
       "\t<tr><th scope=row>4</th><td>g3_208_rbfox2</td><td>chr1_100017815_100022386_+</td><td>chr1</td><td>100017815</td><td>100022386</td><td>26</td><td>+</td><td>4243</td><td>0.3561644</td><td> 5.0921881</td></tr>\n",
       "\t<tr><th scope=row>5</th><td>g3_208_rbfox2</td><td>chr1_100038316_100049909_+</td><td>chr1</td><td>100038316</td><td>100049909</td><td>78</td><td>+</td><td>4246</td><td>0.8297872</td><td> 2.4118541</td></tr>\n",
       "\t<tr><th scope=row>6</th><td>g3_208_rbfox2</td><td>chr1_100043229_100049909_+</td><td>chr1</td><td>100043229</td><td>100049909</td><td>11</td><td>+</td><td>4246</td><td>0.1170213</td><td> 3.8690160</td></tr>\n",
       "</tbody>\n",
       "</table>\n"
      ],
      "text/latex": [
       "A data.frame: 6 × 10\n",
       "\\begin{tabular}{r|llllllllll}\n",
       "  & experiment & junction\\_id & chrom & start & end & readcount & strand & cluster\\_idx & usage\\_ratio & usage\\_ratio\\_comparison\\\\\n",
       "  & <chr> & <chr> & <chr> & <dbl> & <dbl> & <dbl> & <chr> & <dbl> & <dbl> & <dbl>\\\\\n",
       "\\hline\n",
       "\t1 & g3\\_208\\_rbfox2 & chr1\\_100007156\\_100011365\\_+ & chr1 & 100007156 & 100011365 & 36 & + & 4241 & 0.3103448 &  2.2489372\\\\\n",
       "\t2 & g3\\_208\\_rbfox2 & chr1\\_100011533\\_100015302\\_+ & chr1 & 100011533 & 100015302 & 43 & + & 4243 & 0.5890411 &  0.5890411\\\\\n",
       "\t3 & g3\\_208\\_rbfox2 & chr1\\_100015420\\_100017682\\_+ & chr1 & 100015420 & 100017682 & 13 & + & 4244 & 1.0000000 & 20.3461538\\\\\n",
       "\t4 & g3\\_208\\_rbfox2 & chr1\\_100017815\\_100022386\\_+ & chr1 & 100017815 & 100022386 & 26 & + & 4243 & 0.3561644 &  5.0921881\\\\\n",
       "\t5 & g3\\_208\\_rbfox2 & chr1\\_100038316\\_100049909\\_+ & chr1 & 100038316 & 100049909 & 78 & + & 4246 & 0.8297872 &  2.4118541\\\\\n",
       "\t6 & g3\\_208\\_rbfox2 & chr1\\_100043229\\_100049909\\_+ & chr1 & 100043229 & 100049909 & 11 & + & 4246 & 0.1170213 &  3.8690160\\\\\n",
       "\\end{tabular}\n"
      ],
      "text/markdown": [
       "\n",
       "A data.frame: 6 × 10\n",
       "\n",
       "| <!--/--> | experiment &lt;chr&gt; | junction_id &lt;chr&gt; | chrom &lt;chr&gt; | start &lt;dbl&gt; | end &lt;dbl&gt; | readcount &lt;dbl&gt; | strand &lt;chr&gt; | cluster_idx &lt;dbl&gt; | usage_ratio &lt;dbl&gt; | usage_ratio_comparison &lt;dbl&gt; |\n",
       "|---|---|---|---|---|---|---|---|---|---|---|\n",
       "| 1 | g3_208_rbfox2 | chr1_100007156_100011365_+ | chr1 | 100007156 | 100011365 | 36 | + | 4241 | 0.3103448 |  2.2489372 |\n",
       "| 2 | g3_208_rbfox2 | chr1_100011533_100015302_+ | chr1 | 100011533 | 100015302 | 43 | + | 4243 | 0.5890411 |  0.5890411 |\n",
       "| 3 | g3_208_rbfox2 | chr1_100015420_100017682_+ | chr1 | 100015420 | 100017682 | 13 | + | 4244 | 1.0000000 | 20.3461538 |\n",
       "| 4 | g3_208_rbfox2 | chr1_100017815_100022386_+ | chr1 | 100017815 | 100022386 | 26 | + | 4243 | 0.3561644 |  5.0921881 |\n",
       "| 5 | g3_208_rbfox2 | chr1_100038316_100049909_+ | chr1 | 100038316 | 100049909 | 78 | + | 4246 | 0.8297872 |  2.4118541 |\n",
       "| 6 | g3_208_rbfox2 | chr1_100043229_100049909_+ | chr1 | 100043229 | 100049909 | 11 | + | 4246 | 0.1170213 |  3.8690160 |\n",
       "\n"
      ],
      "text/plain": [
       "  experiment    junction_id                chrom start     end       readcount\n",
       "1 g3_208_rbfox2 chr1_100007156_100011365_+ chr1  100007156 100011365 36       \n",
       "2 g3_208_rbfox2 chr1_100011533_100015302_+ chr1  100011533 100015302 43       \n",
       "3 g3_208_rbfox2 chr1_100015420_100017682_+ chr1  100015420 100017682 13       \n",
       "4 g3_208_rbfox2 chr1_100017815_100022386_+ chr1  100017815 100022386 26       \n",
       "5 g3_208_rbfox2 chr1_100038316_100049909_+ chr1  100038316 100049909 78       \n",
       "6 g3_208_rbfox2 chr1_100043229_100049909_+ chr1  100043229 100049909 11       \n",
       "  strand cluster_idx usage_ratio usage_ratio_comparison\n",
       "1 +      4241        0.3103448    2.2489372            \n",
       "2 +      4243        0.5890411    0.5890411            \n",
       "3 +      4244        1.0000000   20.3461538            \n",
       "4 +      4243        0.3561644    5.0921881            \n",
       "5 +      4246        0.8297872    2.4118541            \n",
       "6 +      4246        0.1170213    3.8690160            "
      ]
     },
     "metadata": {},
     "output_type": "display_data"
    }
   ],
   "source": [
    "# merge this with full minicutter output dataframe and save as text file \n",
    "minicutter_output = merge(minicutter_output, DS_juncs, by=c(\"experiment\", \"junction_id\"))\n",
    "head(minicutter_output)"
   ]
  },
  {
   "cell_type": "code",
   "execution_count": 35,
   "metadata": {
    "vscode": {
     "languageId": "r"
    }
   },
   "outputs": [
    {
     "name": "stderr",
     "output_type": "stream",
     "text": [
      "\u001b[1m\u001b[22m`summarise()` has grouped output by 'experiment'. You can override using the\n",
      "`.groups` argument.\n"
     ]
    }
   ],
   "source": [
    "# for each junction and each experiment, get the total cluster counts \n",
    "cluster_counts = minicutter_output %>% dplyr::group_by(experiment, cluster_idx) %>% summarize(cluster_counts = sum(readcount)) \n",
    "minicutter_output = merge(minicutter_output, cluster_counts, by=c(\"experiment\", \"cluster_idx\"))"
   ]
  },
  {
   "cell_type": "code",
   "execution_count": 36,
   "metadata": {
    "vscode": {
     "languageId": "r"
    }
   },
   "outputs": [
    {
     "data": {
      "text/html": [
       "<table class=\"dataframe\">\n",
       "<caption>A data.frame: 6 × 11</caption>\n",
       "<thead>\n",
       "\t<tr><th></th><th scope=col>experiment</th><th scope=col>cluster_idx</th><th scope=col>junction_id</th><th scope=col>chrom</th><th scope=col>start</th><th scope=col>end</th><th scope=col>readcount</th><th scope=col>strand</th><th scope=col>usage_ratio</th><th scope=col>usage_ratio_comparison</th><th scope=col>cluster_counts</th></tr>\n",
       "\t<tr><th></th><th scope=col>&lt;chr&gt;</th><th scope=col>&lt;dbl&gt;</th><th scope=col>&lt;chr&gt;</th><th scope=col>&lt;chr&gt;</th><th scope=col>&lt;dbl&gt;</th><th scope=col>&lt;dbl&gt;</th><th scope=col>&lt;dbl&gt;</th><th scope=col>&lt;chr&gt;</th><th scope=col>&lt;dbl&gt;</th><th scope=col>&lt;dbl&gt;</th><th scope=col>&lt;dbl&gt;</th></tr>\n",
       "</thead>\n",
       "<tbody>\n",
       "\t<tr><th scope=row>1</th><td>WT</td><td>   100</td><td>chr1_1051369_1051453_+   </td><td>chr1 </td><td> 1051369</td><td> 1051453</td><td> 76</td><td>+</td><td>0.3179916</td><td>1</td><td> 76</td></tr>\n",
       "\t<tr><th scope=row>2</th><td>WT</td><td>  1000</td><td>chr1_12253826_12256333_+ </td><td>chr1 </td><td>12253826</td><td>12256333</td><td> 63</td><td>+</td><td>0.4012739</td><td>1</td><td> 63</td></tr>\n",
       "\t<tr><th scope=row>3</th><td>WT</td><td>100002</td><td>chr19_48446192_48446385_+</td><td>chr19</td><td>48446192</td><td>48446385</td><td>295</td><td>+</td><td>0.9966216</td><td>1</td><td>295</td></tr>\n",
       "\t<tr><th scope=row>4</th><td>WT</td><td>100003</td><td>chr19_48446502_48446681_+</td><td>chr19</td><td>48446502</td><td>48446681</td><td>305</td><td>+</td><td>1.0000000</td><td>1</td><td>305</td></tr>\n",
       "\t<tr><th scope=row>5</th><td>WT</td><td>100004</td><td>chr19_48446843_48450313_+</td><td>chr19</td><td>48446843</td><td>48450313</td><td>363</td><td>+</td><td>1.0000000</td><td>1</td><td>363</td></tr>\n",
       "\t<tr><th scope=row>6</th><td>WT</td><td>100007</td><td>chr19_48450526_48450666_+</td><td>chr19</td><td>48450526</td><td>48450666</td><td>263</td><td>+</td><td>1.0000000</td><td>1</td><td>263</td></tr>\n",
       "</tbody>\n",
       "</table>\n"
      ],
      "text/latex": [
       "A data.frame: 6 × 11\n",
       "\\begin{tabular}{r|lllllllllll}\n",
       "  & experiment & cluster\\_idx & junction\\_id & chrom & start & end & readcount & strand & usage\\_ratio & usage\\_ratio\\_comparison & cluster\\_counts\\\\\n",
       "  & <chr> & <dbl> & <chr> & <chr> & <dbl> & <dbl> & <dbl> & <chr> & <dbl> & <dbl> & <dbl>\\\\\n",
       "\\hline\n",
       "\t1 & WT &    100 & chr1\\_1051369\\_1051453\\_+    & chr1  &  1051369 &  1051453 &  76 & + & 0.3179916 & 1 &  76\\\\\n",
       "\t2 & WT &   1000 & chr1\\_12253826\\_12256333\\_+  & chr1  & 12253826 & 12256333 &  63 & + & 0.4012739 & 1 &  63\\\\\n",
       "\t3 & WT & 100002 & chr19\\_48446192\\_48446385\\_+ & chr19 & 48446192 & 48446385 & 295 & + & 0.9966216 & 1 & 295\\\\\n",
       "\t4 & WT & 100003 & chr19\\_48446502\\_48446681\\_+ & chr19 & 48446502 & 48446681 & 305 & + & 1.0000000 & 1 & 305\\\\\n",
       "\t5 & WT & 100004 & chr19\\_48446843\\_48450313\\_+ & chr19 & 48446843 & 48450313 & 363 & + & 1.0000000 & 1 & 363\\\\\n",
       "\t6 & WT & 100007 & chr19\\_48450526\\_48450666\\_+ & chr19 & 48450526 & 48450666 & 263 & + & 1.0000000 & 1 & 263\\\\\n",
       "\\end{tabular}\n"
      ],
      "text/markdown": [
       "\n",
       "A data.frame: 6 × 11\n",
       "\n",
       "| <!--/--> | experiment &lt;chr&gt; | cluster_idx &lt;dbl&gt; | junction_id &lt;chr&gt; | chrom &lt;chr&gt; | start &lt;dbl&gt; | end &lt;dbl&gt; | readcount &lt;dbl&gt; | strand &lt;chr&gt; | usage_ratio &lt;dbl&gt; | usage_ratio_comparison &lt;dbl&gt; | cluster_counts &lt;dbl&gt; |\n",
       "|---|---|---|---|---|---|---|---|---|---|---|---|\n",
       "| 1 | WT |    100 | chr1_1051369_1051453_+    | chr1  |  1051369 |  1051453 |  76 | + | 0.3179916 | 1 |  76 |\n",
       "| 2 | WT |   1000 | chr1_12253826_12256333_+  | chr1  | 12253826 | 12256333 |  63 | + | 0.4012739 | 1 |  63 |\n",
       "| 3 | WT | 100002 | chr19_48446192_48446385_+ | chr19 | 48446192 | 48446385 | 295 | + | 0.9966216 | 1 | 295 |\n",
       "| 4 | WT | 100003 | chr19_48446502_48446681_+ | chr19 | 48446502 | 48446681 | 305 | + | 1.0000000 | 1 | 305 |\n",
       "| 5 | WT | 100004 | chr19_48446843_48450313_+ | chr19 | 48446843 | 48450313 | 363 | + | 1.0000000 | 1 | 363 |\n",
       "| 6 | WT | 100007 | chr19_48450526_48450666_+ | chr19 | 48450526 | 48450666 | 263 | + | 1.0000000 | 1 | 263 |\n",
       "\n"
      ],
      "text/plain": [
       "  experiment cluster_idx junction_id               chrom start    end     \n",
       "1 WT            100      chr1_1051369_1051453_+    chr1   1051369  1051453\n",
       "2 WT           1000      chr1_12253826_12256333_+  chr1  12253826 12256333\n",
       "3 WT         100002      chr19_48446192_48446385_+ chr19 48446192 48446385\n",
       "4 WT         100003      chr19_48446502_48446681_+ chr19 48446502 48446681\n",
       "5 WT         100004      chr19_48446843_48450313_+ chr19 48446843 48450313\n",
       "6 WT         100007      chr19_48450526_48450666_+ chr19 48450526 48450666\n",
       "  readcount strand usage_ratio usage_ratio_comparison cluster_counts\n",
       "1  76       +      0.3179916   1                       76           \n",
       "2  63       +      0.4012739   1                       63           \n",
       "3 295       +      0.9966216   1                      295           \n",
       "4 305       +      1.0000000   1                      305           \n",
       "5 363       +      1.0000000   1                      363           \n",
       "6 263       +      1.0000000   1                      263           "
      ]
     },
     "metadata": {},
     "output_type": "display_data"
    }
   ],
   "source": [
    "head(filter(minicutter_output, experiment == \"WT\"))"
   ]
  },
  {
   "cell_type": "code",
   "execution_count": 37,
   "metadata": {
    "vscode": {
     "languageId": "r"
    }
   },
   "outputs": [
    {
     "data": {
      "text/html": [
       "<table class=\"dataframe\">\n",
       "<caption>A data.frame: 6 × 11</caption>\n",
       "<thead>\n",
       "\t<tr><th></th><th scope=col>experiment</th><th scope=col>cluster_idx</th><th scope=col>junction_id</th><th scope=col>chrom</th><th scope=col>start</th><th scope=col>end</th><th scope=col>readcount</th><th scope=col>strand</th><th scope=col>usage_ratio</th><th scope=col>usage_ratio_comparison</th><th scope=col>cluster_counts</th></tr>\n",
       "\t<tr><th></th><th scope=col>&lt;chr&gt;</th><th scope=col>&lt;dbl&gt;</th><th scope=col>&lt;chr&gt;</th><th scope=col>&lt;chr&gt;</th><th scope=col>&lt;dbl&gt;</th><th scope=col>&lt;dbl&gt;</th><th scope=col>&lt;dbl&gt;</th><th scope=col>&lt;chr&gt;</th><th scope=col>&lt;dbl&gt;</th><th scope=col>&lt;dbl&gt;</th><th scope=col>&lt;dbl&gt;</th></tr>\n",
       "</thead>\n",
       "<tbody>\n",
       "\t<tr><th scope=row>1</th><td>g3_208_rbfox2</td><td> 10000</td><td>chr1_19144091_19144786_-  </td><td>chr1</td><td> 19144091</td><td> 19144786</td><td>166</td><td>-</td><td>1.0000000</td><td>3.1272085</td><td>166</td></tr>\n",
       "\t<tr><th scope=row>2</th><td>g3_208_rbfox2</td><td>100004</td><td>chr2_102719207_102723700_-</td><td>chr2</td><td>102719207</td><td>102723700</td><td> 17</td><td>-</td><td>1.0000000</td><td>4.3076923</td><td> 17</td></tr>\n",
       "\t<tr><th scope=row>3</th><td>g3_208_rbfox2</td><td>100006</td><td>chr2_102723878_102726845_-</td><td>chr2</td><td>102723878</td><td>102726845</td><td>  4</td><td>-</td><td>0.1600000</td><td>1.4933333</td><td> 25</td></tr>\n",
       "\t<tr><th scope=row>4</th><td>g3_208_rbfox2</td><td>100006</td><td>chr2_102723909_102726845_-</td><td>chr2</td><td>102723909</td><td>102726845</td><td> 21</td><td>-</td><td>0.8400000</td><td>3.2441379</td><td> 25</td></tr>\n",
       "\t<tr><th scope=row>5</th><td>g3_208_rbfox2</td><td>100007</td><td>chr2_102726974_102731025_-</td><td>chr2</td><td>102726974</td><td>102731025</td><td> 19</td><td>-</td><td>1.0000000</td><td>2.8717949</td><td> 19</td></tr>\n",
       "\t<tr><th scope=row>6</th><td>g3_208_rbfox2</td><td>100008</td><td>chr2_102731068_102732322_-</td><td>chr2</td><td>102731068</td><td>102732322</td><td>  5</td><td>-</td><td>0.2380952</td><td>0.4095238</td><td> 13</td></tr>\n",
       "</tbody>\n",
       "</table>\n"
      ],
      "text/latex": [
       "A data.frame: 6 × 11\n",
       "\\begin{tabular}{r|lllllllllll}\n",
       "  & experiment & cluster\\_idx & junction\\_id & chrom & start & end & readcount & strand & usage\\_ratio & usage\\_ratio\\_comparison & cluster\\_counts\\\\\n",
       "  & <chr> & <dbl> & <chr> & <chr> & <dbl> & <dbl> & <dbl> & <chr> & <dbl> & <dbl> & <dbl>\\\\\n",
       "\\hline\n",
       "\t1 & g3\\_208\\_rbfox2 &  10000 & chr1\\_19144091\\_19144786\\_-   & chr1 &  19144091 &  19144786 & 166 & - & 1.0000000 & 3.1272085 & 166\\\\\n",
       "\t2 & g3\\_208\\_rbfox2 & 100004 & chr2\\_102719207\\_102723700\\_- & chr2 & 102719207 & 102723700 &  17 & - & 1.0000000 & 4.3076923 &  17\\\\\n",
       "\t3 & g3\\_208\\_rbfox2 & 100006 & chr2\\_102723878\\_102726845\\_- & chr2 & 102723878 & 102726845 &   4 & - & 0.1600000 & 1.4933333 &  25\\\\\n",
       "\t4 & g3\\_208\\_rbfox2 & 100006 & chr2\\_102723909\\_102726845\\_- & chr2 & 102723909 & 102726845 &  21 & - & 0.8400000 & 3.2441379 &  25\\\\\n",
       "\t5 & g3\\_208\\_rbfox2 & 100007 & chr2\\_102726974\\_102731025\\_- & chr2 & 102726974 & 102731025 &  19 & - & 1.0000000 & 2.8717949 &  19\\\\\n",
       "\t6 & g3\\_208\\_rbfox2 & 100008 & chr2\\_102731068\\_102732322\\_- & chr2 & 102731068 & 102732322 &   5 & - & 0.2380952 & 0.4095238 &  13\\\\\n",
       "\\end{tabular}\n"
      ],
      "text/markdown": [
       "\n",
       "A data.frame: 6 × 11\n",
       "\n",
       "| <!--/--> | experiment &lt;chr&gt; | cluster_idx &lt;dbl&gt; | junction_id &lt;chr&gt; | chrom &lt;chr&gt; | start &lt;dbl&gt; | end &lt;dbl&gt; | readcount &lt;dbl&gt; | strand &lt;chr&gt; | usage_ratio &lt;dbl&gt; | usage_ratio_comparison &lt;dbl&gt; | cluster_counts &lt;dbl&gt; |\n",
       "|---|---|---|---|---|---|---|---|---|---|---|---|\n",
       "| 1 | g3_208_rbfox2 |  10000 | chr1_19144091_19144786_-   | chr1 |  19144091 |  19144786 | 166 | - | 1.0000000 | 3.1272085 | 166 |\n",
       "| 2 | g3_208_rbfox2 | 100004 | chr2_102719207_102723700_- | chr2 | 102719207 | 102723700 |  17 | - | 1.0000000 | 4.3076923 |  17 |\n",
       "| 3 | g3_208_rbfox2 | 100006 | chr2_102723878_102726845_- | chr2 | 102723878 | 102726845 |   4 | - | 0.1600000 | 1.4933333 |  25 |\n",
       "| 4 | g3_208_rbfox2 | 100006 | chr2_102723909_102726845_- | chr2 | 102723909 | 102726845 |  21 | - | 0.8400000 | 3.2441379 |  25 |\n",
       "| 5 | g3_208_rbfox2 | 100007 | chr2_102726974_102731025_- | chr2 | 102726974 | 102731025 |  19 | - | 1.0000000 | 2.8717949 |  19 |\n",
       "| 6 | g3_208_rbfox2 | 100008 | chr2_102731068_102732322_- | chr2 | 102731068 | 102732322 |   5 | - | 0.2380952 | 0.4095238 |  13 |\n",
       "\n"
      ],
      "text/plain": [
       "  experiment    cluster_idx junction_id                chrom start    \n",
       "1 g3_208_rbfox2  10000      chr1_19144091_19144786_-   chr1   19144091\n",
       "2 g3_208_rbfox2 100004      chr2_102719207_102723700_- chr2  102719207\n",
       "3 g3_208_rbfox2 100006      chr2_102723878_102726845_- chr2  102723878\n",
       "4 g3_208_rbfox2 100006      chr2_102723909_102726845_- chr2  102723909\n",
       "5 g3_208_rbfox2 100007      chr2_102726974_102731025_- chr2  102726974\n",
       "6 g3_208_rbfox2 100008      chr2_102731068_102732322_- chr2  102731068\n",
       "  end       readcount strand usage_ratio usage_ratio_comparison cluster_counts\n",
       "1  19144786 166       -      1.0000000   3.1272085              166           \n",
       "2 102723700  17       -      1.0000000   4.3076923               17           \n",
       "3 102726845   4       -      0.1600000   1.4933333               25           \n",
       "4 102726845  21       -      0.8400000   3.2441379               25           \n",
       "5 102731025  19       -      1.0000000   2.8717949               19           \n",
       "6 102732322   5       -      0.2380952   0.4095238               13           "
      ]
     },
     "metadata": {},
     "output_type": "display_data"
    }
   ],
   "source": [
    "head(minicutter_output)"
   ]
  },
  {
   "cell_type": "code",
   "execution_count": 39,
   "metadata": {
    "vscode": {
     "languageId": "r"
    }
   },
   "outputs": [],
   "source": [
    "# save as .rda file \n",
    "save(minicutter_output, file=\"RBFOX2_KD_DS_analysis.rda\")"
   ]
  },
  {
   "cell_type": "code",
   "execution_count": 40,
   "metadata": {
    "vscode": {
     "languageId": "r"
    }
   },
   "outputs": [
    {
     "data": {
      "text/html": [
       "'/gpfs/commons/home/mschertzer/for_Karin'"
      ],
      "text/latex": [
       "'/gpfs/commons/home/mschertzer/for\\_Karin'"
      ],
      "text/markdown": [
       "'/gpfs/commons/home/mschertzer/for_Karin'"
      ],
      "text/plain": [
       "[1] \"/gpfs/commons/home/mschertzer/for_Karin\""
      ]
     },
     "metadata": {},
     "output_type": "display_data"
    }
   ],
   "source": [
    "getwd()"
   ]
  },
  {
   "cell_type": "code",
   "execution_count": null,
   "metadata": {
    "vscode": {
     "languageId": "r"
    }
   },
   "outputs": [],
   "source": [
    "DS_juncs = filter(DS_juncs, !(experiment == \"WT\"))"
   ]
  },
  {
   "cell_type": "code",
   "execution_count": null,
   "metadata": {
    "vscode": {
     "languageId": "r"
    }
   },
   "outputs": [],
   "source": [
    "# make one venn diagram for junctions with usage_ratio > 1.75 and one for junctions with usage_ratio < 0.75 to see which are consistently going up or down\n",
    "DS_up = filter(DS_juncs, usage_ratio > 2)\n",
    "DS_down = filter(DS_juncs, usage_ratio < 0.5)"
   ]
  },
  {
   "cell_type": "code",
   "execution_count": null,
   "metadata": {
    "vscode": {
     "languageId": "r"
    }
   },
   "outputs": [],
   "source": [
    "filter(minicutter_output, junction_id == \"chr19_48638144_48638888_-\")"
   ]
  },
  {
   "cell_type": "code",
   "execution_count": null,
   "metadata": {
    "vscode": {
     "languageId": "r"
    }
   },
   "outputs": [],
   "source": [
    "# Step 2: Extract the Unique Junction IDs\n",
    "junction_ids_condition1 <- unique(filter(DS_up, experiment == \"g3_208_rbfox2\")$junction_id)\n",
    "junction_ids_condition2 <- unique(filter(DS_up, experiment == \"g3_209_rbfox2\")$junction_id)\n",
    "junction_ids_condition3 <- unique(filter(DS_up, experiment == \"total_rbfox2\")$junction_id)\n",
    "\n",
    "venn_result <- venn.diagram(\n",
    "  x = list(g3_208_rbfox2 = junction_ids_condition1,\n",
    "           g3_209_rbfox2 = junction_ids_condition2,\n",
    "           total_rbfox2 = junction_ids_condition3),\n",
    "           fill = c(\"dodgerblue\", \"goldenrod1\", \"darkorange1\"),alpha = 0.25,\n",
    "  filename = NULL, main = \"Venn diagram for junctions with usage_ratios > 2 compared to WT\")\n",
    "\n",
    "grid.draw(venn_result)"
   ]
  },
  {
   "cell_type": "code",
   "execution_count": null,
   "metadata": {
    "vscode": {
     "languageId": "r"
    }
   },
   "outputs": [],
   "source": [
    "# Step 2: Extract the Unique Junction IDs\n",
    "junction_ids_condition1 <- unique(filter(DS_down, experiment == \"g3_208_rbfox2\")$junction_id)\n",
    "junction_ids_condition2 <- unique(filter(DS_down, experiment == \"g3_209_rbfox2\")$junction_id)\n",
    "junction_ids_condition3 <- unique(filter(DS_down, experiment == \"total_rbfox2\")$junction_id)\n",
    "\n",
    "venn_result <- venn.diagram(\n",
    "  x = list(g3_208_rbfox2 = junction_ids_condition1,\n",
    "           g3_209_rbfox2 = junction_ids_condition2,\n",
    "           total_rbfox2 = junction_ids_condition3),\n",
    "           fill = c(\"dodgerblue\", \"goldenrod1\", \"darkorange1\"),alpha = 0.25,\n",
    "  filename = NULL, main=\"Venn diagram for junctions with usage_ratios < 0.5 compared to WT\")\n",
    "\n",
    "  grid.draw(venn_result)"
   ]
  }
 ],
 "metadata": {
  "kernelspec": {
   "display_name": "R",
   "language": "R",
   "name": "ir"
  },
  "language_info": {
   "codemirror_mode": "r",
   "file_extension": ".r",
   "mimetype": "text/x-r-source",
   "name": "R",
   "pygments_lexer": "r",
   "version": "4.2.2"
  },
  "orig_nbformat": 4
 },
 "nbformat": 4,
 "nbformat_minor": 2
}
