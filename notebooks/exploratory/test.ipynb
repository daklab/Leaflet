{
 "cells": [
  {
   "cell_type": "code",
   "execution_count": 8,
   "metadata": {},
   "outputs": [],
   "source": [
    "# create a class\n",
    "class Room:\n",
    "    # constructor function    \n",
    "    def __init__(self, length, breadth):\n",
    "        self.length = length\n",
    "        self.breadth = breadth\n",
    "\n",
    "    # method to calculate area\n",
    "    def calculate_area(self):\n",
    "        print(\"Area of Room =\", self.length * self.breadth)\n",
    "\n",
    "    # method to calculate perimeter\n",
    "    def calculate_perimeter(self):\n",
    "        print(\"Perimeter of Room =\", 2 * (self.length + self.breadth))\n",
    "\n",
    "    # method that uses both area functiona and perimeter function\n",
    "    def calculate_area_and_perimeter(self):\n",
    "        self.calculate_area()\n",
    "        self.calculate_perimeter()"
   ]
  },
  {
   "cell_type": "code",
   "execution_count": 9,
   "metadata": {},
   "outputs": [],
   "source": [
    "# create an object of the class\n",
    "room1 = Room(10, 20)"
   ]
  },
  {
   "cell_type": "code",
   "execution_count": 10,
   "metadata": {},
   "outputs": [
    {
     "name": "stdout",
     "output_type": "stream",
     "text": [
      "Area of Room = 200\n",
      "Perimeter of Room = 60\n"
     ]
    }
   ],
   "source": [
    "room1.calculate_area_and_perimeter()"
   ]
  }
 ],
 "metadata": {
  "kernelspec": {
   "display_name": "leafcutter-sc",
   "language": "python",
   "name": "python3"
  },
  "language_info": {
   "codemirror_mode": {
    "name": "ipython",
    "version": 3
   },
   "file_extension": ".py",
   "mimetype": "text/x-python",
   "name": "python",
   "nbconvert_exporter": "python",
   "pygments_lexer": "ipython3",
   "version": "3.9.16"
  },
  "orig_nbformat": 4
 },
 "nbformat": 4,
 "nbformat_minor": 2
}
