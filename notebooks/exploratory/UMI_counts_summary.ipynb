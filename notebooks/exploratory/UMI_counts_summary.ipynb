{
 "cells": [
  {
   "cell_type": "code",
   "execution_count": null,
   "metadata": {
    "vscode": {
     "languageId": "r"
    }
   },
   "outputs": [],
   "source": [
    "library(data.table)\n",
    "library(dplyr)\n",
    "library(ggpubr)\n",
    "library(plyr)"
   ]
  },
  {
   "cell_type": "code",
   "execution_count": null,
   "metadata": {
    "vscode": {
     "languageId": "r"
    }
   },
   "outputs": [],
   "source": [
    "counts = \"/gpfs/commons/groups/knowles_lab/Karin/parse-pbmc-leafcutter/bam_process/bam_splits\""
   ]
  },
  {
   "cell_type": "code",
   "execution_count": null,
   "metadata": {
    "vscode": {
     "languageId": "r"
    }
   },
   "outputs": [],
   "source": [
    "files=list.files(counts, pattern=\".umi_counts.tsv.gz\")"
   ]
  },
  {
   "cell_type": "code",
   "execution_count": null,
   "metadata": {
    "vscode": {
     "languageId": "r"
    }
   },
   "outputs": [],
   "source": [
    "get_file = function(file_name){\n",
    "    file_path = paste0(counts, \"/\", file_name)\n",
    "    file_name = strsplit(file_name, \".umi_counts.tsv.gz\")[[1]][1]\n",
    "    f=fread(file_path, sep=\"\\t\", header=TRUE)\n",
    "    f$sample = file_name\n",
    "    return(f)\n",
    "}\n",
    "\n",
    "all_counts = ldply(llply(files, get_file, .progress=\"text\"), data.table)"
   ]
  }
 ],
 "metadata": {
  "kernelspec": {
   "display_name": "R",
   "language": "R",
   "name": "ir"
  },
  "language_info": {
   "codemirror_mode": "r",
   "file_extension": ".r",
   "mimetype": "text/x-r-source",
   "name": "R",
   "pygments_lexer": "r",
   "version": "4.2.2"
  },
  "orig_nbformat": 4
 },
 "nbformat": 4,
 "nbformat_minor": 2
}
