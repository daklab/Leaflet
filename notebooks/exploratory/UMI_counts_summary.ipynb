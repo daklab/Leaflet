{
 "cells": [
  {
   "cell_type": "code",
   "execution_count": 1,
   "metadata": {
    "vscode": {
     "languageId": "r"
    }
   },
   "outputs": [
    {
     "name": "stderr",
     "output_type": "stream",
     "text": [
      "\n",
      "Attaching package: ‘dplyr’\n",
      "\n",
      "\n",
      "The following objects are masked from ‘package:data.table’:\n",
      "\n",
      "    between, first, last\n",
      "\n",
      "\n",
      "The following objects are masked from ‘package:stats’:\n",
      "\n",
      "    filter, lag\n",
      "\n",
      "\n",
      "The following objects are masked from ‘package:base’:\n",
      "\n",
      "    intersect, setdiff, setequal, union\n",
      "\n",
      "\n",
      "Loading required package: ggplot2\n",
      "\n",
      "------------------------------------------------------------------------------\n",
      "\n",
      "You have loaded plyr after dplyr - this is likely to cause problems.\n",
      "If you need functions from both plyr and dplyr, please load plyr first, then dplyr:\n",
      "library(plyr); library(dplyr)\n",
      "\n",
      "------------------------------------------------------------------------------\n",
      "\n",
      "\n",
      "Attaching package: ‘plyr’\n",
      "\n",
      "\n",
      "The following object is masked from ‘package:ggpubr’:\n",
      "\n",
      "    mutate\n",
      "\n",
      "\n",
      "The following objects are masked from ‘package:dplyr’:\n",
      "\n",
      "    arrange, count, desc, failwith, id, mutate, rename, summarise,\n",
      "    summarize\n",
      "\n",
      "\n"
     ]
    }
   ],
   "source": [
    "library(data.table)\n",
    "library(dplyr)\n",
    "library(ggpubr)\n",
    "library(plyr)"
   ]
  },
  {
   "cell_type": "code",
   "execution_count": 2,
   "metadata": {
    "vscode": {
     "languageId": "r"
    }
   },
   "outputs": [],
   "source": [
    "counts = \"/gpfs/commons/groups/knowles_lab/Karin/parse-pbmc-leafcutter/bam_process/bam_splits\""
   ]
  },
  {
   "cell_type": "code",
   "execution_count": 3,
   "metadata": {
    "vscode": {
     "languageId": "r"
    }
   },
   "outputs": [],
   "source": [
    "files=list.files(counts, pattern=\".umi_counts.tsv.gz\")"
   ]
  },
  {
   "cell_type": "code",
   "execution_count": 4,
   "metadata": {
    "vscode": {
     "languageId": "r"
    }
   },
   "outputs": [
    {
     "name": "stdout",
     "output_type": "stream",
     "text": [
      "  |                                                                      |   0%"
     ]
    },
    {
     "name": "stderr",
     "output_type": "stream",
     "text": [
      "Warning message in fread(file_path, sep = \"\\t\", header = TRUE):\n",
      "“Discarded single-line footer: <<GGTGGAGC_A>>”\n"
     ]
    },
    {
     "name": "stdout",
     "output_type": "stream",
     "text": [
      "  |=======                                                               |  10%"
     ]
    },
    {
     "name": "stderr",
     "output_type": "stream",
     "text": [
      "Warning message in fread(file_path, sep = \"\\t\", header = TRUE):\n",
      "“Discarded single-line footer: <<GGTGGAGC_AAGGTACA_GAATCTGA__ATGTACTTTT__40_17_46__T\t5\t176453313\tNA\tA>>”\n"
     ]
    },
    {
     "name": "stdout",
     "output_type": "stream",
     "text": [
      "  |==============                                                        |  20%"
     ]
    },
    {
     "name": "stderr",
     "output_type": "stream",
     "text": [
      "Warning message in fread(file_path, sep = \"\\t\", header = TRUE):\n",
      "“Discarded single-line footer: <<TAATACGC_CCGTGAGA_ACAAGCTA__GT>>”\n"
     ]
    },
    {
     "name": "stdout",
     "output_type": "stream",
     "text": [
      "  |=====================                                                 |  30%"
     ]
    },
    {
     "ename": "ERROR",
     "evalue": "Error in fread(file_path, sep = \"\\t\", header = TRUE): File '/gpfs/commons/groups/knowles_lab/Karin/parse-pbmc-leafcutter/bam_process/bam_splits/DC.umi_counts.tsv.gz' does not exist or is non-readable. getwd()=='/gpfs/commons/home/kisaev/leafcutter-sc/notebooks/exploratory'\n",
     "output_type": "error",
     "traceback": [
      "Error in fread(file_path, sep = \"\\t\", header = TRUE): File '/gpfs/commons/groups/knowles_lab/Karin/parse-pbmc-leafcutter/bam_process/bam_splits/DC.umi_counts.tsv.gz' does not exist or is non-readable. getwd()=='/gpfs/commons/home/kisaev/leafcutter-sc/notebooks/exploratory'\nTraceback:\n",
      "1. ldply(llply(files, get_file, .progress = \"text\"), data.table)",
      "2. llply(files, get_file, .progress = \"text\")",
      "3. loop_apply(n, do.ply)",
      "4. (function (i) \n . {\n .     piece <- pieces[[i]]\n .     if (.inform) {\n .         res <- try(.fun(piece, ...))\n .         if (inherits(res, \"try-error\")) {\n .             piece <- paste(utils::capture.output(print(piece)), \n .                 collapse = \"\\n\")\n .             stop(\"with piece \", i, \": \\n\", piece, call. = FALSE)\n .         }\n .     }\n .     else {\n .         res <- .fun(piece, ...)\n .     }\n .     progress$step()\n .     res\n . })(4L)",
      "5. .fun(piece, ...)",
      "6. fread(file_path, sep = \"\\t\", header = TRUE)   # at line 4 of file <text>",
      "7. stop(\"File '\", file, \"' does not exist or is non-readable. getwd()=='\", \n .     getwd(), \"'\")"
     ]
    },
    {
     "name": "stdout",
     "output_type": "stream",
     "text": [
      "\n"
     ]
    }
   ],
   "source": [
    "get_file = function(file_name){\n",
    "    file_path = paste0(counts, \"/\", file_name)\n",
    "    file_name = strsplit(file_name, \".umi_counts.tsv.gz\")[[1]][1]\n",
    "    f=fread(file_path, sep=\"\\t\", header=TRUE)\n",
    "    f$sample = file_name\n",
    "    return(f)\n",
    "}\n",
    "\n",
    "all_counts = ldply(llply(files, get_file, .progress=\"text\"), data.table)"
   ]
  }
 ],
 "metadata": {
  "kernelspec": {
   "display_name": "R",
   "language": "R",
   "name": "ir"
  },
  "language_info": {
   "codemirror_mode": "r",
   "file_extension": ".r",
   "mimetype": "text/x-r-source",
   "name": "R",
   "pygments_lexer": "r",
   "version": "4.2.2"
  },
  "orig_nbformat": 4
 },
 "nbformat": 4,
 "nbformat_minor": 2
}
