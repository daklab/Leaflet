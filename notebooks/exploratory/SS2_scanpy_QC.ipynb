{
 "cells": [
  {
   "cell_type": "code",
   "execution_count": 1,
   "metadata": {},
   "outputs": [],
   "source": [
    "import scanpy as sc # import scanpy to handle our AnnData \n",
    "import pandas as pd # import pandas to handle dataframes\n",
    "import matplotlib.pyplot as plt # import matplotlib to visualize our qc metrics\n",
    "\n",
    "# magic incantation to help matplotlib work with our jupyter notebook\n",
    "%matplotlib inline "
   ]
  },
  {
   "cell_type": "code",
   "execution_count": null,
   "metadata": {},
   "outputs": [],
   "source": [
    "## read in the Anndata object\n",
    "adata = sc.read('../data/brain_raw.h5ad')"
   ]
  },
  {
   "cell_type": "code",
   "execution_count": null,
   "metadata": {},
   "outputs": [],
   "source": [
    "qc = sc.pp.calculate_qc_metrics(adata, qc_vars = ['ERCC'])# this returns a tuple of (cell_qc_dataframe, gene_qc_dataframe)\n",
    "                                 # ask for the percentage of reads from spike ins\n",
    "                                \n",
    "cell_qc_dataframe = qc[0]\n",
    "gene_qc_dataframe = qc[1]\n",
    "\n",
    "print('This is the cell quality control dataframe:')\n",
    "print(cell_qc_dataframe.head(2))\n",
    "\n",
    "print('\\n\\n\\n\\nThis is the gene quality control dataframe:')\n",
    "print(gene_qc_dataframe.head(2))"
   ]
  },
  {
   "cell_type": "markdown",
   "metadata": {},
   "source": [
    "### Library size \n",
    "First, we consider the total number of reads detected per cell. Cells with few reads are likely to have been broken or failed to capture a cell, and should thus be removed."
   ]
  },
  {
   "cell_type": "code",
   "execution_count": null,
   "metadata": {},
   "outputs": [],
   "source": [
    "plt.hist(cell_qc_dataframe['total_counts'], bins=1000)\n",
    "plt.xlabel('Total counts')\n",
    "plt.ylabel('N cells')\n",
    "plt.axvline(50000, color='red')\n",
    "# plt.xlim(0,1e6) # Try plotting with and without scaling the x-axis. When is this helpful?"
   ]
  },
  {
   "cell_type": "markdown",
   "metadata": {},
   "source": [
    "### Detected genes \n",
    "In addition to ensuring sufficient sequencing depth for each sample, we also want to make sure that the reads are distributed across the transcriptome. Thus, we count the total number of unique genes detected in each sample.\n",
    "\n",
    "Between ~1,000-5,000 detected genes is typical for smartseq2 data. However, this varies by experimental protocol and sequencing depth. The most notable feature in the above plot is the little peak on the left hand side of the distribution. If detection rates were equal across the cells then the distribution should be approximately normal. Thus, we will remove those cells in the tail of the distribution (fewer than ~1000 detected genes)."
   ]
  },
  {
   "cell_type": "markdown",
   "metadata": {},
   "source": [
    "### Spike-ins \n",
    "Another measure of cell quality is the ratio between ERCC spike-in RNAs and endogenous RNAs. This ratio can be used to estimate the total amount of RNA in the captured cells. Cells with a high level of spike-in RNAs had low starting amounts of RNA, likely due to the cell being dead or stressed which may result in the RNA being degraded."
   ]
  },
  {
   "cell_type": "markdown",
   "metadata": {},
   "source": [
    "plt.hist(cell_qc_dataframe['pct_counts_ERCC'], bins=1000)\n",
    "plt.xlabel('Percent counts ERCC')\n",
    "plt.ylabel('N cells')\n",
    "plt.axvline(10, color='red')"
   ]
  },
  {
   "cell_type": "markdown",
   "metadata": {},
   "source": [
    "Placing a threshold is always a judgement call. Here, the majority of cells have less than 10% ERCC counts, but there's a long tail of cells that have very high spike-in counts; these are likely dead cells and should be removed."
   ]
  },
  {
   "cell_type": "markdown",
   "metadata": {},
   "source": [
    "low_ERCC_mask = (cell_qc_dataframe['pct_counts_ERCC'] < 10)\n",
    "adata = adata[low_ERCC_mask]"
   ]
  },
  {
   "cell_type": "code",
   "execution_count": null,
   "metadata": {},
   "outputs": [],
   "source": [
    "print('Started with: \\n', adata)\n",
    "sc.pp.filter_cells(adata, min_genes = 750)\n",
    "print('Finished with: \\n', adata)"
   ]
  },
  {
   "cell_type": "markdown",
   "metadata": {},
   "source": [
    "### Quality control for genes \n",
    "It is typically a good idea to remove genes whose expression level is considered \"undetectable\". We define a gene as detectable if at least two cells contain more than 5 reads from the gene. However, the threshold strongly depends on the sequencing depth. It is important to keep in mind that genes must be filtered after cell filtering since some genes may only be detected in poor quality cells."
   ]
  },
  {
   "cell_type": "markdown",
   "metadata": {},
   "source": [
    "plt.hist(gene_qc_dataframe['n_cells_by_counts'], bins=1000)\n",
    "plt.xlabel('N cells expressing > 0')\n",
    "plt.ylabel('log(N genes)') # for visual clarity\n",
    "plt.axvline(2, color='red')\n",
    "plt.yscale('log') "
   ]
  },
  {
   "cell_type": "code",
   "execution_count": null,
   "metadata": {},
   "outputs": [],
   "source": [
    "plt.hist(gene_qc_dataframe['total_counts'], bins=1000)\n",
    "plt.xlabel('Total counts')\n",
    "plt.ylabel('log(N genes)') # for visual clarity\n",
    "plt.yscale('log') \n",
    "plt.axvline(10, color='red')"
   ]
  },
  {
   "cell_type": "code",
   "execution_count": null,
   "metadata": {},
   "outputs": [],
   "source": [
    "print('Started with: \\n', adata)\n",
    "sc.pp.filter_genes(adata, min_cells = 2)\n",
    "sc.pp.filter_genes(adata, min_counts = 10)\n",
    "print('Finished with: \\n', adata)"
   ]
  },
  {
   "cell_type": "code",
   "execution_count": null,
   "metadata": {},
   "outputs": [],
   "source": [
    "# print(adata) ## Final dimensions of the QC'd dataset\n",
    "adata.write('../data/brain_qc.h5ad')"
   ]
  },
  {
   "cell_type": "markdown",
   "metadata": {},
   "source": [
    "### PCA and clustering"
   ]
  },
  {
   "cell_type": "markdown",
   "metadata": {},
   "source": [
    "sc.pp.pca(adata)\n",
    "sc.pl.pca_overview(adata, color='mouse.id')"
   ]
  },
  {
   "cell_type": "markdown",
   "metadata": {},
   "source": [
    "If very linear first PC (which captures the most variation in the dataset). This suggests that we have outliers in our data."
   ]
  },
  {
   "cell_type": "markdown",
   "metadata": {},
   "source": [
    "### Normalizing cell library size \n",
    "One factor that contributes variation to single-cell RNA-sequencing experiments is called \"Library size variation\". Library sizes vary for many reasons, including natural differences in cell size, variation of RNA capture, variation in the efficiency of PCR amplification used to generate enough RNA to create the sequencing library. In addition, because scRNA-seq data is often sequenced on highly multiplexed platforms, and the total reads which are derived from each cell may differ substantially."
   ]
  },
  {
   "cell_type": "markdown",
   "metadata": {},
   "source": []
  }
 ],
 "metadata": {
  "kernelspec": {
   "display_name": "leafcutter-sc",
   "language": "python",
   "name": "python3"
  },
  "language_info": {
   "codemirror_mode": {
    "name": "ipython",
    "version": 3
   },
   "file_extension": ".py",
   "mimetype": "text/x-python",
   "name": "python",
   "nbconvert_exporter": "python",
   "pygments_lexer": "ipython3",
   "version": "3.9.16"
  },
  "orig_nbformat": 4
 },
 "nbformat": 4,
 "nbformat_minor": 2
}
