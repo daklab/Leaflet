{
 "cells": [
  {
   "cell_type": "code",
   "execution_count": 1,
   "metadata": {},
   "outputs": [
    {
     "data": {
      "text/plain": [
       "<module 'cell_state_asign_consistency' from '/gpfs/commons/home/kisaev/Leaflet-private/src/beta-binomial-mix/cell_state_asign_consistency.py'>"
      ]
     },
     "execution_count": 1,
     "metadata": {},
     "output_type": "execute_result"
    }
   ],
   "source": [
    "import sys\n",
    "import numpy as np\n",
    "import torch \n",
    "\n",
    "# still do preprocessing in scipy\n",
    "import scipy.sparse as sp\n",
    "from sklearn.impute import SimpleImputer\n",
    "from sklearn.decomposition import PCA\n",
    "from sklearn.metrics import silhouette_score\n",
    "from importlib import reload\n",
    "# get UMAP\n",
    "import umap\n",
    "import seaborn as sns\n",
    "import matplotlib.pyplot as plt\n",
    "import pandas as pd\n",
    "import scanpy as sc\n",
    "\n",
    "# import factor model from beta-dirichlet-factor\n",
    "sys.path.append('/gpfs/commons/home/kisaev/Leaflet-private/src/beta-binomial-mix')\n",
    "import betabinomo_mix_singlecells as bbmix\n",
    "import cell_state_asign_consistency as cellassign\n",
    "\n",
    "reload(bbmix)\n",
    "reload(cellassign)"
   ]
  },
  {
   "cell_type": "code",
   "execution_count": 2,
   "metadata": {},
   "outputs": [],
   "source": [
    "# Append this directory to sys.path\n",
    "sys.path.append('/gpfs/commons/home/kisaev/Leaflet-private/src/clustering/')\n",
    "import Leaflet_load_cluster_data_03 as llc \n",
    "\n",
    "# append utils \n",
    "sys.path.append('/gpfs/commons/home/kisaev/Leaflet-private/src/utils/')\n",
    "import helpers as ut\n",
    "import visualization as vis"
   ]
  },
  {
   "cell_type": "markdown",
   "metadata": {},
   "source": [
    "### Mouse mammary gland data "
   ]
  },
  {
   "cell_type": "code",
   "execution_count": 7,
   "metadata": {},
   "outputs": [],
   "source": [
    "use_metadata = False\n",
    "# organ=\"Liver\"\n",
    "# load any metadata that is available so that we can run differential splicing analysis between specific cell types\n",
    "# adata = sc.read_h5ad(\"/gpfs/commons/datasets/controlled/CZI/tabula-sapiens/TS_figshare/TabulaSapiens.h5ad\")\n",
    "# metadata = adata.obs \n",
    "# filter first by organ_tissue\n",
    "# metadata = metadata[metadata[\"organ_tissue\"]==organ]\n",
    "# metadata = metadata[[\"organ_tissue\", \"free_annotation\", \"cell_ontology_class\", \"compartment\"]].drop_duplicates()\n",
    "# drop index \n",
    "# metadata = metadata.reset_index(drop=True)\n",
    "# rename cell_ontology_class to cell_type \n",
    "# metadata = metadata.rename(columns={\"cell_ontology_class\" : \"cell_type\"})\n",
    "# metadata.head()\n",
    "# use_metadata = True"
   ]
  },
  {
   "cell_type": "code",
   "execution_count": 3,
   "metadata": {},
   "outputs": [
    {
     "name": "stdout",
     "output_type": "stream",
     "text": [
      "cpu\n"
     ]
    }
   ],
   "source": [
    "# set device to cuda if available \n",
    "device = torch.device('cuda' if torch.cuda.is_available() else 'cpu')\n",
    "print(device)\n",
    "\n",
    "# set float type to torch.float to save memory\n",
    "float_type = { \n",
    "    \"device\" : device, \n",
    "    \"dtype\" : torch.float, \n",
    "}"
   ]
  },
  {
   "cell_type": "code",
   "execution_count": 8,
   "metadata": {},
   "outputs": [
    {
     "name": "stdout",
     "output_type": "stream",
     "text": [
      "Reading in data from folder ...\n",
      "/gpfs/commons/groups/knowles_lab/Karin/Leaflet-analysis-WD/TabulaMurisBrain/model_input/Mammary_Gland/\n",
      "Finished reading in data from folder ...\n",
      "Removing singletons ...\n",
      "Number of junctions before removing singletons:  157665\n",
      "Number of junctions after removing singletons:  47015\n",
      "The number of unique cell types in the data is:  4\n",
      "The number of unique cells in the data is:  2405\n",
      "The number of unique junctions in the data is:  47016\n",
      "The maximum junction count was initially:  251545\n",
      "156\n",
      "The maximum junction count is now:  9934\n",
      "The number of junctions in the data is:  45664\n",
      "The number of cells in the data is:  2405\n",
      "The number of cell types in the data is:  4\n",
      "The number of cells going into training data is:\n",
      "2405\n",
      "2405\n"
     ]
    }
   ],
   "source": [
    "# input_files_folder = '/gpfs/commons/projects/CZI-tabula-sapiens/Leaflet-Analysis/Leaflet-Intron-Clusters/Liver/'\n",
    "# input_files_folder = '/gpfs/commons/groups/knowles_lab/Karin/Leaflet-analysis-WD/TabulaMurisBrain/MLCB_Brain_true/FULL/'\n",
    "# input_files_folder = \"/gpfs/commons/groups/knowles_lab/Karin/Leaflet-analysis-WD/TabulaMurisBrain/model_input/\"\n",
    "input_files_folder = \"/gpfs/commons/groups/knowles_lab/Karin/Leaflet-analysis-WD/TabulaMurisBrain/model_input/Mammary_Gland/\"\n",
    "\n",
    "# convert data to Leaflet required input formats \n",
    "final_data, coo_counts_sparse, coo_cluster_sparse, cell_ids_conversion, junction_ids_conversion = llc.load_cluster_data(\n",
    "    input_folder = input_files_folder, max_intron_count=10000, remove_singletons=True, has_genes=\"yes\") \n",
    "\n",
    "# add cluster to final_data \n",
    "final_data = final_data.merge(junction_ids_conversion, on=[\"junction_id_index\"], how=\"left\")\n",
    "cell_index_tensor, junc_index_tensor, my_data = llc.make_torch_data(final_data, **float_type)"
   ]
  },
  {
   "cell_type": "code",
   "execution_count": 9,
   "metadata": {},
   "outputs": [],
   "source": [
    "# merge cell_ids_conversion with metadata to add more cell type information\n",
    "if use_metadata is True:\n",
    "    metadata[\"cell_type\"] = metadata[\"free_annotation\"]\n",
    "    cell_ids_conversion = cell_ids_conversion.merge(metadata, on=\"cell_type\")\n",
    "\n",
    "simple_data_human = final_data[[\"cell_id_index\", \"Cluster\", \"cell_type\", \"junction_id_index\", \"juncratio\", \"junc_count\", \"cluster_count\",  \"junction_id\", \"gene_id\"]]"
   ]
  },
  {
   "cell_type": "code",
   "execution_count": 10,
   "metadata": {},
   "outputs": [
    {
     "name": "stdout",
     "output_type": "stream",
     "text": [
      "The number of junctions is:  45664\n",
      "The number of intron clusters observed is:  11726\n",
      "The number of genes is:  7759\n"
     ]
    }
   ],
   "source": [
    "print(\"The number of junctions is: \", len(junction_ids_conversion))\n",
    "print(\"The number of intron clusters observed is: \", len(junction_ids_conversion.Cluster.unique()))\n",
    "print(\"The number of genes is: \", len(junction_ids_conversion.gene_id.unique()))"
   ]
  },
  {
   "cell_type": "code",
   "execution_count": 11,
   "metadata": {},
   "outputs": [
    {
     "name": "stdout",
     "output_type": "stream",
     "text": [
      "The number of cells going into training data is:\n",
      "2405\n",
      "2405\n"
     ]
    }
   ],
   "source": [
    "cell_index_tensor, junc_index_tensor, my_data = llc.make_torch_data(final_data, **float_type)"
   ]
  },
  {
   "cell_type": "code",
   "execution_count": 12,
   "metadata": {},
   "outputs": [
    {
     "data": {
      "text/plain": [
       "Mammary_Gland_basal_cell                                  1340\n",
       "Mammary_Gland_luminal_epithelial_cell_of_mammary_gland     578\n",
       "Mammary_Gland_stromal_cell                                 440\n",
       "Mammary_Gland_endothelial_cell                              47\n",
       "Name: cell_type, dtype: int64"
      ]
     },
     "execution_count": 12,
     "metadata": {},
     "output_type": "execute_result"
    }
   ],
   "source": [
    "cell_ids_conversion['cell_type'].value_counts()"
   ]
  },
  {
   "cell_type": "markdown",
   "metadata": {},
   "source": [
    "### Run Binomial mixture model!"
   ]
  },
  {
   "cell_type": "code",
   "execution_count": 14,
   "metadata": {},
   "outputs": [
    {
     "name": "stdout",
     "output_type": "stream",
     "text": [
      "4\n",
      "0.25\n"
     ]
    }
   ],
   "source": [
    "torch.manual_seed(42)\n",
    "np.random.seed(42)\n",
    "\n",
    "K = len(cell_ids_conversion.cell_type.unique())\n",
    "print(K)\n",
    "\n",
    "hypers = {\n",
    "    \"eta\" : 1./K, \n",
    "    \"alpha_prior\" : 1., \n",
    "    \"pi_prior\" : 1.\n",
    "}\n",
    "\n",
    "print(hypers[\"eta\"])"
   ]
  },
  {
   "cell_type": "code",
   "execution_count": 15,
   "metadata": {},
   "outputs": [
    {
     "data": {
      "text/html": [
       "<div>\n",
       "<style scoped>\n",
       "    .dataframe tbody tr th:only-of-type {\n",
       "        vertical-align: middle;\n",
       "    }\n",
       "\n",
       "    .dataframe tbody tr th {\n",
       "        vertical-align: top;\n",
       "    }\n",
       "\n",
       "    .dataframe thead th {\n",
       "        text-align: right;\n",
       "    }\n",
       "</style>\n",
       "<table border=\"1\" class=\"dataframe\">\n",
       "  <thead>\n",
       "    <tr style=\"text-align: right;\">\n",
       "      <th></th>\n",
       "      <th>cell_type</th>\n",
       "      <th>cell_type_index</th>\n",
       "    </tr>\n",
       "  </thead>\n",
       "  <tbody>\n",
       "    <tr>\n",
       "      <th>0</th>\n",
       "      <td>Mammary_Gland_basal_cell</td>\n",
       "      <td>0</td>\n",
       "    </tr>\n",
       "    <tr>\n",
       "      <th>1</th>\n",
       "      <td>Mammary_Gland_endothelial_cell</td>\n",
       "      <td>1</td>\n",
       "    </tr>\n",
       "    <tr>\n",
       "      <th>2</th>\n",
       "      <td>Mammary_Gland_luminal_epithelial_cell_of_mamma...</td>\n",
       "      <td>2</td>\n",
       "    </tr>\n",
       "    <tr>\n",
       "      <th>3</th>\n",
       "      <td>Mammary_Gland_stromal_cell</td>\n",
       "      <td>3</td>\n",
       "    </tr>\n",
       "  </tbody>\n",
       "</table>\n",
       "</div>"
      ],
      "text/plain": [
       "                                           cell_type  cell_type_index\n",
       "0                           Mammary_Gland_basal_cell                0\n",
       "1                     Mammary_Gland_endothelial_cell                1\n",
       "2  Mammary_Gland_luminal_epithelial_cell_of_mamma...                2\n",
       "3                         Mammary_Gland_stromal_cell                3"
      ]
     },
     "execution_count": 15,
     "metadata": {},
     "output_type": "execute_result"
    }
   ],
   "source": [
    "init_labels = cell_ids_conversion[\"cell_type\"]\n",
    "# Set GAMMA to dummy values based on the initial labels\n",
    "cell_type_dummy = pd.get_dummies(init_labels)\n",
    "cell_type_dummy_columns = cell_type_dummy.columns\n",
    "# make dataframe of cell_type_dummy_columns and index from 0 to len(cell_type_dummy_columns)\n",
    "cell_type_dummy_df = pd.DataFrame(cell_type_dummy_columns, columns=[\"cell_type\"])\n",
    "cell_type_dummy_df[\"cell_type_index\"] = range(len(cell_type_dummy_columns))\n",
    "# we will just save this here for now and run CAVI and map everything back after before doing differential splicing analysis \n",
    "cell_type_dummy_df"
   ]
  },
  {
   "cell_type": "code",
   "execution_count": 16,
   "metadata": {},
   "outputs": [
    {
     "name": "stdout",
     "output_type": "stream",
     "text": [
      "The K used is:  4\n",
      "Initialize VI params\n",
      "Initializing variational parameters with N = 2405 cells and J = 45664 junctions\n",
      "Initializing cell state proportions with init_labels\n",
      "Running CAVI with fixed cell types\n",
      "z and theta will not be updated!\n",
      "Got the initial ELBO ^\n",
      "The tolerance is set to  0.001\n",
      "ELBO converged @ -908774784.0 CAVI iteration # 2 complete\n",
      "ELBO converged @ -908774784.0 CAVI iteration # 2 complete\n",
      "Finished CAVI!\n",
      "Initialize VI params\n",
      "Initializing variational parameters with N = 2405 cells and J = 45664 junctions\n",
      "Initializing cell state proportions with init_labels\n",
      "Running CAVI with fixed cell types\n",
      "z and theta will not be updated!\n",
      "Got the initial ELBO ^\n",
      "The tolerance is set to  0.001\n",
      "ELBO converged @ -908774784.0 CAVI iteration # 2 complete\n",
      "ELBO converged @ -908774784.0 CAVI iteration # 2 complete\n",
      "Finished CAVI!\n",
      "Initialize VI params\n",
      "Initializing variational parameters with N = 2405 cells and J = 45664 junctions\n",
      "Initializing cell state proportions with init_labels\n",
      "Running CAVI with fixed cell types\n",
      "z and theta will not be updated!\n",
      "Got the initial ELBO ^\n",
      "The tolerance is set to  0.001\n",
      "ELBO converged @ -908774784.0 CAVI iteration # 2 complete\n",
      "ELBO converged @ -908774784.0 CAVI iteration # 2 complete\n",
      "Finished CAVI!\n",
      "Initialize VI params\n",
      "Initializing variational parameters with N = 2405 cells and J = 45664 junctions\n",
      "Initializing cell state proportions with init_labels\n",
      "Running CAVI with fixed cell types\n",
      "z and theta will not be updated!\n",
      "Got the initial ELBO ^\n",
      "The tolerance is set to  0.001\n",
      "ELBO converged @ -908774784.0 CAVI iteration # 2 complete\n",
      "ELBO converged @ -908774784.0 CAVI iteration # 2 complete\n",
      "Finished CAVI!\n",
      "Initialize VI params\n",
      "Initializing variational parameters with N = 2405 cells and J = 45664 junctions\n",
      "Initializing cell state proportions with init_labels\n",
      "Running CAVI with fixed cell types\n",
      "z and theta will not be updated!\n",
      "Got the initial ELBO ^\n",
      "The tolerance is set to  0.001\n",
      "ELBO converged @ -908774784.0 CAVI iteration # 2 complete\n",
      "ELBO converged @ -908774784.0 CAVI iteration # 2 complete\n",
      "Finished CAVI!\n"
     ]
    }
   ],
   "source": [
    "num_trials = 5 # should also be an argument that gets fed in\n",
    "num_iters = 100 # should also be an argument that gets fed in\n",
    "print(\"The K used is: \", K)\n",
    "results = [ bbmix.calculate_CAVI(K, my_data, float_type, hypers, init_labels = init_labels, num_iterations = num_iters, fixed_cell_types = True) \n",
    "           for t in range(num_trials) ]"
   ]
  },
  {
   "cell_type": "markdown",
   "metadata": {},
   "source": [
    "### Evaluate the learned posteriors"
   ]
  },
  {
   "cell_type": "code",
   "execution_count": 17,
   "metadata": {},
   "outputs": [
    {
     "name": "stdout",
     "output_type": "stream",
     "text": [
      "The trial with the highest ELBO was 0\n"
     ]
    },
    {
     "data": {
      "text/plain": [
       "array([-2.50352077e+09, -9.08774784e+08, -9.08774784e+08])"
      ]
     },
     "execution_count": 17,
     "metadata": {},
     "output_type": "execute_result"
    }
   ],
   "source": [
    "best = np.argmax([ g[-1][-1] for g in results ]) # final ELBO\n",
    "print(f\"The trial with the highest ELBO was {best}\")\n",
    "ALPHA_f, PI_f, GAMMA_f, PHI_f, elbos_all = results[best]\n",
    "elbos_all = np.array(elbos_all)\n",
    "elbos_all"
   ]
  },
  {
   "cell_type": "markdown",
   "metadata": {},
   "source": [
    "### Differential junction usage analysis"
   ]
  },
  {
   "cell_type": "code",
   "execution_count": 18,
   "metadata": {},
   "outputs": [
    {
     "data": {
      "text/html": [
       "<div>\n",
       "<style scoped>\n",
       "    .dataframe tbody tr th:only-of-type {\n",
       "        vertical-align: middle;\n",
       "    }\n",
       "\n",
       "    .dataframe tbody tr th {\n",
       "        vertical-align: top;\n",
       "    }\n",
       "\n",
       "    .dataframe thead th {\n",
       "        text-align: right;\n",
       "    }\n",
       "</style>\n",
       "<table border=\"1\" class=\"dataframe\">\n",
       "  <thead>\n",
       "    <tr style=\"text-align: right;\">\n",
       "      <th></th>\n",
       "      <th>cell_type</th>\n",
       "      <th>cell_type_index</th>\n",
       "    </tr>\n",
       "  </thead>\n",
       "  <tbody>\n",
       "    <tr>\n",
       "      <th>0</th>\n",
       "      <td>Mammary_Gland_basal_cell</td>\n",
       "      <td>0</td>\n",
       "    </tr>\n",
       "    <tr>\n",
       "      <th>1</th>\n",
       "      <td>Mammary_Gland_endothelial_cell</td>\n",
       "      <td>1</td>\n",
       "    </tr>\n",
       "    <tr>\n",
       "      <th>2</th>\n",
       "      <td>Mammary_Gland_luminal_epithelial_cell_of_mamma...</td>\n",
       "      <td>2</td>\n",
       "    </tr>\n",
       "    <tr>\n",
       "      <th>3</th>\n",
       "      <td>Mammary_Gland_stromal_cell</td>\n",
       "      <td>3</td>\n",
       "    </tr>\n",
       "  </tbody>\n",
       "</table>\n",
       "</div>"
      ],
      "text/plain": [
       "                                           cell_type  cell_type_index\n",
       "0                           Mammary_Gland_basal_cell                0\n",
       "1                     Mammary_Gland_endothelial_cell                1\n",
       "2  Mammary_Gland_luminal_epithelial_cell_of_mamma...                2\n",
       "3                         Mammary_Gland_stromal_cell                3"
      ]
     },
     "execution_count": 18,
     "metadata": {},
     "output_type": "execute_result"
    }
   ],
   "source": [
    "cell_type_dummy_df"
   ]
  },
  {
   "cell_type": "code",
   "execution_count": 20,
   "metadata": {},
   "outputs": [],
   "source": [
    "# let's compare first two cell types \n",
    "cell_type1_index = 0\n",
    "cell_type2_index = 1"
   ]
  },
  {
   "cell_type": "code",
   "execution_count": 21,
   "metadata": {},
   "outputs": [
    {
     "data": {
      "text/plain": [
       "torch.Size([45664, 4])"
      ]
     },
     "execution_count": 21,
     "metadata": {},
     "output_type": "execute_result"
    }
   ],
   "source": [
    "juncs_probs = ALPHA_f / (ALPHA_f+PI_f)   \n",
    "alpha_plus_pi = ALPHA_f+PI_f\n",
    "\n",
    "juncs_probs.shape"
   ]
  },
  {
   "cell_type": "code",
   "execution_count": 22,
   "metadata": {},
   "outputs": [
    {
     "data": {
      "image/png": "[encoded data removed]",
      "text/plain": [
       "<Figure size 500x500 with 1 Axes>"
      ]
     },
     "metadata": {},
     "output_type": "display_data"
    }
   ],
   "source": [
    "# Create boolean mask from tensor1\n",
    "mask = alpha_plus_pi >= 10\n",
    "\n",
    "# Apply the mask to tensor2 to get filtered values\n",
    "filtered_values = juncs_probs[mask]\n",
    "\n",
    "plt.figure(figsize=(5, 5))\n",
    "# Plot the values\n",
    "plt.hist(filtered_values.numpy(), bins=12)  # Assuming you want a histogram, adjust as needed\n",
    "plt.xlabel('Estimated PSI', fontsize=12)\n",
    "# Set y-label with larger font size (if you need it)\n",
    "plt.ylabel('Number of Junctions', fontsize=12)  \n",
    "# Increase tick label size\n",
    "plt.xticks(fontsize=12)\n",
    "plt.yticks(fontsize=12)\n",
    "# add grid \n",
    "plt.grid()"
   ]
  },
  {
   "cell_type": "code",
   "execution_count": 23,
   "metadata": {},
   "outputs": [
    {
     "data": {
      "text/html": [
       "<div>\n",
       "<style scoped>\n",
       "    .dataframe tbody tr th:only-of-type {\n",
       "        vertical-align: middle;\n",
       "    }\n",
       "\n",
       "    .dataframe tbody tr th {\n",
       "        vertical-align: top;\n",
       "    }\n",
       "\n",
       "    .dataframe thead th {\n",
       "        text-align: right;\n",
       "    }\n",
       "</style>\n",
       "<table border=\"1\" class=\"dataframe\">\n",
       "  <thead>\n",
       "    <tr style=\"text-align: right;\">\n",
       "      <th></th>\n",
       "      <th>0</th>\n",
       "      <th>1</th>\n",
       "      <th>2</th>\n",
       "      <th>3</th>\n",
       "      <th>junction_id_index</th>\n",
       "      <th>junction_id</th>\n",
       "    </tr>\n",
       "  </thead>\n",
       "  <tbody>\n",
       "    <tr>\n",
       "      <th>0</th>\n",
       "      <td>0.445505</td>\n",
       "      <td>0.452899</td>\n",
       "      <td>0.432304</td>\n",
       "      <td>0.389639</td>\n",
       "      <td>0</td>\n",
       "      <td>1_160044753_160070699</td>\n",
       "    </tr>\n",
       "    <tr>\n",
       "      <th>1</th>\n",
       "      <td>0.451250</td>\n",
       "      <td>0.448551</td>\n",
       "      <td>0.467859</td>\n",
       "      <td>0.426287</td>\n",
       "      <td>1</td>\n",
       "      <td>1_160070803_160075030</td>\n",
       "    </tr>\n",
       "    <tr>\n",
       "      <th>2</th>\n",
       "      <td>0.030118</td>\n",
       "      <td>0.017391</td>\n",
       "      <td>0.011962</td>\n",
       "      <td>0.007996</td>\n",
       "      <td>2</td>\n",
       "      <td>1_160070803_160071426</td>\n",
       "    </tr>\n",
       "    <tr>\n",
       "      <th>3</th>\n",
       "      <td>0.304236</td>\n",
       "      <td>0.372093</td>\n",
       "      <td>0.278855</td>\n",
       "      <td>0.341508</td>\n",
       "      <td>3</td>\n",
       "      <td>1_155564721_155567584</td>\n",
       "    </tr>\n",
       "    <tr>\n",
       "      <th>4</th>\n",
       "      <td>0.127197</td>\n",
       "      <td>0.081395</td>\n",
       "      <td>0.141834</td>\n",
       "      <td>0.122011</td>\n",
       "      <td>4</td>\n",
       "      <td>1_155567681_155601453</td>\n",
       "    </tr>\n",
       "  </tbody>\n",
       "</table>\n",
       "</div>"
      ],
      "text/plain": [
       "          0         1         2         3  junction_id_index  \\\n",
       "0  0.445505  0.452899  0.432304  0.389639                  0   \n",
       "1  0.451250  0.448551  0.467859  0.426287                  1   \n",
       "2  0.030118  0.017391  0.011962  0.007996                  2   \n",
       "3  0.304236  0.372093  0.278855  0.341508                  3   \n",
       "4  0.127197  0.081395  0.141834  0.122011                  4   \n",
       "\n",
       "             junction_id  \n",
       "0  1_160044753_160070699  \n",
       "1  1_160070803_160075030  \n",
       "2  1_160070803_160071426  \n",
       "3  1_155564721_155567584  \n",
       "4  1_155567681_155601453  "
      ]
     },
     "execution_count": 23,
     "metadata": {},
     "output_type": "execute_result"
    }
   ],
   "source": [
    "juncs_probs_df = pd.DataFrame(juncs_probs, columns = range(K))\n",
    "juncs_probs_df[\"junction_id_index\"] = junction_ids_conversion.junction_id_index.values\n",
    "# convert to juncs_probs to pandas dataframe and calculate mean and std across cell states/topics\n",
    "juncs_probs_df[\"junction_id\"] = junction_ids_conversion.junction_id.values\n",
    "juncs_probs_df.head()"
   ]
  },
  {
   "cell_type": "code",
   "execution_count": 58,
   "metadata": {},
   "outputs": [],
   "source": [
    "scores_all_juncs = []\n",
    "\n",
    "for junc_index in range(juncs_probs.shape[0]):\n",
    "    a = ALPHA_f[junc_index, [cell_type1_index, cell_type2_index]]\n",
    "    b = PI_f[junc_index, [cell_type1_index, cell_type2_index] ]\n",
    "    scores_all_juncs.append(bbmix.score(a, b).item())\n",
    "\n",
    "# turn scores_all_juncs into dataframe and add junction_id_index as a column\n",
    "scores_all_juncs_df = pd.DataFrame(scores_all_juncs, columns = [\"score\"])\n",
    "scores_all_juncs_df[\"junction_id_index\"] = junction_ids_conversion.junction_id_index.values"
   ]
  },
  {
   "cell_type": "code",
   "execution_count": 59,
   "metadata": {},
   "outputs": [],
   "source": [
    "# Compute the logistic score\n",
    "scores_all_juncs_df[\"logistic_score\"] = 1 / (1 + np.exp(-scores_all_juncs_df[\"score\"].values))\n",
    "\n",
    "# Compute the Bayesian q-value for FDR\n",
    "scores_all_juncs_df[\"q_value\"] = 1 - scores_all_juncs_df[\"logistic_score\"].values \n",
    "scores_all_juncs_df[\"significance\"] = np.where(scores_all_juncs_df[\"q_value\"].values < 0.01, \"yes\", \"no\")"
   ]
  },
  {
   "cell_type": "code",
   "execution_count": 60,
   "metadata": {},
   "outputs": [
    {
     "data": {
      "text/plain": [
       "no     38384\n",
       "yes     7280\n",
       "Name: significance, dtype: int64"
      ]
     },
     "execution_count": 60,
     "metadata": {},
     "output_type": "execute_result"
    }
   ],
   "source": [
    "scores_all_juncs_df[\"significance\"].value_counts()"
   ]
  },
  {
   "cell_type": "code",
   "execution_count": 61,
   "metadata": {},
   "outputs": [
    {
     "data": {
      "text/html": [
       "<div>\n",
       "<style scoped>\n",
       "    .dataframe tbody tr th:only-of-type {\n",
       "        vertical-align: middle;\n",
       "    }\n",
       "\n",
       "    .dataframe tbody tr th {\n",
       "        vertical-align: top;\n",
       "    }\n",
       "\n",
       "    .dataframe thead th {\n",
       "        text-align: right;\n",
       "    }\n",
       "</style>\n",
       "<table border=\"1\" class=\"dataframe\">\n",
       "  <thead>\n",
       "    <tr style=\"text-align: right;\">\n",
       "      <th></th>\n",
       "      <th>score</th>\n",
       "      <th>junction_id_index</th>\n",
       "      <th>logistic_score</th>\n",
       "      <th>q_value</th>\n",
       "      <th>significance</th>\n",
       "      <th>junction_id</th>\n",
       "      <th>Cluster</th>\n",
       "      <th>gene_id</th>\n",
       "    </tr>\n",
       "  </thead>\n",
       "  <tbody>\n",
       "    <tr>\n",
       "      <th>28963</th>\n",
       "      <td>1117.228516</td>\n",
       "      <td>28963</td>\n",
       "      <td>1.0</td>\n",
       "      <td>0.0</td>\n",
       "      <td>yes</td>\n",
       "      <td>6_117173578_117178582</td>\n",
       "      <td>40125</td>\n",
       "      <td>Cxcl12</td>\n",
       "    </tr>\n",
       "    <tr>\n",
       "      <th>27096</th>\n",
       "      <td>1117.228516</td>\n",
       "      <td>27096</td>\n",
       "      <td>1.0</td>\n",
       "      <td>0.0</td>\n",
       "      <td>yes</td>\n",
       "      <td>6_117173578_117176085</td>\n",
       "      <td>40125</td>\n",
       "      <td>Cxcl12</td>\n",
       "    </tr>\n",
       "    <tr>\n",
       "      <th>12528</th>\n",
       "      <td>848.796875</td>\n",
       "      <td>12528</td>\n",
       "      <td>1.0</td>\n",
       "      <td>0.0</td>\n",
       "      <td>yes</td>\n",
       "      <td>9_31156225_31157694</td>\n",
       "      <td>63383</td>\n",
       "      <td>Aplp2</td>\n",
       "    </tr>\n",
       "    <tr>\n",
       "      <th>3813</th>\n",
       "      <td>788.193359</td>\n",
       "      <td>3813</td>\n",
       "      <td>1.0</td>\n",
       "      <td>0.0</td>\n",
       "      <td>yes</td>\n",
       "      <td>9_67036128_67043577</td>\n",
       "      <td>66317</td>\n",
       "      <td>Tpm1</td>\n",
       "    </tr>\n",
       "    <tr>\n",
       "      <th>25602</th>\n",
       "      <td>729.111328</td>\n",
       "      <td>25602</td>\n",
       "      <td>1.0</td>\n",
       "      <td>0.0</td>\n",
       "      <td>yes</td>\n",
       "      <td>2_163694156_163703485</td>\n",
       "      <td>10807</td>\n",
       "      <td>Pkig</td>\n",
       "    </tr>\n",
       "    <tr>\n",
       "      <th>12526</th>\n",
       "      <td>636.742188</td>\n",
       "      <td>12526</td>\n",
       "      <td>1.0</td>\n",
       "      <td>0.0</td>\n",
       "      <td>yes</td>\n",
       "      <td>9_31153499_31156189</td>\n",
       "      <td>63383</td>\n",
       "      <td>Aplp2</td>\n",
       "    </tr>\n",
       "    <tr>\n",
       "      <th>2408</th>\n",
       "      <td>614.078125</td>\n",
       "      <td>2408</td>\n",
       "      <td>1.0</td>\n",
       "      <td>0.0</td>\n",
       "      <td>yes</td>\n",
       "      <td>6_48841589_48842203</td>\n",
       "      <td>41809</td>\n",
       "      <td>Tmem176a</td>\n",
       "    </tr>\n",
       "    <tr>\n",
       "      <th>8403</th>\n",
       "      <td>614.078125</td>\n",
       "      <td>8403</td>\n",
       "      <td>1.0</td>\n",
       "      <td>0.0</td>\n",
       "      <td>yes</td>\n",
       "      <td>6_48841710_48842203</td>\n",
       "      <td>41809</td>\n",
       "      <td>Tmem176a</td>\n",
       "    </tr>\n",
       "    <tr>\n",
       "      <th>27821</th>\n",
       "      <td>583.986084</td>\n",
       "      <td>27821</td>\n",
       "      <td>1.0</td>\n",
       "      <td>0.0</td>\n",
       "      <td>yes</td>\n",
       "      <td>10_4313857_4353141</td>\n",
       "      <td>66819</td>\n",
       "      <td>Akap12</td>\n",
       "    </tr>\n",
       "    <tr>\n",
       "      <th>27125</th>\n",
       "      <td>583.986084</td>\n",
       "      <td>27125</td>\n",
       "      <td>1.0</td>\n",
       "      <td>0.0</td>\n",
       "      <td>yes</td>\n",
       "      <td>10_4357939_4358477</td>\n",
       "      <td>66819</td>\n",
       "      <td>Akap12</td>\n",
       "    </tr>\n",
       "  </tbody>\n",
       "</table>\n",
       "</div>"
      ],
      "text/plain": [
       "             score  junction_id_index  logistic_score  q_value significance  \\\n",
       "28963  1117.228516              28963             1.0      0.0          yes   \n",
       "27096  1117.228516              27096             1.0      0.0          yes   \n",
       "12528   848.796875              12528             1.0      0.0          yes   \n",
       "3813    788.193359               3813             1.0      0.0          yes   \n",
       "25602   729.111328              25602             1.0      0.0          yes   \n",
       "12526   636.742188              12526             1.0      0.0          yes   \n",
       "2408    614.078125               2408             1.0      0.0          yes   \n",
       "8403    614.078125               8403             1.0      0.0          yes   \n",
       "27821   583.986084              27821             1.0      0.0          yes   \n",
       "27125   583.986084              27125             1.0      0.0          yes   \n",
       "\n",
       "                 junction_id  Cluster   gene_id  \n",
       "28963  6_117173578_117178582    40125    Cxcl12  \n",
       "27096  6_117173578_117176085    40125    Cxcl12  \n",
       "12528    9_31156225_31157694    63383     Aplp2  \n",
       "3813     9_67036128_67043577    66317      Tpm1  \n",
       "25602  2_163694156_163703485    10807      Pkig  \n",
       "12526    9_31153499_31156189    63383     Aplp2  \n",
       "2408     6_48841589_48842203    41809  Tmem176a  \n",
       "8403     6_48841710_48842203    41809  Tmem176a  \n",
       "27821     10_4313857_4353141    66819    Akap12  \n",
       "27125     10_4357939_4358477    66819    Akap12  "
      ]
     },
     "execution_count": 61,
     "metadata": {},
     "output_type": "execute_result"
    }
   ],
   "source": [
    "# merge scores_all_juncs_df with junction_ids_conversion to get gene_id and junction_id \n",
    "scores_all_juncs_df = scores_all_juncs_df.merge(junction_ids_conversion, on=\"junction_id_index\")\n",
    "scores_all_juncs_df.sort_values(by=\"score\", ascending=False).head(10)"
   ]
  },
  {
   "cell_type": "code",
   "execution_count": 40,
   "metadata": {},
   "outputs": [
    {
     "name": "stdout",
     "output_type": "stream",
     "text": [
      "['Mammary_Gland_basal_cell', 'Mammary_Gland_endothelial_cell']\n"
     ]
    }
   ],
   "source": [
    "cell_type1 = cell_type_dummy_df[cell_type_dummy_df[\"cell_type_index\"]==cell_type1_index][\"cell_type\"].values[0]\n",
    "cell_type2 = cell_type_dummy_df[cell_type_dummy_df[\"cell_type_index\"]==cell_type2_index][\"cell_type\"].values[0]\n",
    "cell_types = [cell_type1, cell_type2]\n",
    "print(cell_types)"
   ]
  },
  {
   "cell_type": "code",
   "execution_count": 79,
   "metadata": {},
   "outputs": [
    {
     "name": "stdout",
     "output_type": "stream",
     "text": [
      "The cluster is 1913 and the gene is Lrrfip1\n"
     ]
    }
   ],
   "source": [
    "junc = 7023\n",
    "clust = ut.get_cluster(junc, junction_ids_conversion)\n",
    "gene = ut.get_gene(junc, junction_ids_conversion)\n",
    "print(f\"The cluster is {clust} and the gene is {gene}\")"
   ]
  },
  {
   "cell_type": "code",
   "execution_count": 80,
   "metadata": {},
   "outputs": [
    {
     "name": "stdout",
     "output_type": "stream",
     "text": [
      "Mammary_Gland_basal_cell          673\n",
      "Mammary_Gland_endothelial_cell     27\n",
      "Name: cell_type, dtype: int64\n"
     ]
    },
    {
     "data": {
      "image/png": "[encoded data removed]",
      "text/plain": [
       "<Figure size 640x480 with 1 Axes>"
      ]
     },
     "metadata": {},
     "output_type": "display_data"
    }
   ],
   "source": [
    "vis.quick_junc_plot(junc, simple_data_human, gene_name=True, cell_types=cell_types)"
   ]
  },
  {
   "cell_type": "code",
   "execution_count": 81,
   "metadata": {},
   "outputs": [
    {
     "name": "stdout",
     "output_type": "stream",
     "text": [
      "Mammary_Gland_basal_cell          2019\n",
      "Mammary_Gland_endothelial_cell      81\n",
      "Name: cell_type, dtype: int64\n"
     ]
    },
    {
     "data": {
      "image/png": "[encoded data removed]",
      "text/plain": [
       "<Figure size 600x600 with 1 Axes>"
      ]
     },
     "metadata": {},
     "output_type": "display_data"
    }
   ],
   "source": [
    "vis.quick_clust_plot(clust, simple_data_human, gene_name=True, cell_types=cell_types)"
   ]
  },
  {
   "cell_type": "markdown",
   "metadata": {},
   "source": [
    "#### if observe splicing change, is it one that makes you more epithelial vs mammary gland... \n",
    "#### C x J, can batch over cells... should maintain scalibility \n",
    "#### visualization to show junction in gene context simple local visualization "
   ]
  },
  {
   "cell_type": "code",
   "execution_count": 82,
   "metadata": {},
   "outputs": [
    {
     "name": "stdout",
     "output_type": "stream",
     "text": [
      "The number of junctions that are significantly differentially spliced between the two cell types is:  7280\n",
      "The number of unique genes that these junctions belong to is:  3540\n"
     ]
    }
   ],
   "source": [
    "# summarize total number of junctions that are significantly differentially spliced between the two\n",
    "# cell types of interest and also the number of unique genes they belong to\n",
    "\n",
    "print(\"The number of junctions that are significantly differentially spliced between the two cell types is: \", scores_all_juncs_df[\"significance\"].value_counts()[\"yes\"])\n",
    "print(\"The number of unique genes that these junctions belong to is: \", scores_all_juncs_df[scores_all_juncs_df[\"significance\"]==\"yes\"][\"gene_id\"].nunique())"
   ]
  },
  {
   "cell_type": "code",
   "execution_count": 83,
   "metadata": {},
   "outputs": [
    {
     "name": "stdout",
     "output_type": "stream",
     "text": [
      "The top 5 genes with the most number of junctions that are significantly differentially spliced between the two cell types are: \n",
      "Ap3b1      26\n",
      "Lrrfip1    14\n",
      "Ttc3       13\n",
      "Fbln2      13\n",
      "Gnl3       12\n",
      "Name: gene_id, dtype: int64\n"
     ]
    }
   ],
   "source": [
    "# print the gene that has the most number of junctions that are significantly differentially spliced between the two cell types\n",
    "gene_counts = scores_all_juncs_df[scores_all_juncs_df[\"significance\"]==\"yes\"][\"gene_id\"].value_counts()\n",
    "\n",
    "# print the top 5 genes with the most DS junctions\n",
    "print(\"The top 5 genes with the most number of junctions that are significantly differentially spliced between the two cell types are: \")\n",
    "print(gene_counts.head(5))"
   ]
  },
  {
   "cell_type": "code",
   "execution_count": 78,
   "metadata": {},
   "outputs": [
    {
     "data": {
      "text/html": [
       "<div>\n",
       "<style scoped>\n",
       "    .dataframe tbody tr th:only-of-type {\n",
       "        vertical-align: middle;\n",
       "    }\n",
       "\n",
       "    .dataframe tbody tr th {\n",
       "        vertical-align: top;\n",
       "    }\n",
       "\n",
       "    .dataframe thead th {\n",
       "        text-align: right;\n",
       "    }\n",
       "</style>\n",
       "<table border=\"1\" class=\"dataframe\">\n",
       "  <thead>\n",
       "    <tr style=\"text-align: right;\">\n",
       "      <th></th>\n",
       "      <th>score</th>\n",
       "      <th>junction_id_index</th>\n",
       "      <th>logistic_score</th>\n",
       "      <th>q_value</th>\n",
       "      <th>significance</th>\n",
       "      <th>junction_id</th>\n",
       "      <th>Cluster</th>\n",
       "      <th>gene_id</th>\n",
       "    </tr>\n",
       "  </thead>\n",
       "  <tbody>\n",
       "    <tr>\n",
       "      <th>7023</th>\n",
       "      <td>107.113281</td>\n",
       "      <td>7023</td>\n",
       "      <td>1.0</td>\n",
       "      <td>0.000000e+00</td>\n",
       "      <td>yes</td>\n",
       "      <td>1_91101310_91105126</td>\n",
       "      <td>1913</td>\n",
       "      <td>Lrrfip1</td>\n",
       "    </tr>\n",
       "    <tr>\n",
       "      <th>7019</th>\n",
       "      <td>63.137207</td>\n",
       "      <td>7019</td>\n",
       "      <td>1.0</td>\n",
       "      <td>0.000000e+00</td>\n",
       "      <td>yes</td>\n",
       "      <td>1_91053723_91068562</td>\n",
       "      <td>1910</td>\n",
       "      <td>Lrrfip1</td>\n",
       "    </tr>\n",
       "    <tr>\n",
       "      <th>7018</th>\n",
       "      <td>63.137207</td>\n",
       "      <td>7018</td>\n",
       "      <td>1.0</td>\n",
       "      <td>0.000000e+00</td>\n",
       "      <td>yes</td>\n",
       "      <td>1_90998893_91068562</td>\n",
       "      <td>1910</td>\n",
       "      <td>Lrrfip1</td>\n",
       "    </tr>\n",
       "    <tr>\n",
       "      <th>11417</th>\n",
       "      <td>56.588379</td>\n",
       "      <td>11417</td>\n",
       "      <td>1.0</td>\n",
       "      <td>0.000000e+00</td>\n",
       "      <td>yes</td>\n",
       "      <td>1_91068649_91084945</td>\n",
       "      <td>1911</td>\n",
       "      <td>Lrrfip1</td>\n",
       "    </tr>\n",
       "    <tr>\n",
       "      <th>7024</th>\n",
       "      <td>47.774414</td>\n",
       "      <td>7024</td>\n",
       "      <td>1.0</td>\n",
       "      <td>0.000000e+00</td>\n",
       "      <td>yes</td>\n",
       "      <td>1_91103318_91105126</td>\n",
       "      <td>1913</td>\n",
       "      <td>Lrrfip1</td>\n",
       "    </tr>\n",
       "    <tr>\n",
       "      <th>7020</th>\n",
       "      <td>43.976562</td>\n",
       "      <td>7020</td>\n",
       "      <td>1.0</td>\n",
       "      <td>0.000000e+00</td>\n",
       "      <td>yes</td>\n",
       "      <td>1_91068649_91100576</td>\n",
       "      <td>1911</td>\n",
       "      <td>Lrrfip1</td>\n",
       "    </tr>\n",
       "    <tr>\n",
       "      <th>11418</th>\n",
       "      <td>38.439453</td>\n",
       "      <td>11418</td>\n",
       "      <td>1.0</td>\n",
       "      <td>0.000000e+00</td>\n",
       "      <td>yes</td>\n",
       "      <td>1_91085005_91100576</td>\n",
       "      <td>1911</td>\n",
       "      <td>Lrrfip1</td>\n",
       "    </tr>\n",
       "    <tr>\n",
       "      <th>7022</th>\n",
       "      <td>37.984375</td>\n",
       "      <td>7022</td>\n",
       "      <td>1.0</td>\n",
       "      <td>0.000000e+00</td>\n",
       "      <td>yes</td>\n",
       "      <td>1_91101310_91103246</td>\n",
       "      <td>1913</td>\n",
       "      <td>Lrrfip1</td>\n",
       "    </tr>\n",
       "    <tr>\n",
       "      <th>25243</th>\n",
       "      <td>17.478027</td>\n",
       "      <td>25243</td>\n",
       "      <td>1.0</td>\n",
       "      <td>2.566783e-08</td>\n",
       "      <td>yes</td>\n",
       "      <td>1_91079081_91084945</td>\n",
       "      <td>1911</td>\n",
       "      <td>Lrrfip1</td>\n",
       "    </tr>\n",
       "    <tr>\n",
       "      <th>108</th>\n",
       "      <td>14.957031</td>\n",
       "      <td>108</td>\n",
       "      <td>1.0</td>\n",
       "      <td>3.193329e-07</td>\n",
       "      <td>yes</td>\n",
       "      <td>1_91112297_91114595</td>\n",
       "      <td>1915</td>\n",
       "      <td>Lrrfip1</td>\n",
       "    </tr>\n",
       "  </tbody>\n",
       "</table>\n",
       "</div>"
      ],
      "text/plain": [
       "            score  junction_id_index  logistic_score       q_value  \\\n",
       "7023   107.113281               7023             1.0  0.000000e+00   \n",
       "7019    63.137207               7019             1.0  0.000000e+00   \n",
       "7018    63.137207               7018             1.0  0.000000e+00   \n",
       "11417   56.588379              11417             1.0  0.000000e+00   \n",
       "7024    47.774414               7024             1.0  0.000000e+00   \n",
       "7020    43.976562               7020             1.0  0.000000e+00   \n",
       "11418   38.439453              11418             1.0  0.000000e+00   \n",
       "7022    37.984375               7022             1.0  0.000000e+00   \n",
       "25243   17.478027              25243             1.0  2.566783e-08   \n",
       "108     14.957031                108             1.0  3.193329e-07   \n",
       "\n",
       "      significance          junction_id  Cluster  gene_id  \n",
       "7023           yes  1_91101310_91105126     1913  Lrrfip1  \n",
       "7019           yes  1_91053723_91068562     1910  Lrrfip1  \n",
       "7018           yes  1_90998893_91068562     1910  Lrrfip1  \n",
       "11417          yes  1_91068649_91084945     1911  Lrrfip1  \n",
       "7024           yes  1_91103318_91105126     1913  Lrrfip1  \n",
       "7020           yes  1_91068649_91100576     1911  Lrrfip1  \n",
       "11418          yes  1_91085005_91100576     1911  Lrrfip1  \n",
       "7022           yes  1_91101310_91103246     1913  Lrrfip1  \n",
       "25243          yes  1_91079081_91084945     1911  Lrrfip1  \n",
       "108            yes  1_91112297_91114595     1915  Lrrfip1  "
      ]
     },
     "execution_count": 78,
     "metadata": {},
     "output_type": "execute_result"
    }
   ],
   "source": [
    "scores_all_juncs_df[scores_all_juncs_df[\"gene_id\"] == \"Lrrfip1\"].sort_values(by=\"score\", ascending=False).head(10)"
   ]
  },
  {
   "cell_type": "code",
   "execution_count": 106,
   "metadata": {},
   "outputs": [
    {
     "data": {
      "text/plain": [
       "(array([   0., 1000., 2000., 3000., 4000., 5000., 6000., 7000., 8000.]),\n",
       " [Text(0, 0.0, '0'),\n",
       "  Text(0, 1000.0, '1000'),\n",
       "  Text(0, 2000.0, '2000'),\n",
       "  Text(0, 3000.0, '3000'),\n",
       "  Text(0, 4000.0, '4000'),\n",
       "  Text(0, 5000.0, '5000'),\n",
       "  Text(0, 6000.0, '6000'),\n",
       "  Text(0, 7000.0, '7000'),\n",
       "  Text(0, 8000.0, '8000')])"
      ]
     },
     "execution_count": 106,
     "metadata": {},
     "output_type": "execute_result"
    },
    {
     "data": {
      "image/png": "[encoded data removed]",
      "text/plain": [
       "<Figure size 500x500 with 1 Axes>"
      ]
     },
     "metadata": {},
     "output_type": "display_data"
    }
   ],
   "source": [
    "# plot logisitic score distribution color by significance\n",
    "plt.figure(figsize=(5, 5))\n",
    "sns.histplot(data=scores_all_juncs_df, x=\"logistic_score\", hue=\"significance\", bins=100, kde=False)\n",
    "plt.xlabel('Logistic Score', fontsize=12)\n",
    "plt.ylabel('Number of Junctions', fontsize=12)\n",
    "plt.xticks(fontsize=12)\n",
    "plt.yticks(fontsize=12)"
   ]
  },
  {
   "cell_type": "code",
   "execution_count": 104,
   "metadata": {},
   "outputs": [
    {
     "data": {
      "text/plain": [
       "(array([   0., 1000., 2000., 3000., 4000., 5000., 6000., 7000., 8000.]),\n",
       " [Text(0, 0.0, '0'),\n",
       "  Text(0, 1000.0, '1000'),\n",
       "  Text(0, 2000.0, '2000'),\n",
       "  Text(0, 3000.0, '3000'),\n",
       "  Text(0, 4000.0, '4000'),\n",
       "  Text(0, 5000.0, '5000'),\n",
       "  Text(0, 6000.0, '6000'),\n",
       "  Text(0, 7000.0, '7000'),\n",
       "  Text(0, 8000.0, '8000')])"
      ]
     },
     "execution_count": 104,
     "metadata": {},
     "output_type": "execute_result"
    },
    {
     "data": {
      "image/png": "[encoded data removed]",
      "text/plain": [
       "<Figure size 500x500 with 1 Axes>"
      ]
     },
     "metadata": {},
     "output_type": "display_data"
    }
   ],
   "source": [
    "plt.figure(figsize=(5, 5))\n",
    "sns.histplot(data=scores_all_juncs_df, x=\"logistic_score\", bins=100)\n",
    "plt.xlabel('Logistic Score', fontsize=12)\n",
    "plt.ylabel('Number of Junctions', fontsize=12)\n",
    "plt.xticks(fontsize=12)\n",
    "plt.yticks(fontsize=12)\n"
   ]
  },
  {
   "cell_type": "code",
   "execution_count": null,
   "metadata": {},
   "outputs": [],
   "source": []
  }
 ],
 "metadata": {
  "kernelspec": {
   "display_name": "leafcutter-sc",
   "language": "python",
   "name": "python3"
  },
  "language_info": {
   "codemirror_mode": {
    "name": "ipython",
    "version": 3
   },
   "file_extension": ".py",
   "mimetype": "text/x-python",
   "name": "python",
   "nbconvert_exporter": "python",
   "pygments_lexer": "ipython3",
   "version": "3.9.15"
  }
 },
 "nbformat": 4,
 "nbformat_minor": 2
}
