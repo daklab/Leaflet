{
 "cells": [
  {
   "cell_type": "markdown",
   "metadata": {},
   "source": [
    "## Let's run intron clustering to annotate alternative splicing events given observed junctions in our cells "
   ]
  },
  {
   "cell_type": "code",
   "execution_count": 1,
   "metadata": {},
   "outputs": [
    {
     "name": "stdout",
     "output_type": "stream",
     "text": [
      "The junctions are loaded from the following path: /gpfs/commons/home/kisaev/LeafletSC/data/raw/junctions/\n",
      "The files in the path are: ['B107926_O8_Blue_Blood_S250.homo.gencode.v30.ERCC.chrM.juncswbarcodes', 'B107925_B5_S284.homo.gencode.v30.ERCC.chrM.juncswbarcodes']\n"
     ]
    }
   ],
   "source": [
    "# Load LeafletSC \n",
    "import LeafletSC\n",
    "import os\n",
    "import pandas as pd \n",
    "\n",
    "# Define path that contains some junction files (only 2 files are used for this example, corresponding to 2 individual cells)\n",
    "juncs_path = \"/gpfs/commons/home/kisaev/LeafletSC/data/raw/junctions/\"\n",
    "print(\"The junctions are loaded from the following path: \" + juncs_path) \n",
    "\n",
    "# print the files in the path \n",
    "print(\"The files in the path are: \" + str(os.listdir(juncs_path)))\n",
    "\n",
    "# define path for saving the output data \n",
    "output_path = \"/gpfs/commons/home/kisaev/LeafletSC/data/processed/\""
   ]
  },
  {
   "cell_type": "markdown",
   "metadata": {},
   "source": [
    "### Let's first define some parameters for the analysis"
   ]
  },
  {
   "cell_type": "code",
   "execution_count": 2,
   "metadata": {},
   "outputs": [],
   "source": [
    "from LeafletSC.clustering.find_intron_clusters import main as find_intron_clusters\n",
    "from LeafletSC.clustering.prepare_model_input import main as prep_model_input\n",
    "\n",
    "# junc_files defines a path for where junction files can be found, in this case, the path is defined above\n",
    "junc_files = juncs_path\n",
    "\n",
    "# we provide a gtf file for the human genome as well to make better sense of the junctions that are detected in cells\n",
    "# please replace with the path to the gtf file on your system\n",
    "gtf_file=\"/gpfs/commons/groups/knowles_lab/Karin/genome_files/gencode.v43.basic.annotation.gtf\" \n",
    "\n",
    "# define additional parameters \n",
    "sequencing_type = \"single_cell\"\n",
    "\n",
    "# ensure output files are to be saved in output_path \n",
    "output_file = output_path + \"test_intron_clusters\"\n",
    "junc_bed_file= output_path + \"test_juncs.bed\" # you can load this file into IGV to visualize the junction coordinates \n",
    "min_intron_length = 50\n",
    "max_intron_length = 500000\n",
    "threshold_inc = 0.05 \n",
    "min_junc_reads = 2\n",
    "min_num_cells_wjunc = 2\n",
    "keep_singletons = False # ignore junctions that do not share splice sites with any other junction (likely const)\n",
    "junc_suffix = \"*.juncswbarcodes\" # depends on how you ran regtools "
   ]
  },
  {
   "cell_type": "markdown",
   "metadata": {},
   "source": [
    "### Run intron clustering "
   ]
  },
  {
   "cell_type": "code",
   "execution_count": 3,
   "metadata": {},
   "outputs": [
    {
     "name": "stdout",
     "output_type": "stream",
     "text": [
      "Reading in junction files from /gpfs/commons/home/kisaev/LeafletSC/data/raw/junctions\n",
      "The number of junction files to be processed is 2\n"
     ]
    },
    {
     "name": "stderr",
     "output_type": "stream",
     "text": [
      "100%|██████████| 2/2 [00:00<00:00, 15.98it/s]"
     ]
    },
    {
     "name": "stdout",
     "output_type": "stream",
     "text": [
      "The gtf file you provided is /gpfs/commons/groups/knowles_lab/Karin/genome_files/gencode.v43.basic.annotation.gtf\n",
      "This step may take a while depending on the size of your gtf file\n"
     ]
    },
    {
     "name": "stderr",
     "output_type": "stream",
     "text": [
      "\n",
      "INFO:root:Extracted GTF attributes: ['gene_id', 'gene_type', 'gene_name', 'level', 'tag', 'transcript_id', 'transcript_type', 'transcript_name', 'transcript_support_level', 'havana_transcript', 'exon_number', 'exon_id', 'hgnc_id', 'havana_gene', 'ont', 'protein_id', 'ccdsid', 'artif_dupl']\n"
     ]
    },
    {
     "name": "stdout",
     "output_type": "stream",
     "text": [
      "Reading gtf file took 58.04 seconds\n",
      "+++++++++++++++++++++++++++++++++++++++++++++++++++++++\n",
      "The number of unique exons is 411865\n",
      "The number of unique transcript ids is 115526\n",
      "The number of unique gene ids is 62668\n",
      "+++++++++++++++++++++++++++++++++++++++++++++++++++++++\n",
      "Done extracting exons from gtf file\n",
      "Loading files obtained from single_cell sequencing\n",
      "Cleaning up 'chrom' column\n",
      "Making gr object from all junctions across all cell types\n",
      "The number of junctions prior to assessing distance to exons is 12876\n",
      "Annotating junctions with known exons based on input gtf file\n",
      "The number of junctions after assessing distance to exons is 11689\n",
      "Clustering intron splicing events by gene_id\n",
      "The number of clusters after clustering by gene_id is 11189\n",
      "The number of clusters after removing singletons is 11189\n",
      "The number of junctions after removing singletons is 11688\n",
      "The number of clusters after filtering for shared splice sites is 214\n",
      "The number of junctions after filtering for shared splice sites is 703\n",
      "Refining clusters took 5.76 seconds\n",
      "The number of clusters after removing low confidence junctions is 214\n",
      "Reclustering intron splicing events after low confidence junction removal\n",
      "The number of clusters after removing singletons is 127\n",
      "Confirming that junctions in each cluster share splice sites\n",
      "The number of clusters after filtering for shared splice sites is 127\n",
      "The number of clusters to be finally evaluated is 127\n",
      "The number of junctions to be finally evaluated is 429\n",
      "You can find the output file here: /gpfs/commons/home/kisaev/LeafletSC/data/processed/test_intron_clusters_50_500000_2_20240311_single_cell.gz\n",
      "Finished obtaining intron cluster files!\n"
     ]
    }
   ],
   "source": [
    "all_juncs_df = find_intron_clusters(junc_files=junc_files, gtf_file=gtf_file, output_file=output_file, \n",
    "                       sequencing_type=sequencing_type, junc_bed_file=junc_bed_file, \n",
    "                       threshold_inc=threshold_inc, min_intron = min_intron_length,\n",
    "                       max_intron=max_intron_length, min_junc_reads=min_junc_reads,\n",
    "                       singleton=keep_singletons,\n",
    "                       junc_suffix=junc_suffix, min_num_cells_wjunc=min_num_cells_wjunc,\n",
    "                       run_notebook = True)"
   ]
  },
  {
   "cell_type": "code",
   "execution_count": 4,
   "metadata": {},
   "outputs": [
    {
     "data": {
      "text/html": [
       "<div>\n",
       "<style scoped>\n",
       "    .dataframe tbody tr th:only-of-type {\n",
       "        vertical-align: middle;\n",
       "    }\n",
       "\n",
       "    .dataframe tbody tr th {\n",
       "        vertical-align: top;\n",
       "    }\n",
       "\n",
       "    .dataframe thead th {\n",
       "        text-align: right;\n",
       "    }\n",
       "</style>\n",
       "<table border=\"1\" class=\"dataframe\">\n",
       "  <thead>\n",
       "    <tr style=\"text-align: right;\">\n",
       "      <th></th>\n",
       "      <th>junction_id</th>\n",
       "      <th>counts_total</th>\n",
       "      <th>chrom</th>\n",
       "      <th>chromStart</th>\n",
       "      <th>chromEnd</th>\n",
       "      <th>name</th>\n",
       "      <th>score</th>\n",
       "      <th>strand</th>\n",
       "      <th>thickStart</th>\n",
       "      <th>thickEnd</th>\n",
       "      <th>...</th>\n",
       "      <th>num_cells_wjunc</th>\n",
       "      <th>cell_readcounts</th>\n",
       "      <th>file_name</th>\n",
       "      <th>cell_type</th>\n",
       "      <th>block_add_start</th>\n",
       "      <th>block_subtract_end</th>\n",
       "      <th>intron_length</th>\n",
       "      <th>Cluster</th>\n",
       "      <th>gene_id</th>\n",
       "      <th>Count</th>\n",
       "    </tr>\n",
       "  </thead>\n",
       "  <tbody>\n",
       "    <tr>\n",
       "      <th>0</th>\n",
       "      <td>10_118326243_118335113</td>\n",
       "      <td>6</td>\n",
       "      <td>10</td>\n",
       "      <td>118326243</td>\n",
       "      <td>118335113</td>\n",
       "      <td>JUNC00005275</td>\n",
       "      <td>6</td>\n",
       "      <td>-</td>\n",
       "      <td>118326153</td>\n",
       "      <td>118335119</td>\n",
       "      <td>...</td>\n",
       "      <td>1</td>\n",
       "      <td>B107926_O8_Blue_Blood_S250.homo.gencode.v30.ER...</td>\n",
       "      <td>/gpfs/commons/home/kisaev/LeafletSC/data/raw/j...</td>\n",
       "      <td>/gpfs/commons/home/kisaev/LeafletSC/data/raw/j...</td>\n",
       "      <td>90</td>\n",
       "      <td>6</td>\n",
       "      <td>8870</td>\n",
       "      <td>130</td>\n",
       "      <td>ENSG00000165669.14</td>\n",
       "      <td>2</td>\n",
       "    </tr>\n",
       "    <tr>\n",
       "      <th>1</th>\n",
       "      <td>10_118326243_118335553</td>\n",
       "      <td>16</td>\n",
       "      <td>10</td>\n",
       "      <td>118326243</td>\n",
       "      <td>118335553</td>\n",
       "      <td>JUNC00005276</td>\n",
       "      <td>16</td>\n",
       "      <td>-</td>\n",
       "      <td>118326164</td>\n",
       "      <td>118335637</td>\n",
       "      <td>...</td>\n",
       "      <td>1</td>\n",
       "      <td>B107926_O8_Blue_Blood_S250.homo.gencode.v30.ER...</td>\n",
       "      <td>/gpfs/commons/home/kisaev/LeafletSC/data/raw/j...</td>\n",
       "      <td>/gpfs/commons/home/kisaev/LeafletSC/data/raw/j...</td>\n",
       "      <td>79</td>\n",
       "      <td>84</td>\n",
       "      <td>9310</td>\n",
       "      <td>130</td>\n",
       "      <td>ENSG00000165669.14</td>\n",
       "      <td>2</td>\n",
       "    </tr>\n",
       "    <tr>\n",
       "      <th>2</th>\n",
       "      <td>10_68755536_68756272</td>\n",
       "      <td>63</td>\n",
       "      <td>10</td>\n",
       "      <td>68755536</td>\n",
       "      <td>68756272</td>\n",
       "      <td>JUNC00005015</td>\n",
       "      <td>63</td>\n",
       "      <td>+</td>\n",
       "      <td>68755442</td>\n",
       "      <td>68756369</td>\n",
       "      <td>...</td>\n",
       "      <td>1</td>\n",
       "      <td>B107926_O8_Blue_Blood_S250.homo.gencode.v30.ER...</td>\n",
       "      <td>/gpfs/commons/home/kisaev/LeafletSC/data/raw/j...</td>\n",
       "      <td>/gpfs/commons/home/kisaev/LeafletSC/data/raw/j...</td>\n",
       "      <td>94</td>\n",
       "      <td>97</td>\n",
       "      <td>736</td>\n",
       "      <td>119</td>\n",
       "      <td>ENSG00000060339.14</td>\n",
       "      <td>3</td>\n",
       "    </tr>\n",
       "    <tr>\n",
       "      <th>3</th>\n",
       "      <td>10_68755536_68757293</td>\n",
       "      <td>7</td>\n",
       "      <td>10</td>\n",
       "      <td>68755536</td>\n",
       "      <td>68757293</td>\n",
       "      <td>JUNC00005016</td>\n",
       "      <td>7</td>\n",
       "      <td>+</td>\n",
       "      <td>68755470</td>\n",
       "      <td>68757377</td>\n",
       "      <td>...</td>\n",
       "      <td>1</td>\n",
       "      <td>B107926_O8_Blue_Blood_S250.homo.gencode.v30.ER...</td>\n",
       "      <td>/gpfs/commons/home/kisaev/LeafletSC/data/raw/j...</td>\n",
       "      <td>/gpfs/commons/home/kisaev/LeafletSC/data/raw/j...</td>\n",
       "      <td>66</td>\n",
       "      <td>84</td>\n",
       "      <td>1757</td>\n",
       "      <td>119</td>\n",
       "      <td>ENSG00000060339.14</td>\n",
       "      <td>3</td>\n",
       "    </tr>\n",
       "    <tr>\n",
       "      <th>4</th>\n",
       "      <td>10_68756483_68757293</td>\n",
       "      <td>38</td>\n",
       "      <td>10</td>\n",
       "      <td>68756483</td>\n",
       "      <td>68757293</td>\n",
       "      <td>JUNC00005018</td>\n",
       "      <td>38</td>\n",
       "      <td>+</td>\n",
       "      <td>68756384</td>\n",
       "      <td>68757377</td>\n",
       "      <td>...</td>\n",
       "      <td>1</td>\n",
       "      <td>B107926_O8_Blue_Blood_S250.homo.gencode.v30.ER...</td>\n",
       "      <td>/gpfs/commons/home/kisaev/LeafletSC/data/raw/j...</td>\n",
       "      <td>/gpfs/commons/home/kisaev/LeafletSC/data/raw/j...</td>\n",
       "      <td>99</td>\n",
       "      <td>84</td>\n",
       "      <td>810</td>\n",
       "      <td>119</td>\n",
       "      <td>ENSG00000060339.14</td>\n",
       "      <td>3</td>\n",
       "    </tr>\n",
       "  </tbody>\n",
       "</table>\n",
       "<p>5 rows × 24 columns</p>\n",
       "</div>"
      ],
      "text/plain": [
       "              junction_id  counts_total chrom  chromStart   chromEnd  \\\n",
       "0  10_118326243_118335113             6    10   118326243  118335113   \n",
       "1  10_118326243_118335553            16    10   118326243  118335553   \n",
       "2    10_68755536_68756272            63    10    68755536   68756272   \n",
       "3    10_68755536_68757293             7    10    68755536   68757293   \n",
       "4    10_68756483_68757293            38    10    68756483   68757293   \n",
       "\n",
       "           name  score strand  thickStart   thickEnd  ... num_cells_wjunc  \\\n",
       "0  JUNC00005275      6      -   118326153  118335119  ...               1   \n",
       "1  JUNC00005276     16      -   118326164  118335637  ...               1   \n",
       "2  JUNC00005015     63      +    68755442   68756369  ...               1   \n",
       "3  JUNC00005016      7      +    68755470   68757377  ...               1   \n",
       "4  JUNC00005018     38      +    68756384   68757377  ...               1   \n",
       "\n",
       "                                     cell_readcounts  \\\n",
       "0  B107926_O8_Blue_Blood_S250.homo.gencode.v30.ER...   \n",
       "1  B107926_O8_Blue_Blood_S250.homo.gencode.v30.ER...   \n",
       "2  B107926_O8_Blue_Blood_S250.homo.gencode.v30.ER...   \n",
       "3  B107926_O8_Blue_Blood_S250.homo.gencode.v30.ER...   \n",
       "4  B107926_O8_Blue_Blood_S250.homo.gencode.v30.ER...   \n",
       "\n",
       "                                           file_name  \\\n",
       "0  /gpfs/commons/home/kisaev/LeafletSC/data/raw/j...   \n",
       "1  /gpfs/commons/home/kisaev/LeafletSC/data/raw/j...   \n",
       "2  /gpfs/commons/home/kisaev/LeafletSC/data/raw/j...   \n",
       "3  /gpfs/commons/home/kisaev/LeafletSC/data/raw/j...   \n",
       "4  /gpfs/commons/home/kisaev/LeafletSC/data/raw/j...   \n",
       "\n",
       "                                           cell_type  block_add_start  \\\n",
       "0  /gpfs/commons/home/kisaev/LeafletSC/data/raw/j...               90   \n",
       "1  /gpfs/commons/home/kisaev/LeafletSC/data/raw/j...               79   \n",
       "2  /gpfs/commons/home/kisaev/LeafletSC/data/raw/j...               94   \n",
       "3  /gpfs/commons/home/kisaev/LeafletSC/data/raw/j...               66   \n",
       "4  /gpfs/commons/home/kisaev/LeafletSC/data/raw/j...               99   \n",
       "\n",
       "  block_subtract_end intron_length Cluster             gene_id  Count  \n",
       "0                  6          8870     130  ENSG00000165669.14      2  \n",
       "1                 84          9310     130  ENSG00000165669.14      2  \n",
       "2                 97           736     119  ENSG00000060339.14      3  \n",
       "3                 84          1757     119  ENSG00000060339.14      3  \n",
       "4                 84           810     119  ENSG00000060339.14      3  \n",
       "\n",
       "[5 rows x 24 columns]"
      ]
     },
     "execution_count": 4,
     "metadata": {},
     "output_type": "execute_result"
    }
   ],
   "source": [
    "# visualize junctions in an intron cluster \n",
    "all_juncs_df.head()"
   ]
  },
  {
   "cell_type": "code",
   "execution_count": 7,
   "metadata": {},
   "outputs": [],
   "source": [
    "from LeafletSC.clustering.find_intron_clusters import visualize_junctions"
   ]
  },
  {
   "cell_type": "code",
   "execution_count": 15,
   "metadata": {},
   "outputs": [
    {
     "name": "stdout",
     "output_type": "stream",
     "text": [
      "The junction of interest is 2_97558994_97580461\n"
     ]
    },
    {
     "data": {
      "image/png": "[encoded data removed]",
      "text/plain": [
       "<Figure size 1000x600 with 1 Axes>"
      ]
     },
     "metadata": {},
     "output_type": "display_data"
    }
   ],
   "source": [
    "j = all_juncs_df.junction_id.sample(1).values[0]\n",
    "visualize_junctions(all_juncs_df, j)"
   ]
  },
  {
   "cell_type": "markdown",
   "metadata": {},
   "source": [
    "### Now let's convert the intron clusters to a format that can be used by LeafletSC )"
   ]
  },
  {
   "cell_type": "code",
   "execution_count": null,
   "metadata": {},
   "outputs": [],
   "source": [
    "intron_clusters = \"/gpfs/commons/home/kisaev/LeafletSC/data/processed/test_intron_clusters_50_500000_2_20240309_single_cell.gz\" # path to the intron clusters file\n",
    "output_file = output_path + \"test_model_input\" # name of the output file\n",
    "has_genes = \"yes\" # since we used a gtf file to obtain the intron clusters, we can set this to yes\n",
    "chunk_size = 5000 # number of junctions to process at a time from the intron clusters files\n",
    "metadata = None # can replace with path, if metadata is available for cells (cell type, origin, library ID...)"
   ]
  },
  {
   "cell_type": "code",
   "execution_count": null,
   "metadata": {},
   "outputs": [],
   "source": [
    "prep_model_input.main(intron_clusters, output_file, has_genes, chunk_size, metadata)"
   ]
  },
  {
   "cell_type": "markdown",
   "metadata": {},
   "source": [
    "### Take a quick look at the input file that will go into the model to get familiarized with all the columns"
   ]
  },
  {
   "cell_type": "code",
   "execution_count": null,
   "metadata": {},
   "outputs": [],
   "source": [
    "model_input_data = \"/gpfs/commons/home/kisaev/LeafletSC/data/processed/test_model_input.h5\"\n",
    "summarized_data = pd.read_hdf(model_input_data, 'df')\n",
    "print(summarized_data.head())"
   ]
  },
  {
   "cell_type": "markdown",
   "metadata": {},
   "source": [
    "#### Note that fow now, the values in cell_type default to the cell's path, in the future it will be possible to specify the cell type in the metadata file"
   ]
  },
  {
   "cell_type": "code",
   "execution_count": null,
   "metadata": {},
   "outputs": [],
   "source": [
    "summarized_data.cell_type.unique()"
   ]
  },
  {
   "cell_type": "code",
   "execution_count": null,
   "metadata": {},
   "outputs": [],
   "source": [
    "# let's see all the columns in the summarized data\n",
    "print(summarized_data.columns)"
   ]
  },
  {
   "cell_type": "markdown",
   "metadata": {},
   "source": [
    "#### We can quickly visualize the overall junction usage ratio distribution across all cells"
   ]
  },
  {
   "cell_type": "code",
   "execution_count": null,
   "metadata": {},
   "outputs": [],
   "source": [
    "print(summarized_data.junc_ratio.hist())"
   ]
  },
  {
   "cell_type": "markdown",
   "metadata": {},
   "source": [
    "### Now we have everything need to run the Leaflet mixture model! Please refer to the next notebook for the next steps."
   ]
  }
 ],
 "metadata": {
  "kernelspec": {
   "display_name": "leafcutter-sc",
   "language": "python",
   "name": "python3"
  },
  "language_info": {
   "codemirror_mode": {
    "name": "ipython",
    "version": 3
   },
   "file_extension": ".py",
   "mimetype": "text/x-python",
   "name": "python",
   "nbconvert_exporter": "python",
   "pygments_lexer": "ipython3",
   "version": "3.10.13"
  }
 },
 "nbformat": 4,
 "nbformat_minor": 2
}
