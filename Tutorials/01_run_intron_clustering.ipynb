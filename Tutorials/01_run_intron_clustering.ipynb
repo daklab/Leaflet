{
 "cells": [
  {
   "cell_type": "markdown",
   "metadata": {},
   "source": [
    "## Let's run intron clustering to annotate alternative splicing events given observed junctions in our cells "
   ]
  },
  {
   "cell_type": "code",
   "execution_count": 9,
   "metadata": {},
   "outputs": [
    {
     "name": "stdout",
     "output_type": "stream",
     "text": [
      "The junctions are loaded from the following path: /gpfs/commons/home/kisaev/LeafletSC/data/raw/junctions/\n",
      "The files in the path are: ['B107926_O8_Blue_Blood_S250.homo.gencode.v30.ERCC.chrM.juncswbarcodes', 'B107925_B5_S284.homo.gencode.v30.ERCC.chrM.juncswbarcodes']\n"
     ]
    }
   ],
   "source": [
    "# Load LeafletSC \n",
    "import LeafletSC\n",
    "import os\n",
    "import pandas as pd \n",
    "\n",
    "# Define path that contains some junction files (only 2 files are used for this example, corresponding to 2 individual cells)\n",
    "juncs_path = \"/gpfs/commons/home/kisaev/LeafletSC/data/raw/junctions/\"\n",
    "print(\"The junctions are loaded from the following path: \" + juncs_path) \n",
    "\n",
    "# print the files in the path \n",
    "print(\"The files in the path are: \" + str(os.listdir(juncs_path)))\n",
    "\n",
    "# define path for saving the output data \n",
    "output_path = \"/gpfs/commons/home/kisaev/LeafletSC/data/processed/\""
   ]
  },
  {
   "cell_type": "markdown",
   "metadata": {},
   "source": [
    "### Let's first define some parameters for the analysis"
   ]
  },
  {
   "cell_type": "code",
   "execution_count": 2,
   "metadata": {},
   "outputs": [],
   "source": [
    "from LeafletSC.clustering.obtain_intron_clusters import main as obtain_intron_clusters\n",
    "from LeafletSC.clustering.prep_model_input import main as prep_model_input\n",
    "\n",
    "# junc_files defines a path for where junction files can be found, in this case, the path is defined above\n",
    "junc_files = juncs_path\n",
    "\n",
    "# we provide a gtf file for the human genome as well to make better sense of the junctions that are detected in cells\n",
    "# please replace with the path to the gtf file on your system\n",
    "gtf_file=\"/gpfs/commons/groups/knowles_lab/Karin/genome_files/gencode.v43.basic.annotation.gtf\" \n",
    "\n",
    "# define additional parameters \n",
    "sequencing_type = \"single_cell\"\n",
    "\n",
    "# ensure output files are to be saved in output_path \n",
    "output_file = output_path + \"test_intron_clusters\"\n",
    "junc_bed_file= output_path + \"test_juncs.bed\" # you can load this file into IGV to visualize the junction coordinates \n",
    "min_intron_length = 50\n",
    "max_intron_length = 500000\n",
    "threshold_inc = 0.05 \n",
    "min_junc_reads = 2\n",
    "min_num_cells_wjunc = 2\n",
    "keep_singletons = False # ignore junctions that do not share splice sites with any other junction (likely const)\n",
    "junc_suffix = \"*.juncswbarcodes\" # depends on how you ran regtools "
   ]
  },
  {
   "cell_type": "markdown",
   "metadata": {},
   "source": [
    "### Run intron clustering "
   ]
  },
  {
   "cell_type": "code",
   "execution_count": 3,
   "metadata": {},
   "outputs": [
    {
     "name": "stdout",
     "output_type": "stream",
     "text": [
      "Reading in junction files from /gpfs/commons/home/kisaev/LeafletSC/data/raw/junctions\n",
      "The number of regtools junction files to be processed is 2\n"
     ]
    },
    {
     "name": "stderr",
     "output_type": "stream",
     "text": [
      "100%|██████████| 2/2 [00:00<00:00, 12.48it/s]\n"
     ]
    },
    {
     "name": "stdout",
     "output_type": "stream",
     "text": [
      "The total number of files that could not be read is 0 as these had no junctions\n",
      "The gtf file you provided is /gpfs/commons/groups/knowles_lab/Karin/genome_files/gencode.v43.basic.annotation.gtf\n",
      "Now reading gtf file using gtfparse\n",
      "This step may take a while depending on the size of your gtf file\n"
     ]
    },
    {
     "name": "stderr",
     "output_type": "stream",
     "text": [
      "INFO:root:Extracted GTF attributes: ['gene_id', 'gene_type', 'gene_name', 'level', 'tag', 'transcript_id', 'transcript_type', 'transcript_name', 'transcript_support_level', 'havana_transcript', 'exon_number', 'exon_id', 'hgnc_id', 'havana_gene', 'ont', 'protein_id', 'ccdsid', 'artif_dupl']\n"
     ]
    },
    {
     "name": "stdout",
     "output_type": "stream",
     "text": [
      "Reading gtf file took 45.91 seconds\n",
      "The number of unique exons is 411865\n",
      "The number of unique transcript ids is 115526\n",
      "The number of unique gene ids is 62668\n",
      "Done extracting exons from gtf file\n",
      "Loading files obtained from single_cell sequencing\n",
      "Filtering based on intron length\n",
      "Cleaning up 'chrom' column\n",
      "Making gr object from all junctions across all cell types\n",
      "The summary statistics for counts_total across junctions are: \n",
      "count    14417.000000\n",
      "mean       167.274745\n",
      "std        496.475133\n",
      "min          1.000000\n",
      "25%         15.000000\n",
      "50%         70.000000\n",
      "75%        172.000000\n",
      "max      17913.000000\n",
      "Name: counts_total, dtype: float64\n",
      "The number of junctions with only 1 read across the board is: \n",
      "1007\n",
      "The number of junctions after filtering for minimum junction reads is 12876\n",
      "The number of junctions prior to assessing distance to exons is 12876\n",
      "Annotating junctions with known exons based on input gtf file\n",
      "The number of junctions after assessing distance to exons is 11813\n",
      "Clustering intron splicing events by gene_id\n",
      "The number of clusters after clustering by gene_id is 11253\n",
      "1     11007\n",
      "3       333\n",
      "2       180\n",
      "4        80\n",
      "5        35\n",
      "7        28\n",
      "8        24\n",
      "22       22\n",
      "19       19\n",
      "6        18\n",
      "9        18\n",
      "14       14\n",
      "13       13\n",
      "12       12\n",
      "10       10\n",
      "Name: Count, dtype: int64\n",
      "The number of clusters after removing singletons is 246\n",
      "Confirming that junctions in each cluster share splice sites\n",
      "The number of clusters after filtering for shared splice sites is 237\n",
      "3     351\n",
      "2     198\n",
      "6      36\n",
      "5      30\n",
      "18     18\n",
      "8      16\n",
      "7      14\n",
      "13     13\n",
      "10     10\n",
      "4       8\n",
      "Name: Count, dtype: int64\n",
      "The number of clusters after removing singletons is 237\n",
      "The number of clusters to be finally evaluated is 237\n",
      "The number of junctions to be finally evaluated is 694\n",
      "You can find the output file here: /gpfs/commons/home/kisaev/LeafletSC/data/processed/test_intron_clusters_50_500000_2_20240309_single_cell.gz\n",
      "Finished obtaining intron cluster files!\n"
     ]
    }
   ],
   "source": [
    "obtain_intron_clusters(junc_files=junc_files, gtf_file=gtf_file, output_file=output_file, \n",
    "                       sequencing_type=sequencing_type, junc_bed_file=junc_bed_file, \n",
    "                       threshold_inc=threshold_inc, min_intron = min_intron_length,\n",
    "                       max_intron=max_intron_length, min_junc_reads=min_junc_reads,\n",
    "                       singleton=keep_singletons, strict_filter=False, \n",
    "                       junc_suffix=junc_suffix, min_num_cells_wjunc=min_num_cells_wjunc,\n",
    "                       filter_low_juncratios_inclust=False)"
   ]
  },
  {
   "cell_type": "markdown",
   "metadata": {},
   "source": [
    "### Now let's convert the intron clusters to a format that can be used by LeafletSC )"
   ]
  },
  {
   "cell_type": "code",
   "execution_count": 7,
   "metadata": {},
   "outputs": [],
   "source": [
    "intron_clusters = \"/gpfs/commons/home/kisaev/LeafletSC/data/processed/test_intron_clusters_50_500000_2_20240309_single_cell.gz\" # path to the intron clusters file\n",
    "output_file = output_path + \"test_model_input\" # name of the output file\n",
    "has_genes = \"yes\" # since we used a gtf file to obtain the intron clusters, we can set this to yes\n",
    "chunk_size = 5000 # number of junctions to process at a time from the intron clusters files\n",
    "metadata = None # can replace with path, if metadata is available for cells (cell type, origin, library ID...)"
   ]
  },
  {
   "cell_type": "code",
   "execution_count": 8,
   "metadata": {},
   "outputs": [
    {
     "name": "stdout",
     "output_type": "stream",
     "text": [
      "The intron clusters file you provided is /gpfs/commons/home/kisaev/LeafletSC/data/processed/test_intron_clusters_50_500000_2_20240309_single_cell.gz, reading in chunks of 5000 lines\n",
      "Processing intron clusters\n"
     ]
    },
    {
     "name": "stderr",
     "output_type": "stream",
     "text": [
      "1it [00:00, 52.99it/s]"
     ]
    },
    {
     "name": "stdout",
     "output_type": "stream",
     "text": [
      "Done processing intron clusters\n",
      "The number of intron clusters evaluated is 237\n",
      "The number of junctions evaluated is 694\n",
      "The number of cells evaluated is 2\n",
      "The number of clusters with only one junction is 0\n",
      "A gtf file was used to generate intron clusters\n",
      "The number of total cells evaluated is 2\n",
      "The number of cells per cell type is:\n",
      "cell_type\n",
      "/gpfs/commons/home/kisaev/LeafletSC/data/raw/junctions/B107925_B5_S284.homo.gencode.v30.ERCC.chrM.juncswbarcodes               1\n",
      "/gpfs/commons/home/kisaev/LeafletSC/data/raw/junctions/B107926_O8_Blue_Blood_S250.homo.gencode.v30.ERCC.chrM.juncswbarcodes    1\n",
      "Name: cell_type, dtype: int64\n",
      "['B107925_B5_S284.homo.gencode.v30.ERCC.chrM_/gpfs/commons/home/kisaev/LeafletSC/data/raw/junctions/B107925_B5_S284.homo.gencode.v30.ERCC.chrM.juncswbarcodes'\n",
      " 'B107926_O8_Blue_Blood_S250.homo.gencode.v30.ERCC.chrM_/gpfs/commons/home/kisaev/LeafletSC/data/raw/junctions/B107926_O8_Blue_Blood_S250.homo.gencode.v30.ERCC.chrM.juncswbarcodes']\n",
      "You can find the resulting file at /gpfs/commons/home/kisaev/LeafletSC/data/processed/test_model_input.h5\n",
      "Done generating input file for Leaflet model. This process took 0 seconds\n"
     ]
    },
    {
     "name": "stderr",
     "output_type": "stream",
     "text": [
      "\n"
     ]
    }
   ],
   "source": [
    "prep_model_input.main(intron_clusters, output_file, has_genes, chunk_size, metadata)"
   ]
  },
  {
   "cell_type": "markdown",
   "metadata": {},
   "source": [
    "### Take a quick look at the input file that will go into the model to get familiarized with all the columns"
   ]
  },
  {
   "cell_type": "code",
   "execution_count": 10,
   "metadata": {},
   "outputs": [
    {
     "name": "stdout",
     "output_type": "stream",
     "text": [
      "                                             cell_id  Cluster  Cluster_Counts  \\\n",
      "0  B107925_B5_S284.homo.gencode.v30.ERCC.chrM_/gp...       70             153   \n",
      "1  B107925_B5_S284.homo.gencode.v30.ERCC.chrM_/gp...       70             153   \n",
      "2  B107925_B5_S284.homo.gencode.v30.ERCC.chrM_/gp...      151             376   \n",
      "3  B107925_B5_S284.homo.gencode.v30.ERCC.chrM_/gp...      151             376   \n",
      "4  B107925_B5_S284.homo.gencode.v30.ERCC.chrM_/gp...      151             376   \n",
      "\n",
      "             junction_id             gene_id  junc_count  \\\n",
      "0  1_175004814_175006744  ENSG00000116161.18           8   \n",
      "1  1_175004833_175006744  ENSG00000116161.18         145   \n",
      "2  1_145608175_145616233  ENSG00000117262.19         218   \n",
      "3  1_145608175_145618319  ENSG00000117262.19          20   \n",
      "4  1_145616293_145618319  ENSG00000117262.19         138   \n",
      "\n",
      "                                           cell_type  junc_ratio  \\\n",
      "0  /gpfs/commons/home/kisaev/LeafletSC/data/raw/j...    0.052288   \n",
      "1  /gpfs/commons/home/kisaev/LeafletSC/data/raw/j...    0.947712   \n",
      "2  /gpfs/commons/home/kisaev/LeafletSC/data/raw/j...    0.579787   \n",
      "3  /gpfs/commons/home/kisaev/LeafletSC/data/raw/j...    0.053191   \n",
      "4  /gpfs/commons/home/kisaev/LeafletSC/data/raw/j...    0.367021   \n",
      "\n",
      "   cell_id_index  junction_id_index  \n",
      "0              0                386  \n",
      "1              0                387  \n",
      "2              0                332  \n",
      "3              0                333  \n",
      "4              0                334  \n"
     ]
    }
   ],
   "source": [
    "model_input_data = \"/gpfs/commons/home/kisaev/LeafletSC/data/processed/test_model_input.h5\"\n",
    "summarized_data = pd.read_hdf(model_input_data, 'df')\n",
    "print(summarized_data.head())"
   ]
  },
  {
   "cell_type": "markdown",
   "metadata": {},
   "source": [
    "#### Note that fow now, the values in cell_type default to the cell's path, in the future it will be possible to specify the cell type in the metadata file"
   ]
  },
  {
   "cell_type": "code",
   "execution_count": 13,
   "metadata": {},
   "outputs": [
    {
     "data": {
      "text/plain": [
       "array(['/gpfs/commons/home/kisaev/LeafletSC/data/raw/junctions/B107925_B5_S284.homo.gencode.v30.ERCC.chrM.juncswbarcodes',\n",
       "       '/gpfs/commons/home/kisaev/LeafletSC/data/raw/junctions/B107926_O8_Blue_Blood_S250.homo.gencode.v30.ERCC.chrM.juncswbarcodes'],\n",
       "      dtype=object)"
      ]
     },
     "execution_count": 13,
     "metadata": {},
     "output_type": "execute_result"
    }
   ],
   "source": [
    "summarized_data.cell_type.unique()"
   ]
  },
  {
   "cell_type": "code",
   "execution_count": 11,
   "metadata": {},
   "outputs": [
    {
     "name": "stdout",
     "output_type": "stream",
     "text": [
      "Index(['cell_id', 'Cluster', 'Cluster_Counts', 'junction_id', 'gene_id',\n",
      "       'junc_count', 'cell_type', 'junc_ratio', 'cell_id_index',\n",
      "       'junction_id_index'],\n",
      "      dtype='object')\n"
     ]
    }
   ],
   "source": [
    "# let's see all the columns in the summarized data\n",
    "print(summarized_data.columns)"
   ]
  },
  {
   "cell_type": "markdown",
   "metadata": {},
   "source": [
    "#### We can quickly visualize the overall junction usage ratio distribution across all cells"
   ]
  },
  {
   "cell_type": "code",
   "execution_count": 16,
   "metadata": {},
   "outputs": [
    {
     "name": "stdout",
     "output_type": "stream",
     "text": [
      "Axes(0.125,0.11;0.775x0.77)\n"
     ]
    },
    {
     "data": {
      "image/png": "[encoded data removed]",
      "text/plain": [
       "<Figure size 640x480 with 1 Axes>"
      ]
     },
     "metadata": {},
     "output_type": "display_data"
    }
   ],
   "source": [
    "print(summarized_data.junc_ratio.hist())"
   ]
  },
  {
   "cell_type": "markdown",
   "metadata": {},
   "source": [
    "### Now we have everything need to run the Leaflet mixture model! Please refer to the next notebook for the next steps."
   ]
  }
 ],
 "metadata": {
  "kernelspec": {
   "display_name": "leafcutter-sc",
   "language": "python",
   "name": "python3"
  },
  "language_info": {
   "codemirror_mode": {
    "name": "ipython",
    "version": 3
   },
   "file_extension": ".py",
   "mimetype": "text/x-python",
   "name": "python",
   "nbconvert_exporter": "python",
   "pygments_lexer": "ipython3",
   "version": "3.9.15"
  }
 },
 "nbformat": 4,
 "nbformat_minor": 2
}
