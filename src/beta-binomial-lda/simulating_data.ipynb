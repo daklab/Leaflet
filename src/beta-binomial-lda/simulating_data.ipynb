{
 "cells": [
  {
   "cell_type": "code",
   "execution_count": 1,
   "metadata": {},
   "outputs": [
    {
     "name": "stdout",
     "output_type": "stream",
     "text": [
      "cpu\n"
     ]
    },
    {
     "name": "stderr",
     "output_type": "stream",
     "text": [
      "/gpfs/commons/home/kisaev/.local/lib/python3.9/site-packages/statsmodels/compat/pandas.py:65: FutureWarning: pandas.Int64Index is deprecated and will be removed from pandas in a future version. Use pandas.Index with the appropriate dtype instead.\n"
     ]
    },
    {
     "data": {
      "text/plain": [
       "<module 'betabinomo_LDA_singlecells_kinit' from '/gpfs/commons/home/kisaev/leafcutter-sc/src/beta-binomial-lda/betabinomo_LDA_singlecells_kinit.py'>"
      ]
     },
     "execution_count": 1,
     "metadata": {},
     "output_type": "execute_result"
    }
   ],
   "source": [
    "from importlib import reload\n",
    "from load_cluster_data import load_cluster_data\n",
    "import gc\n",
    "\n",
    "import numpy as np\n",
    "import torch\n",
    "import pandas as pd \n",
    "import seaborn as sns\n",
    "import collections\n",
    "\n",
    "device = torch.device('cuda' if torch.cuda.is_available() else 'cpu')\n",
    "print(device)\n",
    "\n",
    "float_type = { \n",
    "    \"device\" : device, \n",
    "    \"dtype\" : torch.float, # save memory\n",
    "}\n",
    "\n",
    "hypers = {\n",
    "    \"eta\" : 1., \n",
    "    \"alpha_prior\" : 1., # karin had 0.65 \n",
    "    \"pi_prior\" : 1.\n",
    "}\n",
    "\n",
    "K = 10\n",
    "\n",
    "import plotnine as p9\n",
    "import scipy.sparse as sp\n",
    "import matplotlib.pyplot as plt \n",
    "import splicing_PCA_utils\n",
    "from nuclear_norm_PCA import sparse_sum\n",
    "\n",
    "from pca_kmeans_init import pca_kmeans_init\n",
    "from betabinomo_LDA_singlecells_kinit import *\n",
    "import betabinomo_LDA_singlecells_kinit\n",
    "reload(betabinomo_LDA_singlecells_kinit)\n"
   ]
  },
  {
   "attachments": {},
   "cell_type": "markdown",
   "metadata": {},
   "source": [
    "### Load data"
   ]
  },
  {
   "cell_type": "code",
   "execution_count": 3,
   "metadata": {},
   "outputs": [],
   "source": [
    "input_file = '/gpfs/commons/groups/knowles_lab/Karin/parse-pbmc-leafcutter/leafcutter/junctions/PBMC_input_for_LDA.h5'"
   ]
  },
  {
   "cell_type": "code",
   "execution_count": 4,
   "metadata": {},
   "outputs": [
    {
     "data": {
      "text/html": [
       "<div>\n",
       "<style scoped>\n",
       "    .dataframe tbody tr th:only-of-type {\n",
       "        vertical-align: middle;\n",
       "    }\n",
       "\n",
       "    .dataframe tbody tr th {\n",
       "        vertical-align: top;\n",
       "    }\n",
       "\n",
       "    .dataframe thead th {\n",
       "        text-align: right;\n",
       "    }\n",
       "</style>\n",
       "<table border=\"1\" class=\"dataframe\">\n",
       "  <thead>\n",
       "    <tr style=\"text-align: right;\">\n",
       "      <th></th>\n",
       "      <th>cell_id</th>\n",
       "      <th>Cluster</th>\n",
       "      <th>Cluster_Counts</th>\n",
       "      <th>junction_id</th>\n",
       "      <th>gene_name</th>\n",
       "      <th>junc_count</th>\n",
       "      <th>score</th>\n",
       "      <th>junc_ratio</th>\n",
       "      <th>cell_id_index</th>\n",
       "      <th>junction_id_index</th>\n",
       "      <th>cell_type</th>\n",
       "    </tr>\n",
       "  </thead>\n",
       "  <tbody>\n",
       "    <tr>\n",
       "      <th>0</th>\n",
       "      <td>B_10_10_3</td>\n",
       "      <td>371</td>\n",
       "      <td>1</td>\n",
       "      <td>1_29039426_29053106</td>\n",
       "      <td>EPB41</td>\n",
       "      <td>1</td>\n",
       "      <td>150</td>\n",
       "      <td>1.0</td>\n",
       "      <td>0</td>\n",
       "      <td>18002</td>\n",
       "      <td>B</td>\n",
       "    </tr>\n",
       "    <tr>\n",
       "      <th>1</th>\n",
       "      <td>B_10_10_3</td>\n",
       "      <td>509</td>\n",
       "      <td>1</td>\n",
       "      <td>1_43422225_43422479</td>\n",
       "      <td>SZT2</td>\n",
       "      <td>1</td>\n",
       "      <td>82</td>\n",
       "      <td>1.0</td>\n",
       "      <td>0</td>\n",
       "      <td>18599</td>\n",
       "      <td>B</td>\n",
       "    </tr>\n",
       "    <tr>\n",
       "      <th>2</th>\n",
       "      <td>B_10_10_3</td>\n",
       "      <td>576</td>\n",
       "      <td>2</td>\n",
       "      <td>1_1709133_1709517</td>\n",
       "      <td>CDK11A</td>\n",
       "      <td>1</td>\n",
       "      <td>206</td>\n",
       "      <td>0.5</td>\n",
       "      <td>0</td>\n",
       "      <td>17445</td>\n",
       "      <td>B</td>\n",
       "    </tr>\n",
       "    <tr>\n",
       "      <th>3</th>\n",
       "      <td>B_10_10_3</td>\n",
       "      <td>576</td>\n",
       "      <td>2</td>\n",
       "      <td>1_1709640_1712263</td>\n",
       "      <td>CDK11A</td>\n",
       "      <td>1</td>\n",
       "      <td>1245</td>\n",
       "      <td>0.5</td>\n",
       "      <td>0</td>\n",
       "      <td>17446</td>\n",
       "      <td>B</td>\n",
       "    </tr>\n",
       "    <tr>\n",
       "      <th>4</th>\n",
       "      <td>B_10_10_3</td>\n",
       "      <td>763</td>\n",
       "      <td>1</td>\n",
       "      <td>1_19124690_19126445</td>\n",
       "      <td>UBR4</td>\n",
       "      <td>1</td>\n",
       "      <td>270</td>\n",
       "      <td>1.0</td>\n",
       "      <td>0</td>\n",
       "      <td>17503</td>\n",
       "      <td>B</td>\n",
       "    </tr>\n",
       "  </tbody>\n",
       "</table>\n",
       "</div>"
      ],
      "text/plain": [
       "     cell_id  Cluster  Cluster_Counts          junction_id gene_name  \\\n",
       "0  B_10_10_3      371               1  1_29039426_29053106     EPB41   \n",
       "1  B_10_10_3      509               1  1_43422225_43422479      SZT2   \n",
       "2  B_10_10_3      576               2    1_1709133_1709517    CDK11A   \n",
       "3  B_10_10_3      576               2    1_1709640_1712263    CDK11A   \n",
       "4  B_10_10_3      763               1  1_19124690_19126445      UBR4   \n",
       "\n",
       "   junc_count  score  junc_ratio  cell_id_index  junction_id_index cell_type  \n",
       "0           1    150         1.0              0              18002         B  \n",
       "1           1     82         1.0              0              18599         B  \n",
       "2           1    206         0.5              0              17445         B  \n",
       "3           1   1245         0.5              0              17446         B  \n",
       "4           1    270         1.0              0              17503         B  "
      ]
     },
     "execution_count": 4,
     "metadata": {},
     "output_type": "execute_result"
    }
   ],
   "source": [
    "summarized_data = pd.read_hdf(input_file, 'df')\n",
    "summarized_data.head()"
   ]
  },
  {
   "cell_type": "code",
   "execution_count": 5,
   "metadata": {},
   "outputs": [
    {
     "name": "stdout",
     "output_type": "stream",
     "text": [
      "65457\n",
      "38802\n",
      "11585\n"
     ]
    }
   ],
   "source": [
    "print(len(summarized_data.cell_id.unique())) # num cells \n",
    "print(len(summarized_data.junction_id.unique())) # num junctions\n",
    "print(len(summarized_data.Cluster.unique())) # num Cluster"
   ]
  },
  {
   "cell_type": "code",
   "execution_count": null,
   "metadata": {},
   "outputs": [],
   "source": [
    "input_file = '/gpfs/commons/groups/knowles_lab/Karin/parse-pbmc-leafcutter/leafcutter/junctions/PBMC_input_for_LDA.h5'\n",
    "final_data, coo_counts_sparse, coo_cluster_sparse, cell_ids_conversion, junction_ids_conversion = load_cluster_data(\n",
    "    input_file) # , celltypes = [\"B\", \"MemoryCD4T\"])\n",
    "\n",
    "# still do preprocessing in scipy\n",
    "indices = (final_data.cell_id_index, final_data.junction_id_index)\n",
    "indices_np = np.stack(indices)\n",
    "junc_counts = sp.coo_matrix((final_data.junc_count, indices))\n",
    "cluster_counts = sp.coo_matrix((final_data.cluster_count, indices))"
   ]
  },
  {
   "cell_type": "code",
   "execution_count": null,
   "metadata": {},
   "outputs": [],
   "source": [
    "junc_counts_sub, cluster_counts_sub, to_keep = splicing_PCA_utils.filter_junctions(\n",
    "    junc_counts, cluster_counts, plot = True)\n",
    "\n",
    "junc_ind_keep = junction_ids_conversion[\"junction_id_index\"][to_keep]\n",
    "final_data = final_data[final_data.junction_id_index.isin(junc_ind_keep)]"
   ]
  },
  {
   "cell_type": "code",
   "execution_count": null,
   "metadata": {},
   "outputs": [],
   "source": [
    "junction_ids_conversion=junction_ids_conversion[to_keep]\n",
    "junction_ids_conversion[\"new_junction_id_index\"] = np.arange(junction_ids_conversion.shape[0])"
   ]
  },
  {
   "cell_type": "code",
   "execution_count": null,
   "metadata": {},
   "outputs": [],
   "source": [
    "# re-order the remaining junctions \n",
    "final_data = final_data.merge(junction_ids_conversion, on = \"junction_id_index\")\n",
    "final_data"
   ]
  },
  {
   "cell_type": "code",
   "execution_count": null,
   "metadata": {},
   "outputs": [],
   "source": [
    "print(junc_counts_sub.toarray()[3, 720]) # should be 3 sanity check of data \n",
    "print(cluster_counts_sub.toarray()[3, 720]) # should be 5 sanity check of data "
   ]
  },
  {
   "attachments": {},
   "cell_type": "markdown",
   "metadata": {},
   "source": [
    "### Simulate Data"
   ]
  },
  {
   "cell_type": "code",
   "execution_count": null,
   "metadata": {},
   "outputs": [],
   "source": [
    "sim_junc_counts = splicing_PCA_utils.simulate_junc_counts(\n",
    "    cluster_counts_sub,\n",
    "    cell_ids_conversion.cell_type.astype('category')\n",
    ")"
   ]
  },
  {
   "cell_type": "code",
   "execution_count": null,
   "metadata": {},
   "outputs": [],
   "source": [
    "# make dataframe using the following columsn \n",
    "sim_junc_counts_flat = pd.DataFrame({\"cell_id_index\": sim_junc_counts.row, \"new_junction_id_index\": sim_junc_counts.col, \"new_junc_count\": sim_junc_counts.data})\n",
    "\n",
    "# update junction counts in final_data object to be the simulated counts \n",
    "final_data = final_data.merge(sim_junc_counts_flat, on = [\"cell_id_index\", \"new_junction_id_index\"])"
   ]
  },
  {
   "attachments": {},
   "cell_type": "markdown",
   "metadata": {},
   "source": [
    "### Prep simulated data as input into LDA "
   ]
  },
  {
   "cell_type": "code",
   "execution_count": null,
   "metadata": {},
   "outputs": [],
   "source": [
    "sim_data = final_data.copy() # make a copy of the data\n",
    "sim_data.drop(columns = [\"junc_count\", \"junction_id_index\"], inplace = True) # drop the old junction counts and junction id index\n",
    "# rename columns new_junction_id_index and new_junc_count to junction_id_index and junc_count\n",
    "sim_data.rename(columns = {\"new_junction_id_index\": \"junction_id_index\", \"new_junc_count\": \"junc_count\"}, inplace = True)"
   ]
  },
  {
   "cell_type": "code",
   "execution_count": null,
   "metadata": {},
   "outputs": [],
   "source": [
    "my_data = make_torch_data(sim_data, **float_type)"
   ]
  },
  {
   "cell_type": "code",
   "execution_count": null,
   "metadata": {},
   "outputs": [],
   "source": [
    "my_data"
   ]
  },
  {
   "attachments": {},
   "cell_type": "markdown",
   "metadata": {},
   "source": [
    "### Run LDA"
   ]
  },
  {
   "cell_type": "code",
   "execution_count": null,
   "metadata": {},
   "outputs": [],
   "source": [
    "num_trials = 1 # can't currently run more than 1 or overflow GPU memory :( \n",
    "num_iters = 300 # should also be an argument that gets fed in\n",
    "\n",
    "# loop over the number of trials (for now just testing using one trial but in general need to evaluate how performance is affected by number of trials)\n",
    "for t in range(num_trials):\n",
    "\n",
    "    # run coordinate ascent VI\n",
    "    print(K)\n",
    "\n",
    "    ALPHA_f, PI_f, GAMMA_f, PHI_f, elbos_all = calculate_CAVI(K, my_data, float_type, hypers = hypers, num_iterations = num_iters)\n",
    "    elbos_all = np.array(elbos_all)\n",
    "    juncs_probs = ALPHA_f / (ALPHA_f+PI_f)\n",
    "    \n",
    "    theta_f = GAMMA_f / GAMMA_f.sum(1,keepdim=True)\n",
    "    theta_f_plot = pd.DataFrame(theta_f.cpu())\n",
    "    theta_f_plot['cell_id'] = cell_ids_conversion[\"cell_type\"].to_numpy()\n",
    "    theta_f_plot_summ = theta_f_plot.groupby('cell_id').mean()\n",
    "    print(theta_f_plot_summ)\n",
    "    \n",
    "    # plot ELBO\n",
    "    plt.plot(elbos_all[2:]); plt.show()"
   ]
  },
  {
   "cell_type": "code",
   "execution_count": null,
   "metadata": {},
   "outputs": [],
   "source": [
    "x.shape"
   ]
  },
  {
   "cell_type": "code",
   "execution_count": null,
   "metadata": {},
   "outputs": [],
   "source": [
    "x = theta_f.cpu().numpy()\n",
    "x -= x.mean(1,keepdims=True)\n",
    "x /= x.std(1,keepdims=True)\n",
    "plt.hist(x.flatten(),100)\n",
    "pd.crosstab( cell_ids_conversion[\"cell_type\"], x.argmax(axis=1) )"
   ]
  },
  {
   "cell_type": "code",
   "execution_count": null,
   "metadata": {},
   "outputs": [],
   "source": [
    "x"
   ]
  },
  {
   "cell_type": "code",
   "execution_count": null,
   "metadata": {},
   "outputs": [],
   "source": [
    "x.shape"
   ]
  },
  {
   "cell_type": "code",
   "execution_count": null,
   "metadata": {},
   "outputs": [],
   "source": [
    "labels=cell_ids_conversion[\"cell_type\"].to_numpy()"
   ]
  },
  {
   "cell_type": "code",
   "execution_count": null,
   "metadata": {},
   "outputs": [],
   "source": [
    "xdf=pd.DataFrame(x)"
   ]
  },
  {
   "cell_type": "code",
   "execution_count": null,
   "metadata": {},
   "outputs": [],
   "source": [
    "from sklearn.decomposition import PCA\n",
    "pca_dat = PCA(n_components=10)\n",
    "principalComponents_breast = pca_dat.fit_transform(xdf)"
   ]
  },
  {
   "cell_type": "code",
   "execution_count": null,
   "metadata": {},
   "outputs": [],
   "source": [
    "principal_x_Df = pd.DataFrame(data = principalComponents_breast\n",
    "             , columns = ['pc1', 'pc2', 'pc3', 'pc4', 'pc5', 'pc6', 'pc7', 'pc8', 'pc9', 'pc10'])\n",
    "print('Explained variation per principal component: {}'.format(pca_dat.explained_variance_ratio_))\n"
   ]
  },
  {
   "cell_type": "code",
   "execution_count": null,
   "metadata": {},
   "outputs": [],
   "source": [
    "principal_x_Df['cell_type'] = labels\n",
    "principal_x_Df"
   ]
  },
  {
   "cell_type": "code",
   "execution_count": null,
   "metadata": {},
   "outputs": [],
   "source": [
    "sns.scatterplot(\"pc1\", \"pc2\", data=principal_x_Df, hue = \"cell_type\")"
   ]
  },
  {
   "cell_type": "code",
   "execution_count": null,
   "metadata": {},
   "outputs": [],
   "source": [
    "sns.scatterplot(\"pc2\", \"pc3\", data=principal_x_Df, hue = \"cell_type\")"
   ]
  },
  {
   "cell_type": "code",
   "execution_count": null,
   "metadata": {},
   "outputs": [],
   "source": [
    "sns.scatterplot(\"pc1\", \"pc3\", data=principal_x_Df, hue = \"cell_type\")"
   ]
  },
  {
   "cell_type": "code",
   "execution_count": null,
   "metadata": {},
   "outputs": [],
   "source": [
    "# get confusion matrix type object to see if simulated data is getting \"clustered\" by cell type \n",
    "# via learned cell states"
   ]
  }
 ],
 "metadata": {
  "kernelspec": {
   "display_name": "leafcutter-sc",
   "language": "python",
   "name": "python3"
  },
  "language_info": {
   "codemirror_mode": {
    "name": "ipython",
    "version": 3
   },
   "file_extension": ".py",
   "mimetype": "text/x-python",
   "name": "python",
   "nbconvert_exporter": "python",
   "pygments_lexer": "ipython3",
   "version": "3.9.16"
  },
  "orig_nbformat": 4
 },
 "nbformat": 4,
 "nbformat_minor": 2
}
