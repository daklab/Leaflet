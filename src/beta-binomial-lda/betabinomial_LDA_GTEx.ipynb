{
 "cells": [
  {
   "cell_type": "code",
   "execution_count": 2,
   "metadata": {},
   "outputs": [
    {
     "name": "stdout",
     "output_type": "stream",
     "text": [
      "cpu\n"
     ]
    },
    {
     "name": "stderr",
     "output_type": "stream",
     "text": [
      "/gpfs/commons/home/kisaev/.local/lib/python3.9/site-packages/statsmodels/compat/pandas.py:65: FutureWarning: pandas.Int64Index is deprecated and will be removed from pandas in a future version. Use pandas.Index with the appropriate dtype instead.\n"
     ]
    },
    {
     "data": {
      "text/plain": [
       "<module 'betabinomo_LDA_singlecells_kinit' from '/gpfs/commons/home/kisaev/leafcutter-sc/src/beta-binomial-lda/betabinomo_LDA_singlecells_kinit.py'>"
      ]
     },
     "execution_count": 2,
     "metadata": {},
     "output_type": "execute_result"
    }
   ],
   "source": [
    "from importlib import reload\n",
    "from load_cluster_data import load_cluster_data\n",
    "import gc\n",
    "\n",
    "import numpy as np\n",
    "import torch\n",
    "import pandas as pd \n",
    "import seaborn as sns\n",
    "import collections\n",
    "\n",
    "device = torch.device('cuda' if torch.cuda.is_available() else 'cpu')\n",
    "print(device)\n",
    "\n",
    "float_type = { \n",
    "    \"device\" : device, \n",
    "    \"dtype\" : torch.float, # save memory\n",
    "}\n",
    "\n",
    "hypers = {\n",
    "    \"eta\" : 1., \n",
    "    \"alpha_prior\" : 1., # karin had 0.65 \n",
    "    \"pi_prior\" : 1.\n",
    "}\n",
    "\n",
    "K = 10\n",
    "\n",
    "import plotnine as p9\n",
    "import scipy.sparse as sp\n",
    "import matplotlib.pyplot as plt \n",
    "import splicing_PCA_utils\n",
    "from nuclear_norm_PCA import sparse_sum\n",
    "\n",
    "from pca_kmeans_init import pca_kmeans_init\n",
    "from betabinomo_LDA_singlecells_kinit import *\n",
    "import betabinomo_LDA_singlecells_kinit\n",
    "reload(betabinomo_LDA_singlecells_kinit)\n"
   ]
  },
  {
   "attachments": {},
   "cell_type": "markdown",
   "metadata": {},
   "source": [
    "### Load data"
   ]
  },
  {
   "cell_type": "code",
   "execution_count": 6,
   "metadata": {},
   "outputs": [
    {
     "data": {
      "text/html": [
       "<div>\n",
       "<style scoped>\n",
       "    .dataframe tbody tr th:only-of-type {\n",
       "        vertical-align: middle;\n",
       "    }\n",
       "\n",
       "    .dataframe tbody tr th {\n",
       "        vertical-align: top;\n",
       "    }\n",
       "\n",
       "    .dataframe thead th {\n",
       "        text-align: right;\n",
       "    }\n",
       "</style>\n",
       "<table border=\"1\" class=\"dataframe\">\n",
       "  <thead>\n",
       "    <tr style=\"text-align: right;\">\n",
       "      <th></th>\n",
       "      <th>SAMPID</th>\n",
       "      <th>Cluster</th>\n",
       "      <th>Cluster_Counts</th>\n",
       "      <th>Name</th>\n",
       "      <th>Description</th>\n",
       "      <th>junc_count</th>\n",
       "      <th>SMTS</th>\n",
       "      <th>SMTSD</th>\n",
       "      <th>Strand</th>\n",
       "      <th>gene_id</th>\n",
       "      <th>gene_name</th>\n",
       "      <th>Count</th>\n",
       "      <th>junc_ratio</th>\n",
       "      <th>sample_id_index</th>\n",
       "      <th>junction_id_index</th>\n",
       "    </tr>\n",
       "  </thead>\n",
       "  <tbody>\n",
       "    <tr>\n",
       "      <th>0</th>\n",
       "      <td>GTEX-1117F-0226-SM-5GZZ7</td>\n",
       "      <td>3616.0</td>\n",
       "      <td>8634</td>\n",
       "      <td>chr1_44777790_44777999</td>\n",
       "      <td>ENSG00000142937.11</td>\n",
       "      <td>8634</td>\n",
       "      <td>Adipose Tissue</td>\n",
       "      <td>Adipose - Subcutaneous</td>\n",
       "      <td>+</td>\n",
       "      <td>ENSG00000142937</td>\n",
       "      <td>RPS8</td>\n",
       "      <td>1.0</td>\n",
       "      <td>1.0</td>\n",
       "      <td>0</td>\n",
       "      <td>13</td>\n",
       "    </tr>\n",
       "    <tr>\n",
       "      <th>1</th>\n",
       "      <td>GTEX-1117F-0226-SM-5GZZ7</td>\n",
       "      <td>10809.0</td>\n",
       "      <td>20</td>\n",
       "      <td>chr1_209789786_209790494</td>\n",
       "      <td>ENSG00000117595.10</td>\n",
       "      <td>20</td>\n",
       "      <td>Adipose Tissue</td>\n",
       "      <td>Adipose - Subcutaneous</td>\n",
       "      <td>-</td>\n",
       "      <td>ENSG00000117595</td>\n",
       "      <td>IRF6</td>\n",
       "      <td>1.0</td>\n",
       "      <td>1.0</td>\n",
       "      <td>0</td>\n",
       "      <td>12</td>\n",
       "    </tr>\n",
       "    <tr>\n",
       "      <th>2</th>\n",
       "      <td>GTEX-1117F-0226-SM-5GZZ7</td>\n",
       "      <td>17722.0</td>\n",
       "      <td>46</td>\n",
       "      <td>chr2_233467204_233468422</td>\n",
       "      <td>ENSG00000077044.10</td>\n",
       "      <td>46</td>\n",
       "      <td>Adipose Tissue</td>\n",
       "      <td>Adipose - Subcutaneous</td>\n",
       "      <td>+</td>\n",
       "      <td>ENSG00000077044</td>\n",
       "      <td>DGKD</td>\n",
       "      <td>1.0</td>\n",
       "      <td>1.0</td>\n",
       "      <td>0</td>\n",
       "      <td>17</td>\n",
       "    </tr>\n",
       "    <tr>\n",
       "      <th>3</th>\n",
       "      <td>GTEX-1117F-0226-SM-5GZZ7</td>\n",
       "      <td>24002.0</td>\n",
       "      <td>15</td>\n",
       "      <td>chr2_53948538_53949142</td>\n",
       "      <td>ENSG00000068878.14</td>\n",
       "      <td>15</td>\n",
       "      <td>Adipose Tissue</td>\n",
       "      <td>Adipose - Subcutaneous</td>\n",
       "      <td>-</td>\n",
       "      <td>ENSG00000068878</td>\n",
       "      <td>PSME4</td>\n",
       "      <td>1.0</td>\n",
       "      <td>1.0</td>\n",
       "      <td>0</td>\n",
       "      <td>18</td>\n",
       "    </tr>\n",
       "    <tr>\n",
       "      <th>4</th>\n",
       "      <td>GTEX-1117F-0226-SM-5GZZ7</td>\n",
       "      <td>31293.0</td>\n",
       "      <td>60</td>\n",
       "      <td>chr3_179328352_179329617</td>\n",
       "      <td>ENSG00000121864.9</td>\n",
       "      <td>60</td>\n",
       "      <td>Adipose Tissue</td>\n",
       "      <td>Adipose - Subcutaneous</td>\n",
       "      <td>+</td>\n",
       "      <td>ENSG00000121864</td>\n",
       "      <td>ZNF639</td>\n",
       "      <td>1.0</td>\n",
       "      <td>1.0</td>\n",
       "      <td>0</td>\n",
       "      <td>19</td>\n",
       "    </tr>\n",
       "  </tbody>\n",
       "</table>\n",
       "</div>"
      ],
      "text/plain": [
       "                     SAMPID  Cluster  Cluster_Counts  \\\n",
       "0  GTEX-1117F-0226-SM-5GZZ7   3616.0            8634   \n",
       "1  GTEX-1117F-0226-SM-5GZZ7  10809.0              20   \n",
       "2  GTEX-1117F-0226-SM-5GZZ7  17722.0              46   \n",
       "3  GTEX-1117F-0226-SM-5GZZ7  24002.0              15   \n",
       "4  GTEX-1117F-0226-SM-5GZZ7  31293.0              60   \n",
       "\n",
       "                       Name         Description  junc_count            SMTS  \\\n",
       "0    chr1_44777790_44777999  ENSG00000142937.11        8634  Adipose Tissue   \n",
       "1  chr1_209789786_209790494  ENSG00000117595.10          20  Adipose Tissue   \n",
       "2  chr2_233467204_233468422  ENSG00000077044.10          46  Adipose Tissue   \n",
       "3    chr2_53948538_53949142  ENSG00000068878.14          15  Adipose Tissue   \n",
       "4  chr3_179328352_179329617   ENSG00000121864.9          60  Adipose Tissue   \n",
       "\n",
       "                    SMTSD Strand          gene_id gene_name  Count  \\\n",
       "0  Adipose - Subcutaneous      +  ENSG00000142937      RPS8    1.0   \n",
       "1  Adipose - Subcutaneous      -  ENSG00000117595      IRF6    1.0   \n",
       "2  Adipose - Subcutaneous      +  ENSG00000077044      DGKD    1.0   \n",
       "3  Adipose - Subcutaneous      -  ENSG00000068878     PSME4    1.0   \n",
       "4  Adipose - Subcutaneous      +  ENSG00000121864    ZNF639    1.0   \n",
       "\n",
       "   junc_ratio  sample_id_index  junction_id_index  \n",
       "0         1.0                0                 13  \n",
       "1         1.0                0                 12  \n",
       "2         1.0                0                 17  \n",
       "3         1.0                0                 18  \n",
       "4         1.0                0                 19  "
      ]
     },
     "execution_count": 6,
     "metadata": {},
     "output_type": "execute_result"
    }
   ],
   "source": [
    "# different version of load_cluster_data here to match the dataset \n",
    "# load data \n",
    "\n",
    "input_file = '/gpfs/commons/groups/knowles_lab/Karin/data/GTEx/GTEx_junction_cluster_counts.h5'\n",
    "summarized_data = pd.read_hdf(input_file, 'df')\n",
    "summarized_data.head()"
   ]
  },
  {
   "cell_type": "code",
   "execution_count": 7,
   "metadata": {},
   "outputs": [
    {
     "name": "stdout",
     "output_type": "stream",
     "text": [
      "['Adipose Tissue' 'Muscle' 'Blood Vessel' 'Heart' 'Uterus' 'Vagina'\n",
      " 'Breast' 'Skin' 'Salivary Gland' 'Brain' 'Adrenal Gland' 'Thyroid' 'Lung'\n",
      " 'Spleen' 'Pancreas' 'Esophagus' 'Stomach' 'Colon' 'Small Intestine'\n",
      " 'Prostate' 'Testis' 'Nerve' 'Blood' 'Pituitary' 'Ovary' 'Liver' 'Kidney'\n",
      " 'Cervix Uteri' 'Fallopian Tube' 'Bladder']\n"
     ]
    }
   ],
   "source": [
    "print(summarized_data.SMTS.unique())"
   ]
  },
  {
   "cell_type": "code",
   "execution_count": 8,
   "metadata": {},
   "outputs": [],
   "source": [
    "summarized_data['sample_id_index'] = summarized_data.groupby('SAMPID').ngroup()\n",
    "summarized_data['junction_id_index'] = summarized_data.groupby('Name').ngroup()\n",
    "coo = summarized_data[[\"sample_id_index\", \"junction_id_index\", \"junc_count\", \"Cluster_Counts\", \"Cluster\", \"junc_ratio\"]]"
   ]
  },
  {
   "cell_type": "code",
   "execution_count": 10,
   "metadata": {},
   "outputs": [],
   "source": [
    "# just some sanity checks to make sure indices are in order \n",
    "cell_ids_conversion = summarized_data[[\"sample_id_index\", \"SAMPID\", \"SMTS\", \"SMTSD\"]].drop_duplicates()\n",
    "cell_ids_conversion = cell_ids_conversion.sort_values(\"sample_id_index\")\n",
    "\n",
    "junction_ids_conversion = summarized_data[[\"junction_id_index\", \"Name\", \"Cluster\", \"gene_id\", \"gene_name\"]].drop_duplicates()\n",
    "junction_ids_conversion = junction_ids_conversion.sort_values(\"junction_id_index\")"
   ]
  },
  {
   "cell_type": "code",
   "execution_count": 11,
   "metadata": {},
   "outputs": [],
   "source": [
    "# make coo_matrix for junction counts\n",
    "coo_counts_sparse = coo_matrix((coo.junc_count, (coo.sample_id_index, coo.junction_id_index)), shape=(len(coo.sample_id_index.unique()), len(coo.junction_id_index.unique())))\n",
    "coo_counts_sparse = coo_counts_sparse.tocsr()"
   ]
  },
  {
   "cell_type": "code",
   "execution_count": 14,
   "metadata": {},
   "outputs": [
    {
     "data": {
      "text/plain": [
       "array(['chr1_44777790_44777999', 'chr1_209789786_209790494',\n",
       "       'chr2_233467204_233468422', 'chr2_53948538_53949142',\n",
       "       'chr3_179328352_179329617', 'chr4_82875823_82878729',\n",
       "       'chr6_43215327_43216157', 'chr7_100374434_100376120',\n",
       "       'chr7_1980542_2002064', 'chr8_144436921_144437026',\n",
       "       'chr9_127808312_127808557', 'chr10_73427769_73428063',\n",
       "       'chr11_10001023_10002556', 'chr13_45970466_45975282',\n",
       "       'chr15_43844055_43851086', 'chr16_57070619_57074599',\n",
       "       'chr17_50550116_50550229', 'chr17_10545503_10547474',\n",
       "       'chr18_31518275_31519802', 'chr19_14409185_14409302',\n",
       "       'chr22_29354872_29356425', 'chr2_151568418_151568617',\n",
       "       'chr11_73390922_73393836', 'chr8_27322500_27322666',\n",
       "       'chr5_151517766_151521275', 'chr3_55683860_55699377',\n",
       "       'chr16_737330_739539', 'chr20_46056565_46056896',\n",
       "       'chr1_148573339_148574052'], dtype=object)"
      ]
     },
     "execution_count": 14,
     "metadata": {},
     "output_type": "execute_result"
    }
   ],
   "source": [
    "summarized_data.Name.unique()"
   ]
  },
  {
   "cell_type": "code",
   "execution_count": 25,
   "metadata": {},
   "outputs": [
    {
     "data": {
      "text/plain": [
       "88"
      ]
     },
     "execution_count": 25,
     "metadata": {},
     "output_type": "execute_result"
    }
   ],
   "source": [
    "coo_counts_sparse.toarray()[17381,15]"
   ]
  },
  {
   "cell_type": "code",
   "execution_count": 22,
   "metadata": {},
   "outputs": [
    {
     "data": {
      "text/html": [
       "<div>\n",
       "<style scoped>\n",
       "    .dataframe tbody tr th:only-of-type {\n",
       "        vertical-align: middle;\n",
       "    }\n",
       "\n",
       "    .dataframe tbody tr th {\n",
       "        vertical-align: top;\n",
       "    }\n",
       "\n",
       "    .dataframe thead th {\n",
       "        text-align: right;\n",
       "    }\n",
       "</style>\n",
       "<table border=\"1\" class=\"dataframe\">\n",
       "  <thead>\n",
       "    <tr style=\"text-align: right;\">\n",
       "      <th></th>\n",
       "      <th>SAMPID</th>\n",
       "      <th>Cluster</th>\n",
       "      <th>Cluster_Counts</th>\n",
       "      <th>Name</th>\n",
       "      <th>Description</th>\n",
       "      <th>junc_count</th>\n",
       "      <th>SMTS</th>\n",
       "      <th>SMTSD</th>\n",
       "      <th>Strand</th>\n",
       "      <th>gene_id</th>\n",
       "      <th>gene_name</th>\n",
       "      <th>Count</th>\n",
       "      <th>junc_ratio</th>\n",
       "      <th>sample_id_index</th>\n",
       "      <th>junction_id_index</th>\n",
       "    </tr>\n",
       "  </thead>\n",
       "  <tbody>\n",
       "    <tr>\n",
       "      <th>368295</th>\n",
       "      <td>GTEX-ZZPU-2726-SM-5NQ8O</td>\n",
       "      <td>124484.0</td>\n",
       "      <td>42</td>\n",
       "      <td>chr16_57070619_57074599</td>\n",
       "      <td>ENSG00000140853.15</td>\n",
       "      <td>42</td>\n",
       "      <td>Adipose Tissue</td>\n",
       "      <td>Adipose - Subcutaneous</td>\n",
       "      <td>+</td>\n",
       "      <td>ENSG00000140853</td>\n",
       "      <td>NLRC5</td>\n",
       "      <td>1.0</td>\n",
       "      <td>1.0</td>\n",
       "      <td>17381</td>\n",
       "      <td>5</td>\n",
       "    </tr>\n",
       "    <tr>\n",
       "      <th>368296</th>\n",
       "      <td>GTEX-ZZPU-2726-SM-5NQ8O</td>\n",
       "      <td>130209.0</td>\n",
       "      <td>5</td>\n",
       "      <td>chr17_50550116_50550229</td>\n",
       "      <td>ENSG00000006282.20</td>\n",
       "      <td>5</td>\n",
       "      <td>Adipose Tissue</td>\n",
       "      <td>Adipose - Subcutaneous</td>\n",
       "      <td>+</td>\n",
       "      <td>ENSG00000006282</td>\n",
       "      <td>SPATA20</td>\n",
       "      <td>2.0</td>\n",
       "      <td>1.0</td>\n",
       "      <td>17381</td>\n",
       "      <td>8</td>\n",
       "    </tr>\n",
       "    <tr>\n",
       "      <th>368297</th>\n",
       "      <td>GTEX-ZZPU-2726-SM-5NQ8O</td>\n",
       "      <td>139802.0</td>\n",
       "      <td>42</td>\n",
       "      <td>chr18_31518275_31519802</td>\n",
       "      <td>ENSG00000046604.12</td>\n",
       "      <td>42</td>\n",
       "      <td>Adipose Tissue</td>\n",
       "      <td>Adipose - Subcutaneous</td>\n",
       "      <td>+</td>\n",
       "      <td>ENSG00000046604</td>\n",
       "      <td>DSG2</td>\n",
       "      <td>1.0</td>\n",
       "      <td>1.0</td>\n",
       "      <td>17381</td>\n",
       "      <td>9</td>\n",
       "    </tr>\n",
       "    <tr>\n",
       "      <th>368298</th>\n",
       "      <td>GTEX-ZZPU-2726-SM-5NQ8O</td>\n",
       "      <td>148591.0</td>\n",
       "      <td>162</td>\n",
       "      <td>chr19_14409185_14409302</td>\n",
       "      <td>ENSG00000123136.14</td>\n",
       "      <td>162</td>\n",
       "      <td>Adipose Tissue</td>\n",
       "      <td>Adipose - Subcutaneous</td>\n",
       "      <td>-</td>\n",
       "      <td>ENSG00000123136</td>\n",
       "      <td>DDX39A</td>\n",
       "      <td>1.0</td>\n",
       "      <td>1.0</td>\n",
       "      <td>17381</td>\n",
       "      <td>10</td>\n",
       "    </tr>\n",
       "    <tr>\n",
       "      <th>368299</th>\n",
       "      <td>GTEX-ZZPU-2726-SM-5NQ8O</td>\n",
       "      <td>159663.0</td>\n",
       "      <td>88</td>\n",
       "      <td>chr22_29354872_29356425</td>\n",
       "      <td>ENSG00000100280.16</td>\n",
       "      <td>88</td>\n",
       "      <td>Adipose Tissue</td>\n",
       "      <td>Adipose - Subcutaneous</td>\n",
       "      <td>-</td>\n",
       "      <td>ENSG00000100280</td>\n",
       "      <td>AP1B1</td>\n",
       "      <td>1.0</td>\n",
       "      <td>1.0</td>\n",
       "      <td>17381</td>\n",
       "      <td>15</td>\n",
       "    </tr>\n",
       "  </tbody>\n",
       "</table>\n",
       "</div>"
      ],
      "text/plain": [
       "                         SAMPID   Cluster  Cluster_Counts  \\\n",
       "368295  GTEX-ZZPU-2726-SM-5NQ8O  124484.0              42   \n",
       "368296  GTEX-ZZPU-2726-SM-5NQ8O  130209.0               5   \n",
       "368297  GTEX-ZZPU-2726-SM-5NQ8O  139802.0              42   \n",
       "368298  GTEX-ZZPU-2726-SM-5NQ8O  148591.0             162   \n",
       "368299  GTEX-ZZPU-2726-SM-5NQ8O  159663.0              88   \n",
       "\n",
       "                           Name         Description  junc_count  \\\n",
       "368295  chr16_57070619_57074599  ENSG00000140853.15          42   \n",
       "368296  chr17_50550116_50550229  ENSG00000006282.20           5   \n",
       "368297  chr18_31518275_31519802  ENSG00000046604.12          42   \n",
       "368298  chr19_14409185_14409302  ENSG00000123136.14         162   \n",
       "368299  chr22_29354872_29356425  ENSG00000100280.16          88   \n",
       "\n",
       "                  SMTS                   SMTSD Strand          gene_id  \\\n",
       "368295  Adipose Tissue  Adipose - Subcutaneous      +  ENSG00000140853   \n",
       "368296  Adipose Tissue  Adipose - Subcutaneous      +  ENSG00000006282   \n",
       "368297  Adipose Tissue  Adipose - Subcutaneous      +  ENSG00000046604   \n",
       "368298  Adipose Tissue  Adipose - Subcutaneous      -  ENSG00000123136   \n",
       "368299  Adipose Tissue  Adipose - Subcutaneous      -  ENSG00000100280   \n",
       "\n",
       "       gene_name  Count  junc_ratio  sample_id_index  junction_id_index  \n",
       "368295     NLRC5    1.0         1.0            17381                  5  \n",
       "368296   SPATA20    2.0         1.0            17381                  8  \n",
       "368297      DSG2    1.0         1.0            17381                  9  \n",
       "368298    DDX39A    1.0         1.0            17381                 10  \n",
       "368299     AP1B1    1.0         1.0            17381                 15  "
      ]
     },
     "execution_count": 22,
     "metadata": {},
     "output_type": "execute_result"
    }
   ],
   "source": [
    "summarized_data.tail()"
   ]
  },
  {
   "cell_type": "code",
   "execution_count": null,
   "metadata": {},
   "outputs": [],
   "source": [
    "juncs_nonzero = pd.DataFrame(np.transpose(coo_counts_sparse.nonzero()))\n",
    "juncs_nonzero.columns = [\"cell_id_index\", \"junction_id_index\"]\n",
    "juncs_nonzero[\"junc_count\"] = coo_counts_sparse.data\n",
    "# do the same for cluster counts \n",
    "cells_only = coo[[\"cell_id_index\", \"Cluster\", \"Cluster_Counts\"]].drop_duplicates()\n",
    "merged_df = pd.merge(cells_only, junction_ids_conversion)\n",
    "coo_cluster_sparse = coo_matrix((merged_df.Cluster_Counts, (merged_df.cell_id_index, merged_df.junction_id_index)), shape=(len(merged_df.cell_id_index.unique()), len(merged_df.junction_id_index.unique())))\n",
    "coo_cluster_sparse = coo_cluster_sparse.tocsr()\n",
    "cluster_nonzero = pd.DataFrame(np.transpose(coo_cluster_sparse.nonzero()))\n",
    "cluster_nonzero.columns = [\"cell_id_index\", \"junction_id_index\"]\n",
    "cluster_nonzero[\"cluster_count\"] = coo_cluster_sparse.data\n",
    "final_data = pd.merge(juncs_nonzero, cluster_nonzero, how='outer').fillna(0)\n",
    "final_data[\"clustminjunc\"] = final_data[\"cluster_count\"] - final_data[\"junc_count\"]\n",
    "final_data[\"juncratio\"] = final_data[\"junc_count\"] / final_data[\"cluster_count\"] \n",
    "final_data = final_data.merge(cell_ids_conversion, on=\"cell_id_index\", how=\"left\")"
   ]
  },
  {
   "cell_type": "code",
   "execution_count": null,
   "metadata": {},
   "outputs": [],
   "source": [
    "final_data, coo_counts_sparse, coo_cluster_sparse, cell_ids_conversion, junction_ids_conversion = load_cluster_data(\n",
    "    input_file) # , celltypes = [\"B\", \"MemoryCD4T\"])\n",
    "\n",
    "# still do preprocessing in scipy\n",
    "indices = (final_data.cell_id_index, final_data.junction_id_index)\n",
    "indices_np = np.stack(indices)\n",
    "junc_counts = sp.coo_matrix((final_data.junc_count, indices))\n",
    "cluster_counts = sp.coo_matrix((final_data.cluster_count, indices))"
   ]
  },
  {
   "cell_type": "code",
   "execution_count": null,
   "metadata": {},
   "outputs": [],
   "source": [
    "junc_counts_sub, cluster_counts_sub, to_keep = splicing_PCA_utils.filter_junctions(\n",
    "    junc_counts, cluster_counts, plot = True)\n",
    "\n",
    "junc_ind_keep = junction_ids_conversion[\"junction_id_index\"][to_keep]\n",
    "final_data = final_data[final_data.junction_id_index.isin(junc_ind_keep)]"
   ]
  },
  {
   "cell_type": "code",
   "execution_count": null,
   "metadata": {},
   "outputs": [],
   "source": [
    "junction_ids_conversion=junction_ids_conversion[to_keep]\n",
    "junction_ids_conversion[\"new_junction_id_index\"] = np.arange(junction_ids_conversion.shape[0])"
   ]
  },
  {
   "cell_type": "code",
   "execution_count": null,
   "metadata": {},
   "outputs": [],
   "source": [
    "# re-order the remaining junctions \n",
    "final_data = final_data.merge(junction_ids_conversion, on = \"junction_id_index\")\n",
    "final_data"
   ]
  },
  {
   "cell_type": "code",
   "execution_count": null,
   "metadata": {},
   "outputs": [],
   "source": [
    "print(junc_counts_sub.toarray()[3, 720]) # should be 3 sanity check of data \n",
    "print(cluster_counts_sub.toarray()[3, 720]) # should be 5 sanity check of data "
   ]
  },
  {
   "attachments": {},
   "cell_type": "markdown",
   "metadata": {},
   "source": [
    "### Simulate Data"
   ]
  },
  {
   "cell_type": "code",
   "execution_count": null,
   "metadata": {},
   "outputs": [],
   "source": [
    "sim_junc_counts = splicing_PCA_utils.simulate_junc_counts(\n",
    "    cluster_counts_sub,\n",
    "    cell_ids_conversion.cell_type.astype('category')\n",
    ")"
   ]
  },
  {
   "cell_type": "code",
   "execution_count": null,
   "metadata": {},
   "outputs": [],
   "source": [
    "# make dataframe using the following columsn \n",
    "sim_junc_counts_flat = pd.DataFrame({\"cell_id_index\": sim_junc_counts.row, \"new_junction_id_index\": sim_junc_counts.col, \"new_junc_count\": sim_junc_counts.data})\n",
    "\n",
    "# update junction counts in final_data object to be the simulated counts \n",
    "final_data = final_data.merge(sim_junc_counts_flat, on = [\"cell_id_index\", \"new_junction_id_index\"])"
   ]
  },
  {
   "attachments": {},
   "cell_type": "markdown",
   "metadata": {},
   "source": [
    "### Prep simulated data as input into LDA "
   ]
  },
  {
   "cell_type": "code",
   "execution_count": null,
   "metadata": {},
   "outputs": [],
   "source": [
    "sim_data = final_data.copy() # make a copy of the data\n",
    "sim_data.drop(columns = [\"junc_count\", \"junction_id_index\"], inplace = True) # drop the old junction counts and junction id index\n",
    "# rename columns new_junction_id_index and new_junc_count to junction_id_index and junc_count\n",
    "sim_data.rename(columns = {\"new_junction_id_index\": \"junction_id_index\", \"new_junc_count\": \"junc_count\"}, inplace = True)"
   ]
  },
  {
   "cell_type": "code",
   "execution_count": null,
   "metadata": {},
   "outputs": [],
   "source": [
    "my_data = make_torch_data(sim_data, **float_type)"
   ]
  },
  {
   "cell_type": "code",
   "execution_count": null,
   "metadata": {},
   "outputs": [],
   "source": [
    "my_data"
   ]
  },
  {
   "attachments": {},
   "cell_type": "markdown",
   "metadata": {},
   "source": [
    "### Run LDA"
   ]
  },
  {
   "cell_type": "code",
   "execution_count": null,
   "metadata": {},
   "outputs": [],
   "source": [
    "num_trials = 1 # can't currently run more than 1 or overflow GPU memory :( \n",
    "num_iters = 300 # should also be an argument that gets fed in\n",
    "\n",
    "# loop over the number of trials (for now just testing using one trial but in general need to evaluate how performance is affected by number of trials)\n",
    "for t in range(num_trials):\n",
    "\n",
    "    # run coordinate ascent VI\n",
    "    print(K)\n",
    "\n",
    "    ALPHA_f, PI_f, GAMMA_f, PHI_f, elbos_all = calculate_CAVI(K, my_data, float_type, hypers = hypers, num_iterations = num_iters)\n",
    "    elbos_all = np.array(elbos_all)\n",
    "    juncs_probs = ALPHA_f / (ALPHA_f+PI_f)\n",
    "    \n",
    "    theta_f = GAMMA_f / GAMMA_f.sum(1,keepdim=True)\n",
    "    theta_f_plot = pd.DataFrame(theta_f.cpu())\n",
    "    theta_f_plot['cell_id'] = cell_ids_conversion[\"cell_type\"].to_numpy()\n",
    "    theta_f_plot_summ = theta_f_plot.groupby('cell_id').mean()\n",
    "    print(theta_f_plot_summ)\n",
    "    \n",
    "    # plot ELBO\n",
    "    plt.plot(elbos_all[2:]); plt.show()"
   ]
  },
  {
   "cell_type": "code",
   "execution_count": null,
   "metadata": {},
   "outputs": [],
   "source": [
    "x = theta_f.cpu().numpy()\n",
    "x -= x.mean(1,keepdims=True)\n",
    "x /= x.std(1,keepdims=True)\n",
    "plt.hist(x.flatten(),100)\n",
    "pd.crosstab( cell_ids_conversion[\"cell_type\"], x.argmax(axis=1) )"
   ]
  },
  {
   "cell_type": "code",
   "execution_count": null,
   "metadata": {},
   "outputs": [],
   "source": [
    "x"
   ]
  },
  {
   "cell_type": "code",
   "execution_count": null,
   "metadata": {},
   "outputs": [],
   "source": [
    "x.shape"
   ]
  },
  {
   "cell_type": "code",
   "execution_count": null,
   "metadata": {},
   "outputs": [],
   "source": [
    "labels=cell_ids_conversion[\"cell_type\"].to_numpy()"
   ]
  },
  {
   "cell_type": "code",
   "execution_count": null,
   "metadata": {},
   "outputs": [],
   "source": [
    "xdf=pd.DataFrame(x)"
   ]
  },
  {
   "cell_type": "code",
   "execution_count": null,
   "metadata": {},
   "outputs": [],
   "source": [
    "from sklearn.decomposition import PCA\n",
    "pca_dat = PCA(n_components=10)\n",
    "principalComponents_breast = pca_dat.fit_transform(xdf)"
   ]
  },
  {
   "cell_type": "code",
   "execution_count": null,
   "metadata": {},
   "outputs": [],
   "source": [
    "principal_x_Df = pd.DataFrame(data = principalComponents_breast\n",
    "             , columns = ['pc1', 'pc2', 'pc3', 'pc4', 'pc5', 'pc6', 'pc7', 'pc8', 'pc9', 'pc10'])\n",
    "print('Explained variation per principal component: {}'.format(pca_dat.explained_variance_ratio_))\n"
   ]
  },
  {
   "cell_type": "code",
   "execution_count": null,
   "metadata": {},
   "outputs": [],
   "source": [
    "principal_x_Df['cell_type'] = labels\n",
    "principal_x_Df"
   ]
  },
  {
   "cell_type": "code",
   "execution_count": null,
   "metadata": {},
   "outputs": [],
   "source": [
    "sns.scatterplot(\"pc1\", \"pc2\", data=principal_x_Df, hue = \"cell_type\")"
   ]
  },
  {
   "cell_type": "code",
   "execution_count": null,
   "metadata": {},
   "outputs": [],
   "source": [
    "sns.scatterplot(\"pc2\", \"pc3\", data=principal_x_Df, hue = \"cell_type\")"
   ]
  },
  {
   "cell_type": "code",
   "execution_count": null,
   "metadata": {},
   "outputs": [],
   "source": [
    "sns.scatterplot(\"pc1\", \"pc3\", data=principal_x_Df, hue = \"cell_type\")"
   ]
  },
  {
   "cell_type": "code",
   "execution_count": null,
   "metadata": {},
   "outputs": [],
   "source": []
  }
 ],
 "metadata": {
  "kernelspec": {
   "display_name": "leafcutter-sc",
   "language": "python",
   "name": "python3"
  },
  "language_info": {
   "codemirror_mode": {
    "name": "ipython",
    "version": 3
   },
   "file_extension": ".py",
   "mimetype": "text/x-python",
   "name": "python",
   "nbconvert_exporter": "python",
   "pygments_lexer": "ipython3",
   "version": "3.9.16"
  },
  "orig_nbformat": 4
 },
 "nbformat": 4,
 "nbformat_minor": 2
}
