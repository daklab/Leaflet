{
 "cells": [
  {
   "cell_type": "code",
   "execution_count": 1,
   "metadata": {},
   "outputs": [
    {
     "name": "stdout",
     "output_type": "stream",
     "text": [
      "cpu\n"
     ]
    },
    {
     "name": "stderr",
     "output_type": "stream",
     "text": [
      "/gpfs/commons/home/kisaev/.local/lib/python3.9/site-packages/statsmodels/compat/pandas.py:65: FutureWarning: pandas.Int64Index is deprecated and will be removed from pandas in a future version. Use pandas.Index with the appropriate dtype instead.\n"
     ]
    },
    {
     "data": {
      "text/plain": [
       "<module 'betabinomo_LDA_singlecells_kinit' from '/gpfs/commons/home/kisaev/leafcutter-sc/src/beta-binomial-lda/betabinomo_LDA_singlecells_kinit.py'>"
      ]
     },
     "execution_count": 1,
     "metadata": {},
     "output_type": "execute_result"
    }
   ],
   "source": [
    "from importlib import reload\n",
    "from load_cluster_data import load_cluster_data\n",
    "import gc\n",
    "\n",
    "import numpy as np\n",
    "import torch\n",
    "import pandas as pd \n",
    "import seaborn as sns\n",
    "import collections\n",
    "\n",
    "device = torch.device('cuda' if torch.cuda.is_available() else 'cpu')\n",
    "print(device)\n",
    "\n",
    "float_type = { \n",
    "    \"device\" : device, \n",
    "    \"dtype\" : torch.float, # save memory\n",
    "}\n",
    "\n",
    "hypers = {\n",
    "    \"eta\" : 1., \n",
    "    \"alpha_prior\" : 1., # karin had 0.65 \n",
    "    \"pi_prior\" : 1.\n",
    "}\n",
    "\n",
    "K = 10\n",
    "\n",
    "import plotnine as p9\n",
    "import scipy.sparse as sp\n",
    "import matplotlib.pyplot as plt \n",
    "import splicing_PCA_utils\n",
    "from nuclear_norm_PCA import sparse_sum\n",
    "\n",
    "from pca_kmeans_init import pca_kmeans_init\n",
    "from betabinomo_LDA_singlecells_kinit import *\n",
    "import betabinomo_LDA_singlecells_kinit\n",
    "reload(betabinomo_LDA_singlecells_kinit)\n"
   ]
  },
  {
   "attachments": {},
   "cell_type": "markdown",
   "metadata": {},
   "source": [
    "### Load data"
   ]
  },
  {
   "cell_type": "code",
   "execution_count": 2,
   "metadata": {},
   "outputs": [
    {
     "name": "stdout",
     "output_type": "stream",
     "text": [
      "98\n"
     ]
    }
   ],
   "source": [
    "input_file = '/gpfs/commons/groups/knowles_lab/Karin/data/GTEx/melted_df_subsample.pickle'\n",
    "summarize_data = pd.read_pickle(input_file)\n",
    "print(len(summarize_data))"
   ]
  },
  {
   "cell_type": "code",
   "execution_count": 3,
   "metadata": {},
   "outputs": [
    {
     "data": {
      "text/html": [
       "<div>\n",
       "<style scoped>\n",
       "    .dataframe tbody tr th:only-of-type {\n",
       "        vertical-align: middle;\n",
       "    }\n",
       "\n",
       "    .dataframe tbody tr th {\n",
       "        vertical-align: top;\n",
       "    }\n",
       "\n",
       "    .dataframe thead th {\n",
       "        text-align: right;\n",
       "    }\n",
       "</style>\n",
       "<table border=\"1\" class=\"dataframe\">\n",
       "  <thead>\n",
       "    <tr style=\"text-align: right;\">\n",
       "      <th></th>\n",
       "      <th>Name</th>\n",
       "      <th>Description</th>\n",
       "      <th>Sample</th>\n",
       "      <th>Count</th>\n",
       "      <th>Cluster</th>\n",
       "      <th>gene_name</th>\n",
       "      <th>Cluster_Counts</th>\n",
       "      <th>JunctionUsageRatio</th>\n",
       "      <th>SMTS</th>\n",
       "      <th>SMTSD</th>\n",
       "    </tr>\n",
       "  </thead>\n",
       "  <tbody>\n",
       "    <tr>\n",
       "      <th>0</th>\n",
       "      <td>chr14_101762971_101765153</td>\n",
       "      <td>ENSG00000078304.19</td>\n",
       "      <td>GTEX-1117F-0226-SM-5GZZ7</td>\n",
       "      <td>38</td>\n",
       "      <td>109710</td>\n",
       "      <td>PPP2R5C</td>\n",
       "      <td>38</td>\n",
       "      <td>1.0</td>\n",
       "      <td>Adipose Tissue</td>\n",
       "      <td>Adipose - Subcutaneous</td>\n",
       "    </tr>\n",
       "    <tr>\n",
       "      <th>1</th>\n",
       "      <td>chr14_21093291_21093585</td>\n",
       "      <td>ENSG00000165804.15</td>\n",
       "      <td>GTEX-1117F-0226-SM-5GZZ7</td>\n",
       "      <td>37</td>\n",
       "      <td>113749</td>\n",
       "      <td>ZNF219</td>\n",
       "      <td>37</td>\n",
       "      <td>1.0</td>\n",
       "      <td>Adipose Tissue</td>\n",
       "      <td>Adipose - Subcutaneous</td>\n",
       "    </tr>\n",
       "    <tr>\n",
       "      <th>2</th>\n",
       "      <td>chr16_23371463_23371775</td>\n",
       "      <td>ENSG00000168447.10</td>\n",
       "      <td>GTEX-1117F-0226-SM-5GZZ7</td>\n",
       "      <td>68</td>\n",
       "      <td>123085</td>\n",
       "      <td>SCNN1B</td>\n",
       "      <td>68</td>\n",
       "      <td>1.0</td>\n",
       "      <td>Adipose Tissue</td>\n",
       "      <td>Adipose - Subcutaneous</td>\n",
       "    </tr>\n",
       "    <tr>\n",
       "      <th>3</th>\n",
       "      <td>chr22_29814768_29815171</td>\n",
       "      <td>ENSG00000100325.14</td>\n",
       "      <td>GTEX-1117F-0226-SM-5GZZ7</td>\n",
       "      <td>3</td>\n",
       "      <td>156270</td>\n",
       "      <td>ASCC2</td>\n",
       "      <td>3</td>\n",
       "      <td>1.0</td>\n",
       "      <td>Adipose Tissue</td>\n",
       "      <td>Adipose - Subcutaneous</td>\n",
       "    </tr>\n",
       "    <tr>\n",
       "      <th>4</th>\n",
       "      <td>chr19_44990946_44991237</td>\n",
       "      <td>ENSG00000104853.15</td>\n",
       "      <td>GTEX-1117F-0226-SM-5GZZ7</td>\n",
       "      <td>295</td>\n",
       "      <td>140286</td>\n",
       "      <td>CLPTM1</td>\n",
       "      <td>295</td>\n",
       "      <td>1.0</td>\n",
       "      <td>Adipose Tissue</td>\n",
       "      <td>Adipose - Subcutaneous</td>\n",
       "    </tr>\n",
       "  </tbody>\n",
       "</table>\n",
       "</div>"
      ],
      "text/plain": [
       "                        Name         Description                    Sample  \\\n",
       "0  chr14_101762971_101765153  ENSG00000078304.19  GTEX-1117F-0226-SM-5GZZ7   \n",
       "1    chr14_21093291_21093585  ENSG00000165804.15  GTEX-1117F-0226-SM-5GZZ7   \n",
       "2    chr16_23371463_23371775  ENSG00000168447.10  GTEX-1117F-0226-SM-5GZZ7   \n",
       "3    chr22_29814768_29815171  ENSG00000100325.14  GTEX-1117F-0226-SM-5GZZ7   \n",
       "4    chr19_44990946_44991237  ENSG00000104853.15  GTEX-1117F-0226-SM-5GZZ7   \n",
       "\n",
       "   Count  Cluster gene_name  Cluster_Counts  JunctionUsageRatio  \\\n",
       "0     38   109710   PPP2R5C              38                 1.0   \n",
       "1     37   113749    ZNF219              37                 1.0   \n",
       "2     68   123085    SCNN1B              68                 1.0   \n",
       "3      3   156270     ASCC2               3                 1.0   \n",
       "4    295   140286    CLPTM1             295                 1.0   \n",
       "\n",
       "             SMTS                   SMTSD  \n",
       "0  Adipose Tissue  Adipose - Subcutaneous  \n",
       "1  Adipose Tissue  Adipose - Subcutaneous  \n",
       "2  Adipose Tissue  Adipose - Subcutaneous  \n",
       "3  Adipose Tissue  Adipose - Subcutaneous  \n",
       "4  Adipose Tissue  Adipose - Subcutaneous  "
      ]
     },
     "execution_count": 3,
     "metadata": {},
     "output_type": "execute_result"
    }
   ],
   "source": [
    "# concatenate all the chunks in summarize_data into one dataframe \n",
    "summarize_data = pd.concat(summarize_data)\n",
    "summarize_data.head()"
   ]
  },
  {
   "cell_type": "code",
   "execution_count": 4,
   "metadata": {},
   "outputs": [
    {
     "name": "stdout",
     "output_type": "stream",
     "text": [
      "6708\n"
     ]
    }
   ],
   "source": [
    "print(len(summarize_data.Name.unique()))"
   ]
  },
  {
   "cell_type": "code",
   "execution_count": 5,
   "metadata": {},
   "outputs": [
    {
     "data": {
      "text/plain": [
       "(87554825, 10)"
      ]
     },
     "execution_count": 5,
     "metadata": {},
     "output_type": "execute_result"
    }
   ],
   "source": [
    "summarize_data.shape"
   ]
  },
  {
   "cell_type": "code",
   "execution_count": 6,
   "metadata": {},
   "outputs": [
    {
     "name": "stdout",
     "output_type": "stream",
     "text": [
      "['Adipose Tissue' 'Muscle' 'Blood Vessel' 'Heart' 'Uterus' 'Vagina'\n",
      " 'Breast' 'Skin' 'Salivary Gland' 'Brain' 'Adrenal Gland' 'Thyroid' 'Lung'\n",
      " 'Spleen' 'Pancreas' 'Esophagus' 'Stomach' 'Colon' 'Small Intestine'\n",
      " 'Prostate' 'Testis' 'Nerve' 'Blood' 'Pituitary' 'Ovary' 'Liver' 'Kidney'\n",
      " 'Cervix Uteri' 'Fallopian Tube' 'Bladder']\n"
     ]
    }
   ],
   "source": [
    "print(summarize_data.SMTS.unique())"
   ]
  },
  {
   "cell_type": "code",
   "execution_count": 7,
   "metadata": {},
   "outputs": [
    {
     "data": {
      "text/plain": [
       "30"
      ]
     },
     "execution_count": 7,
     "metadata": {},
     "output_type": "execute_result"
    }
   ],
   "source": [
    "len(summarize_data.SMTS.unique())   "
   ]
  },
  {
   "cell_type": "code",
   "execution_count": 8,
   "metadata": {},
   "outputs": [],
   "source": [
    "# remove junctions that have multiple gene names associated with them (multiple rows per junction)\n",
    "summarize_data['junction_id_index'] = summarize_data.groupby('Name').ngroup()\n",
    "junction_ids_conversion = summarize_data[[\"junction_id_index\", \"Name\", \"Cluster\", \"Description\"]].drop_duplicates()\n",
    "junction_ids_conversion = junction_ids_conversion.sort_values(\"junction_id_index\")"
   ]
  },
  {
   "cell_type": "code",
   "execution_count": 9,
   "metadata": {},
   "outputs": [],
   "source": [
    "# remove junctions if they appear with multiple gene names\n",
    "juncs_keep = summarize_data[[\"junction_id_index\", \"Name\", \"Cluster\", \"Description\", \"gene_name\"]].drop_duplicates()"
   ]
  },
  {
   "cell_type": "code",
   "execution_count": 10,
   "metadata": {},
   "outputs": [],
   "source": [
    "# find junctions in juncs_keep that appear twice because they are associated with multiple gene_names \n",
    "clusts_remove = juncs_keep[juncs_keep.duplicated(subset=\"junction_id_index\")].Cluster.unique()\n",
    "summarize_data = summarize_data[~summarize_data.Cluster.isin(clusts_remove)]"
   ]
  },
  {
   "cell_type": "code",
   "execution_count": 11,
   "metadata": {},
   "outputs": [],
   "source": [
    "summarize_data['sample_id_index'] = summarize_data.groupby('Sample').ngroup()\n",
    "summarize_data['junction_id_index'] = summarize_data.groupby('Name').ngroup()\n",
    "coo = summarize_data[[\"sample_id_index\", \"junction_id_index\", \"Count\", \"Cluster_Counts\", \"Cluster\", \"JunctionUsageRatio\"]]"
   ]
  },
  {
   "cell_type": "code",
   "execution_count": 12,
   "metadata": {},
   "outputs": [],
   "source": [
    "# just some sanity checks to make sure indices are in order \n",
    "cell_ids_conversion = summarize_data[[\"sample_id_index\", \"Sample\", \"SMTS\", \"SMTSD\"]].drop_duplicates()\n",
    "cell_ids_conversion = cell_ids_conversion.sort_values(\"sample_id_index\")\n",
    "\n",
    "junction_ids_conversion = summarize_data[[\"junction_id_index\", \"Name\", \"Cluster\", \"Description\", \"gene_name\"]].drop_duplicates()\n",
    "junction_ids_conversion = junction_ids_conversion.sort_values(\"junction_id_index\")"
   ]
  },
  {
   "attachments": {},
   "cell_type": "markdown",
   "metadata": {},
   "source": [
    "### Prep data as input into LDA "
   ]
  },
  {
   "cell_type": "code",
   "execution_count": 13,
   "metadata": {},
   "outputs": [
    {
     "data": {
      "text/html": [
       "<div>\n",
       "<style scoped>\n",
       "    .dataframe tbody tr th:only-of-type {\n",
       "        vertical-align: middle;\n",
       "    }\n",
       "\n",
       "    .dataframe tbody tr th {\n",
       "        vertical-align: top;\n",
       "    }\n",
       "\n",
       "    .dataframe thead th {\n",
       "        text-align: right;\n",
       "    }\n",
       "</style>\n",
       "<table border=\"1\" class=\"dataframe\">\n",
       "  <thead>\n",
       "    <tr style=\"text-align: right;\">\n",
       "      <th></th>\n",
       "      <th>Name</th>\n",
       "      <th>Description</th>\n",
       "      <th>Sample</th>\n",
       "      <th>Count</th>\n",
       "      <th>Cluster</th>\n",
       "      <th>gene_name</th>\n",
       "      <th>Cluster_Counts</th>\n",
       "      <th>JunctionUsageRatio</th>\n",
       "      <th>SMTS</th>\n",
       "      <th>SMTSD</th>\n",
       "      <th>junction_id_index</th>\n",
       "      <th>sample_id_index</th>\n",
       "    </tr>\n",
       "  </thead>\n",
       "  <tbody>\n",
       "    <tr>\n",
       "      <th>0</th>\n",
       "      <td>chr14_101762971_101765153</td>\n",
       "      <td>ENSG00000078304.19</td>\n",
       "      <td>GTEX-1117F-0226-SM-5GZZ7</td>\n",
       "      <td>38</td>\n",
       "      <td>109710</td>\n",
       "      <td>PPP2R5C</td>\n",
       "      <td>38</td>\n",
       "      <td>1.0</td>\n",
       "      <td>Adipose Tissue</td>\n",
       "      <td>Adipose - Subcutaneous</td>\n",
       "      <td>1094</td>\n",
       "      <td>0</td>\n",
       "    </tr>\n",
       "    <tr>\n",
       "      <th>1</th>\n",
       "      <td>chr14_21093291_21093585</td>\n",
       "      <td>ENSG00000165804.15</td>\n",
       "      <td>GTEX-1117F-0226-SM-5GZZ7</td>\n",
       "      <td>37</td>\n",
       "      <td>113749</td>\n",
       "      <td>ZNF219</td>\n",
       "      <td>37</td>\n",
       "      <td>1.0</td>\n",
       "      <td>Adipose Tissue</td>\n",
       "      <td>Adipose - Subcutaneous</td>\n",
       "      <td>1126</td>\n",
       "      <td>0</td>\n",
       "    </tr>\n",
       "    <tr>\n",
       "      <th>2</th>\n",
       "      <td>chr16_23371463_23371775</td>\n",
       "      <td>ENSG00000168447.10</td>\n",
       "      <td>GTEX-1117F-0226-SM-5GZZ7</td>\n",
       "      <td>68</td>\n",
       "      <td>123085</td>\n",
       "      <td>SCNN1B</td>\n",
       "      <td>68</td>\n",
       "      <td>1.0</td>\n",
       "      <td>Adipose Tissue</td>\n",
       "      <td>Adipose - Subcutaneous</td>\n",
       "      <td>1618</td>\n",
       "      <td>0</td>\n",
       "    </tr>\n",
       "    <tr>\n",
       "      <th>3</th>\n",
       "      <td>chr22_29814768_29815171</td>\n",
       "      <td>ENSG00000100325.14</td>\n",
       "      <td>GTEX-1117F-0226-SM-5GZZ7</td>\n",
       "      <td>3</td>\n",
       "      <td>156270</td>\n",
       "      <td>ASCC2</td>\n",
       "      <td>3</td>\n",
       "      <td>1.0</td>\n",
       "      <td>Adipose Tissue</td>\n",
       "      <td>Adipose - Subcutaneous</td>\n",
       "      <td>3836</td>\n",
       "      <td>0</td>\n",
       "    </tr>\n",
       "    <tr>\n",
       "      <th>4</th>\n",
       "      <td>chr19_44990946_44991237</td>\n",
       "      <td>ENSG00000104853.15</td>\n",
       "      <td>GTEX-1117F-0226-SM-5GZZ7</td>\n",
       "      <td>295</td>\n",
       "      <td>140286</td>\n",
       "      <td>CLPTM1</td>\n",
       "      <td>295</td>\n",
       "      <td>1.0</td>\n",
       "      <td>Adipose Tissue</td>\n",
       "      <td>Adipose - Subcutaneous</td>\n",
       "      <td>2675</td>\n",
       "      <td>0</td>\n",
       "    </tr>\n",
       "  </tbody>\n",
       "</table>\n",
       "</div>"
      ],
      "text/plain": [
       "                        Name         Description                    Sample  \\\n",
       "0  chr14_101762971_101765153  ENSG00000078304.19  GTEX-1117F-0226-SM-5GZZ7   \n",
       "1    chr14_21093291_21093585  ENSG00000165804.15  GTEX-1117F-0226-SM-5GZZ7   \n",
       "2    chr16_23371463_23371775  ENSG00000168447.10  GTEX-1117F-0226-SM-5GZZ7   \n",
       "3    chr22_29814768_29815171  ENSG00000100325.14  GTEX-1117F-0226-SM-5GZZ7   \n",
       "4    chr19_44990946_44991237  ENSG00000104853.15  GTEX-1117F-0226-SM-5GZZ7   \n",
       "\n",
       "   Count  Cluster gene_name  Cluster_Counts  JunctionUsageRatio  \\\n",
       "0     38   109710   PPP2R5C              38                 1.0   \n",
       "1     37   113749    ZNF219              37                 1.0   \n",
       "2     68   123085    SCNN1B              68                 1.0   \n",
       "3      3   156270     ASCC2               3                 1.0   \n",
       "4    295   140286    CLPTM1             295                 1.0   \n",
       "\n",
       "             SMTS                   SMTSD  junction_id_index  sample_id_index  \n",
       "0  Adipose Tissue  Adipose - Subcutaneous               1094                0  \n",
       "1  Adipose Tissue  Adipose - Subcutaneous               1126                0  \n",
       "2  Adipose Tissue  Adipose - Subcutaneous               1618                0  \n",
       "3  Adipose Tissue  Adipose - Subcutaneous               3836                0  \n",
       "4  Adipose Tissue  Adipose - Subcutaneous               2675                0  "
      ]
     },
     "execution_count": 13,
     "metadata": {},
     "output_type": "execute_result"
    }
   ],
   "source": [
    "summarize_data.head()"
   ]
  },
  {
   "cell_type": "code",
   "execution_count": 14,
   "metadata": {},
   "outputs": [],
   "source": [
    "# rename summarize_data ample_id_index to cell_id_index and Count to junc_count\n",
    "summarize_data = summarize_data.rename(columns={\"sample_id_index\": \"cell_id_index\", \"Count\": \"junc_count\"})"
   ]
  },
  {
   "cell_type": "code",
   "execution_count": 15,
   "metadata": {},
   "outputs": [
    {
     "data": {
      "text/html": [
       "<div>\n",
       "<style scoped>\n",
       "    .dataframe tbody tr th:only-of-type {\n",
       "        vertical-align: middle;\n",
       "    }\n",
       "\n",
       "    .dataframe tbody tr th {\n",
       "        vertical-align: top;\n",
       "    }\n",
       "\n",
       "    .dataframe thead th {\n",
       "        text-align: right;\n",
       "    }\n",
       "</style>\n",
       "<table border=\"1\" class=\"dataframe\">\n",
       "  <thead>\n",
       "    <tr style=\"text-align: right;\">\n",
       "      <th></th>\n",
       "      <th>Name</th>\n",
       "      <th>Description</th>\n",
       "      <th>Sample</th>\n",
       "      <th>junc_count</th>\n",
       "      <th>Cluster</th>\n",
       "      <th>gene_name</th>\n",
       "      <th>Cluster_Counts</th>\n",
       "      <th>JunctionUsageRatio</th>\n",
       "      <th>SMTS</th>\n",
       "      <th>SMTSD</th>\n",
       "      <th>junction_id_index</th>\n",
       "      <th>cell_id_index</th>\n",
       "      <th>clustminjunc</th>\n",
       "    </tr>\n",
       "  </thead>\n",
       "  <tbody>\n",
       "    <tr>\n",
       "      <th>616295</th>\n",
       "      <td>chr6_43513099_43513358</td>\n",
       "      <td>ENSG00000137207.11</td>\n",
       "      <td>GTEX-1K2DA-0226-SM-CGQGW</td>\n",
       "      <td>1</td>\n",
       "      <td>59349</td>\n",
       "      <td>YIPF3</td>\n",
       "      <td>754</td>\n",
       "      <td>0.001326</td>\n",
       "      <td>Adrenal Gland</td>\n",
       "      <td>Adrenal Gland</td>\n",
       "      <td>5521</td>\n",
       "      <td>10577</td>\n",
       "      <td>753</td>\n",
       "    </tr>\n",
       "    <tr>\n",
       "      <th>823994</th>\n",
       "      <td>chr6_43513099_43513358</td>\n",
       "      <td>ENSG00000137207.11</td>\n",
       "      <td>GTEX-TMMY-0526-SM-33HBC</td>\n",
       "      <td>1</td>\n",
       "      <td>59349</td>\n",
       "      <td>YIPF3</td>\n",
       "      <td>661</td>\n",
       "      <td>0.001513</td>\n",
       "      <td>Nerve</td>\n",
       "      <td>Nerve - Tibial</td>\n",
       "      <td>5521</td>\n",
       "      <td>14165</td>\n",
       "      <td>660</td>\n",
       "    </tr>\n",
       "    <tr>\n",
       "      <th>616672</th>\n",
       "      <td>chr6_43513099_43513358</td>\n",
       "      <td>ENSG00000137207.11</td>\n",
       "      <td>GTEX-1K2DA-0926-SM-CGQGE</td>\n",
       "      <td>1</td>\n",
       "      <td>59349</td>\n",
       "      <td>YIPF3</td>\n",
       "      <td>650</td>\n",
       "      <td>0.001538</td>\n",
       "      <td>Blood Vessel</td>\n",
       "      <td>Artery - Aorta</td>\n",
       "      <td>5521</td>\n",
       "      <td>10583</td>\n",
       "      <td>649</td>\n",
       "    </tr>\n",
       "    <tr>\n",
       "      <th>977990</th>\n",
       "      <td>chr6_43513099_43513358</td>\n",
       "      <td>ENSG00000137207.11</td>\n",
       "      <td>GTEX-ZQUD-0126-SM-7EPIS</td>\n",
       "      <td>1</td>\n",
       "      <td>59349</td>\n",
       "      <td>YIPF3</td>\n",
       "      <td>591</td>\n",
       "      <td>0.001692</td>\n",
       "      <td>Thyroid</td>\n",
       "      <td>Thyroid</td>\n",
       "      <td>5521</td>\n",
       "      <td>16821</td>\n",
       "      <td>590</td>\n",
       "    </tr>\n",
       "    <tr>\n",
       "      <th>764683</th>\n",
       "      <td>chr6_43513099_43513358</td>\n",
       "      <td>ENSG00000137207.11</td>\n",
       "      <td>GTEX-QDT8-0326-SM-32PL1</td>\n",
       "      <td>1</td>\n",
       "      <td>59349</td>\n",
       "      <td>YIPF3</td>\n",
       "      <td>577</td>\n",
       "      <td>0.001733</td>\n",
       "      <td>Nerve</td>\n",
       "      <td>Nerve - Tibial</td>\n",
       "      <td>5521</td>\n",
       "      <td>13120</td>\n",
       "      <td>576</td>\n",
       "    </tr>\n",
       "  </tbody>\n",
       "</table>\n",
       "</div>"
      ],
      "text/plain": [
       "                          Name         Description                    Sample  \\\n",
       "616295  chr6_43513099_43513358  ENSG00000137207.11  GTEX-1K2DA-0226-SM-CGQGW   \n",
       "823994  chr6_43513099_43513358  ENSG00000137207.11   GTEX-TMMY-0526-SM-33HBC   \n",
       "616672  chr6_43513099_43513358  ENSG00000137207.11  GTEX-1K2DA-0926-SM-CGQGE   \n",
       "977990  chr6_43513099_43513358  ENSG00000137207.11   GTEX-ZQUD-0126-SM-7EPIS   \n",
       "764683  chr6_43513099_43513358  ENSG00000137207.11   GTEX-QDT8-0326-SM-32PL1   \n",
       "\n",
       "        junc_count  Cluster gene_name  Cluster_Counts  JunctionUsageRatio  \\\n",
       "616295           1    59349     YIPF3             754            0.001326   \n",
       "823994           1    59349     YIPF3             661            0.001513   \n",
       "616672           1    59349     YIPF3             650            0.001538   \n",
       "977990           1    59349     YIPF3             591            0.001692   \n",
       "764683           1    59349     YIPF3             577            0.001733   \n",
       "\n",
       "                 SMTS           SMTSD  junction_id_index  cell_id_index  \\\n",
       "616295  Adrenal Gland   Adrenal Gland               5521          10577   \n",
       "823994          Nerve  Nerve - Tibial               5521          14165   \n",
       "616672   Blood Vessel  Artery - Aorta               5521          10583   \n",
       "977990        Thyroid         Thyroid               5521          16821   \n",
       "764683          Nerve  Nerve - Tibial               5521          13120   \n",
       "\n",
       "        clustminjunc  \n",
       "616295           753  \n",
       "823994           660  \n",
       "616672           649  \n",
       "977990           590  \n",
       "764683           576  "
      ]
     },
     "execution_count": 15,
     "metadata": {},
     "output_type": "execute_result"
    }
   ],
   "source": [
    "summarize_data[\"clustminjunc\"] = summarize_data[\"Cluster_Counts\"] - summarize_data[\"junc_count\"]\n",
    "summarize_data.sort_values(\"JunctionUsageRatio\", ascending=True).head()"
   ]
  },
  {
   "attachments": {},
   "cell_type": "markdown",
   "metadata": {},
   "source": [
    "### Run LDA"
   ]
  },
  {
   "cell_type": "code",
   "execution_count": 16,
   "metadata": {},
   "outputs": [
    {
     "name": "stderr",
     "output_type": "stream",
     "text": [
      "/gpfs/commons/home/kisaev/leafcutter-sc/src/beta-binomial-lda/betabinomo_LDA_singlecells_kinit.py:309: UserWarning: Sparse CSR tensor support is in beta state. If you miss a functionality in the sparse tensor support, please submit a feature request to https://github.com/pytorch/pytorch/issues. (Triggered internally at ../aten/src/ATen/SparseCsrTensorImpl.cpp:53.)\n"
     ]
    }
   ],
   "source": [
    "# final prep of data \n",
    "final_data = make_torch_data(summarize_data, **float_type)"
   ]
  },
  {
   "cell_type": "code",
   "execution_count": 17,
   "metadata": {},
   "outputs": [
    {
     "data": {
      "text/plain": [
       "IndexCountTensor(junc_index=tensor([1094, 1126, 1618,  ..., 4569, 1020, 5114]), cell_index=tensor([    0,     0,     0,  ..., 17381, 17381, 17381]), y_count=tensor([38., 37., 68.,  ...,  1.,  6., 30.]), t_count=tensor([0., 0., 0.,  ..., 0., 0., 0.]), cells_lookup=tensor(crow_indices=tensor([       0,     4974,     9277,  ..., 83009623,\n",
       "                            83014129, 83019031]),\n",
       "       col_indices=tensor([       0,        1,        2,  ..., 83019028,\n",
       "                           83019029, 83019030]),\n",
       "       values=tensor([1., 1., 1.,  ..., 1., 1., 1.]), size=(17382, 83019031),\n",
       "       nnz=83019031, layout=torch.sparse_csr), ycount_lookup=tensor(crow_indices=tensor([       0,    16628,    33986,  ..., 82994610,\n",
       "                            83006845, 83019031]),\n",
       "       col_indices=tensor([40663847, 40663904, 40663963,  ..., 46195118,\n",
       "                           46195442, 46195697]),\n",
       "       values=tensor([8., 2., 3.,  ..., 1., 1., 1.]), size=(6560, 83019031),\n",
       "       nnz=83019031, layout=torch.sparse_csr), tcount_lookup=tensor(crow_indices=tensor([       0,    16628,    33986,  ..., 82994610,\n",
       "                            83006845, 83019031]),\n",
       "       col_indices=tensor([40663847, 40663904, 40663963,  ..., 46195118,\n",
       "                           46195442, 46195697]),\n",
       "       values=tensor([0., 0., 0.,  ..., 0., 0., 0.]), size=(6560, 83019031),\n",
       "       nnz=83019031, layout=torch.sparse_csr))"
      ]
     },
     "execution_count": 17,
     "metadata": {},
     "output_type": "execute_result"
    }
   ],
   "source": [
    "final_data"
   ]
  },
  {
   "cell_type": "code",
   "execution_count": 19,
   "metadata": {},
   "outputs": [
    {
     "name": "stdout",
     "output_type": "stream",
     "text": [
      "10\n",
      "Initialize VI params\n",
      "Got the initial ELBO\n",
      "ELBO converged, CAVI iteration #  17  complete\n",
      "                        0         1         2         3         4         5  \\\n",
      "SMTS                                                                          \n",
      "Adipose Tissue   0.099931  0.099956  0.100142  0.100178  0.100151  0.099758   \n",
      "Adrenal Gland    0.100093  0.099666  0.099745  0.100241  0.100183  0.099943   \n",
      "Bladder          0.100886  0.101200  0.100045  0.099083  0.098821  0.098636   \n",
      "Blood            0.100336  0.099754  0.099944  0.100085  0.099810  0.099700   \n",
      "Blood Vessel     0.100133  0.100179  0.099876  0.099993  0.100013  0.099689   \n",
      "Brain            0.099568  0.100116  0.100242  0.099776  0.099666  0.101025   \n",
      "Breast           0.099923  0.099618  0.099787  0.100257  0.099880  0.099907   \n",
      "Cervix Uteri     0.099869  0.098702  0.100292  0.098883  0.101324  0.100003   \n",
      "Colon            0.100039  0.100165  0.099983  0.099897  0.100086  0.099746   \n",
      "Esophagus        0.099952  0.099941  0.099955  0.100218  0.099957  0.099717   \n",
      "Fallopian Tube   0.099150  0.101300  0.101428  0.099482  0.097689  0.101627   \n",
      "Heart            0.099827  0.100015  0.100117  0.100109  0.099906  0.099932   \n",
      "Kidney           0.099551  0.099225  0.100208  0.100455  0.100312  0.099910   \n",
      "Liver            0.100210  0.099900  0.100219  0.100375  0.099943  0.099988   \n",
      "Lung             0.100080  0.100213  0.099930  0.099780  0.100193  0.099705   \n",
      "Muscle           0.099998  0.100190  0.100077  0.099986  0.100051  0.099652   \n",
      "Nerve            0.100131  0.099851  0.099864  0.100255  0.100206  0.099638   \n",
      "Ovary            0.100170  0.100090  0.100218  0.100428  0.099790  0.099593   \n",
      "Pancreas         0.100304  0.099780  0.099753  0.100055  0.099960  0.099704   \n",
      "Pituitary        0.099533  0.099959  0.099810  0.100174  0.100087  0.099936   \n",
      "Prostate         0.099677  0.100192  0.100266  0.099646  0.100355  0.099813   \n",
      "Salivary Gland   0.100016  0.099922  0.099140  0.100325  0.100227  0.099697   \n",
      "Skin             0.100187  0.099941  0.099988  0.100222  0.100116  0.099780   \n",
      "Small Intestine  0.100098  0.099891  0.099456  0.100212  0.099793  0.099948   \n",
      "Spleen           0.100577  0.100085  0.099798  0.099511  0.099523  0.100188   \n",
      "Stomach          0.101037  0.099280  0.100704  0.099853  0.099629  0.100272   \n",
      "Testis           0.099949  0.099962  0.100130  0.099886  0.099659  0.100621   \n",
      "Thyroid          0.100282  0.099964  0.099776  0.100255  0.100043  0.099836   \n",
      "Uterus           0.099437  0.100116  0.100068  0.100330  0.100267  0.099374   \n",
      "Vagina           0.099800  0.100230  0.099850  0.100461  0.100094  0.099959   \n",
      "\n",
      "                        6         7         8         9  \n",
      "SMTS                                                     \n",
      "Adipose Tissue   0.100142  0.100046  0.099810  0.099885  \n",
      "Adrenal Gland    0.099539  0.100114  0.100403  0.100072  \n",
      "Bladder          0.100676  0.098683  0.100860  0.101110  \n",
      "Blood            0.100062  0.099914  0.100305  0.100091  \n",
      "Blood Vessel     0.100069  0.100074  0.100012  0.099961  \n",
      "Brain            0.099742  0.099740  0.099867  0.100259  \n",
      "Breast           0.100326  0.100196  0.100065  0.100042  \n",
      "Cervix Uteri     0.099505  0.100756  0.100862  0.099804  \n",
      "Colon            0.100003  0.100032  0.100019  0.100031  \n",
      "Esophagus        0.100014  0.099905  0.100187  0.100153  \n",
      "Fallopian Tube   0.098281  0.101120  0.099357  0.100565  \n",
      "Heart            0.100164  0.099924  0.100134  0.099871  \n",
      "Kidney           0.099864  0.099911  0.100378  0.100187  \n",
      "Liver            0.099558  0.099598  0.100069  0.100139  \n",
      "Lung             0.099930  0.100096  0.100020  0.100053  \n",
      "Muscle           0.099766  0.099905  0.100102  0.100273  \n",
      "Nerve            0.100136  0.099791  0.100366  0.099763  \n",
      "Ovary            0.099609  0.100481  0.099836  0.099784  \n",
      "Pancreas         0.099836  0.099978  0.100018  0.100611  \n",
      "Pituitary        0.100100  0.100416  0.100013  0.099973  \n",
      "Prostate         0.100169  0.099838  0.099638  0.100407  \n",
      "Salivary Gland   0.100587  0.099713  0.100001  0.100371  \n",
      "Skin             0.100042  0.099847  0.099980  0.099898  \n",
      "Small Intestine  0.100249  0.100303  0.100073  0.099976  \n",
      "Spleen           0.100185  0.100212  0.099704  0.100218  \n",
      "Stomach          0.099427  0.099943  0.100043  0.099814  \n",
      "Testis           0.099873  0.099910  0.100322  0.099688  \n",
      "Thyroid          0.099902  0.100202  0.099786  0.099952  \n",
      "Uterus           0.100336  0.100271  0.099879  0.099922  \n",
      "Vagina           0.100457  0.099877  0.099747  0.099526  \n"
     ]
    },
    {
     "data": {
      "image/png": "[encoded data removed]",
      "text/plain": [
       "<Figure size 640x480 with 1 Axes>"
      ]
     },
     "metadata": {},
     "output_type": "display_data"
    }
   ],
   "source": [
    "num_trials = 1 # can't currently run more than 1 or overflow GPU memory :( \n",
    "num_iters = 300 # should also be an argument that gets fed in\n",
    "\n",
    "# loop over the number of trials (for now just testing using one trial but in general need to evaluate how performance is affected by number of trials)\n",
    "for t in range(num_trials):\n",
    "\n",
    "    # run coordinate ascent VI\n",
    "    print(K)\n",
    "\n",
    "    ALPHA_f, PI_f, GAMMA_f, PHI_f, elbos_all = calculate_CAVI(K, final_data, float_type, hypers = hypers, num_iterations = num_iters)\n",
    "    elbos_all = np.array(elbos_all)\n",
    "    juncs_probs = ALPHA_f / (ALPHA_f+PI_f)\n",
    "    \n",
    "    theta_f = GAMMA_f / GAMMA_f.sum(1,keepdim=True)\n",
    "    theta_f_plot = pd.DataFrame(theta_f.cpu())\n",
    "    theta_f_plot['SMTS'] = cell_ids_conversion[\"SMTS\"].to_numpy()\n",
    "    theta_f_plot_summ = theta_f_plot.groupby('SMTS').mean()\n",
    "    print(theta_f_plot_summ)\n",
    "    \n",
    "    # plot ELBO\n",
    "    plt.plot(elbos_all[2:]); plt.show()"
   ]
  },
  {
   "cell_type": "code",
   "execution_count": null,
   "metadata": {},
   "outputs": [],
   "source": [
    "x = theta_f.cpu().numpy()\n",
    "x -= x.mean(1,keepdims=True)\n",
    "x /= x.std(1,keepdims=True)\n",
    "plt.hist(x.flatten(),100)\n",
    "pd.crosstab( cell_ids_conversion[\"cell_type\"], x.argmax(axis=1) )"
   ]
  }
 ],
 "metadata": {
  "kernelspec": {
   "display_name": "leafcutter-sc",
   "language": "python",
   "name": "python3"
  },
  "language_info": {
   "codemirror_mode": {
    "name": "ipython",
    "version": 3
   },
   "file_extension": ".py",
   "mimetype": "text/x-python",
   "name": "python",
   "nbconvert_exporter": "python",
   "pygments_lexer": "ipython3",
   "version": "3.9.16"
  },
  "orig_nbformat": 4
 },
 "nbformat": 4,
 "nbformat_minor": 2
}
