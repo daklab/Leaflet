{
 "cells": [
  {
   "cell_type": "code",
   "execution_count": 1,
   "metadata": {},
   "outputs": [],
   "source": [
    "import pandas as pd\n",
    "import numpy as np\n",
    "import argparse\n",
    "import glob\n",
    "import os\n",
    "import pyranges as pr\n",
    "from gtfparse import read_gtf #initially tested with version 1.3.0 \n",
    "from tqdm import tqdm\n",
    "import gzip\n",
    "import torch\n",
    "import time \n",
    "import seaborn as sns "
   ]
  },
  {
   "cell_type": "code",
   "execution_count": 2,
   "metadata": {},
   "outputs": [],
   "source": [
    "def process_gtf(gtf_file): \n",
    "\n",
    "    #[1] extract all exons from gtf file provided \n",
    "    gtf = read_gtf(gtf_file) #to reduce the speed of this, can just get rows with exon in the feature column (preprocess this before running package)? check if really necessary\n",
    "    gtf_exons = gtf[(gtf[\"feature\"] == \"exon\")]\n",
    "    #remove \"chr\" from chromosome names only if present\n",
    "    if gtf_exons['seqname'].str.contains('chr').any():\n",
    "        gtf_exons['seqname'] = gtf_exons['seqname'].map(lambda x: x.lstrip('chr').rstrip('chr'))\n",
    "    #make pyranges object\n",
    "    gtf_exons_gr = pr.from_dict({\"Chromosome\": gtf_exons[\"seqname\"], \"Start\": gtf_exons[\"start\"], \"End\": gtf_exons[\"end\"], \"Strand\": gtf_exons[\"strand\"], \"gene_id\": gtf_exons[\"gene_id\"], \"gene_name\": gtf_exons[\"gene_name\"], \"transcript_name\": gtf_exons[\"transcript_name\"], \"transcript_id\": gtf_exons[\"transcript_id\"], \"exon_number\": gtf_exons[\"exon_number\"], \"transcript_biotype\": gtf_exons[\"transcript_biotype\"]})\n",
    "    #remove those exons where exon start == exon end \n",
    "    gtf_exons_gr = gtf_exons_gr[ ~ (gtf_exons_gr.Start == gtf_exons_gr.End)]\n",
    "    #remove genes with no gene names (most likely novel genes?/not fully annotated)\n",
    "    gtf_exons_gr = gtf_exons_gr[ ~ (gtf_exons_gr.gene_name == \"\")]\n",
    "    # When do I need to do this? depends on gtf file used? base 0 or 1?\n",
    "    gtf_exons_gr.Start = gtf_exons_gr.Start-1\n",
    "    gtf_exons_gr.End = gtf_exons_gr.End.astype(\"int64\")\n",
    "    # Drop duplicated positions on same strand \n",
    "    gtf_exons_gr = gtf_exons_gr.drop_duplicate_positions(strand=True) #why are so many gone after this? \n",
    "    return(gtf_exons_gr)"
   ]
  },
  {
   "cell_type": "code",
   "execution_count": 3,
   "metadata": {},
   "outputs": [],
   "source": [
    "def process_gtf_trans(gtf_file): \n",
    "\n",
    "    #[1] extract all exons from gtf file provided \n",
    "    gtf = read_gtf(gtf_file) #to reduce the speed of this, can just get rows with exon in the feature column (preprocess this before running package)? check if really necessary\n",
    "    gtf_exons = gtf[(gtf[\"feature\"] == \"transcript\")]\n",
    "    #remove \"chr\" from chromosome names only if present\n",
    "    if gtf_exons['seqname'].str.contains('chr').any():\n",
    "        gtf_exons['seqname'] = gtf_exons['seqname'].map(lambda x: x.lstrip('chr').rstrip('chr'))\n",
    "    #make pyranges object\n",
    "    gtf_exons_gr = pr.from_dict({\"Chromosome\": gtf_exons[\"seqname\"], \"Start\": gtf_exons[\"start\"], \"End\": gtf_exons[\"end\"], \"Strand\": gtf_exons[\"strand\"], \"gene_id\": gtf_exons[\"gene_id\"], \"gene_name\": gtf_exons[\"gene_name\"], \"transcript_name\": gtf_exons[\"transcript_name\"], \"transcript_id\": gtf_exons[\"transcript_id\"], \"exon_number\": gtf_exons[\"exon_number\"], \"transcript_biotype\": gtf_exons[\"transcript_biotype\"]})\n",
    "    #remove those exons where exon start == exon end \n",
    "    gtf_exons_gr = gtf_exons_gr[ ~ (gtf_exons_gr.Start == gtf_exons_gr.End)]\n",
    "    #remove genes with no gene names (most likely novel genes?/not fully annotated)\n",
    "    gtf_exons_gr = gtf_exons_gr[ ~ (gtf_exons_gr.gene_name == \"\")]\n",
    "    # When do I need to do this? depends on gtf file used? base 0 or 1?\n",
    "    gtf_exons_gr.Start = gtf_exons_gr.Start-1\n",
    "    gtf_exons_gr.End = gtf_exons_gr.End.astype(\"int64\")\n",
    "    # Drop duplicated positions on same strand \n",
    "    gtf_exons_gr = gtf_exons_gr.drop_duplicate_positions(strand=True) #why are so many gone after this? \n",
    "    return(gtf_exons_gr)"
   ]
  },
  {
   "cell_type": "code",
   "execution_count": 4,
   "metadata": {},
   "outputs": [],
   "source": [
    "gtf_file=\"/gpfs/commons/groups/knowles_lab/Karin/genome_files/Homo_sapiens.GRCh38.108.chr.gtf\""
   ]
  },
  {
   "cell_type": "code",
   "execution_count": 5,
   "metadata": {},
   "outputs": [
    {
     "name": "stderr",
     "output_type": "stream",
     "text": [
      "INFO:root:Extracted GTF attributes: ['gene_id', 'gene_version', 'gene_name', 'gene_source', 'gene_biotype', 'transcript_id', 'transcript_version', 'transcript_name', 'transcript_source', 'transcript_biotype', 'tag', 'ccds_id', 'exon_number', 'exon_id', 'exon_version', 'protein_id', 'protein_version', 'transcript_support_level']\n"
     ]
    },
    {
     "name": "stdout",
     "output_type": "stream",
     "text": [
      "Warning! Start and End columns now have different dtypes: int32 and int64\n"
     ]
    },
    {
     "data": {
      "text/html": [
       "<div>\n",
       "<style scoped>\n",
       "    .dataframe tbody tr th:only-of-type {\n",
       "        vertical-align: middle;\n",
       "    }\n",
       "\n",
       "    .dataframe tbody tr th {\n",
       "        vertical-align: top;\n",
       "    }\n",
       "\n",
       "    .dataframe thead th {\n",
       "        text-align: right;\n",
       "    }\n",
       "</style>\n",
       "<table border=\"1\" class=\"dataframe\">\n",
       "  <thead>\n",
       "    <tr style=\"text-align: right;\">\n",
       "      <th></th>\n",
       "      <th>Chromosome</th>\n",
       "      <th>Start</th>\n",
       "      <th>End</th>\n",
       "      <th>Strand</th>\n",
       "      <th>transcript_id</th>\n",
       "    </tr>\n",
       "  </thead>\n",
       "  <tbody>\n",
       "    <tr>\n",
       "      <th>0</th>\n",
       "      <td>1</td>\n",
       "      <td>1471764</td>\n",
       "      <td>1497848</td>\n",
       "      <td>+</td>\n",
       "      <td>ENST00000673477</td>\n",
       "    </tr>\n",
       "    <tr>\n",
       "      <th>1</th>\n",
       "      <td>1</td>\n",
       "      <td>1478025</td>\n",
       "      <td>1497848</td>\n",
       "      <td>+</td>\n",
       "      <td>ENST00000472194</td>\n",
       "    </tr>\n",
       "    <tr>\n",
       "      <th>2</th>\n",
       "      <td>1</td>\n",
       "      <td>1479048</td>\n",
       "      <td>1482662</td>\n",
       "      <td>+</td>\n",
       "      <td>ENST00000378736</td>\n",
       "    </tr>\n",
       "    <tr>\n",
       "      <th>3</th>\n",
       "      <td>1</td>\n",
       "      <td>1483484</td>\n",
       "      <td>1496202</td>\n",
       "      <td>+</td>\n",
       "      <td>ENST00000485748</td>\n",
       "    </tr>\n",
       "    <tr>\n",
       "      <th>4</th>\n",
       "      <td>1</td>\n",
       "      <td>1484568</td>\n",
       "      <td>1496201</td>\n",
       "      <td>+</td>\n",
       "      <td>ENST00000474481</td>\n",
       "    </tr>\n",
       "  </tbody>\n",
       "</table>\n",
       "</div>"
      ],
      "text/plain": [
       "  Chromosome    Start      End Strand    transcript_id\n",
       "0          1  1471764  1497848      +  ENST00000673477\n",
       "1          1  1478025  1497848      +  ENST00000472194\n",
       "2          1  1479048  1482662      +  ENST00000378736\n",
       "3          1  1483484  1496202      +  ENST00000485748\n",
       "4          1  1484568  1496201      +  ENST00000474481"
      ]
     },
     "execution_count": 5,
     "metadata": {},
     "output_type": "execute_result"
    }
   ],
   "source": [
    "gtf_gr_trans = process_gtf_trans(gtf_file)\n",
    "gtf_gr_trans = gtf_gr_trans.df \n",
    "coords = gtf_gr_trans[[\"Chromosome\", \"Start\", \"End\", \"Strand\", \"transcript_id\"]].drop_duplicates()\n",
    "coords.head()"
   ]
  },
  {
   "cell_type": "code",
   "execution_count": 6,
   "metadata": {},
   "outputs": [
    {
     "name": "stderr",
     "output_type": "stream",
     "text": [
      "INFO:root:Extracted GTF attributes: ['gene_id', 'gene_version', 'gene_name', 'gene_source', 'gene_biotype', 'transcript_id', 'transcript_version', 'transcript_name', 'transcript_source', 'transcript_biotype', 'tag', 'ccds_id', 'exon_number', 'exon_id', 'exon_version', 'protein_id', 'protein_version', 'transcript_support_level']\n"
     ]
    },
    {
     "name": "stdout",
     "output_type": "stream",
     "text": [
      "Warning! Start and End columns now have different dtypes: int64 and int32\n"
     ]
    }
   ],
   "source": [
    "gtf_gr = process_gtf(gtf_file)"
   ]
  },
  {
   "cell_type": "code",
   "execution_count": 7,
   "metadata": {},
   "outputs": [],
   "source": [
    "# the transcript coordinates are for pre-mRNA but these could have big introns that we don't want to evaluate coverage over \n",
    "# use exons to get total mature RNA isoform lengths and assess their coverage \n",
    "gtf_gr.feature_length = gtf_gr.End - gtf_gr.Start"
   ]
  },
  {
   "cell_type": "code",
   "execution_count": 8,
   "metadata": {},
   "outputs": [
    {
     "data": {
      "text/html": [
       "<div>\n",
       "<style scoped>\n",
       "    .dataframe tbody tr th:only-of-type {\n",
       "        vertical-align: middle;\n",
       "    }\n",
       "\n",
       "    .dataframe tbody tr th {\n",
       "        vertical-align: top;\n",
       "    }\n",
       "\n",
       "    .dataframe thead th {\n",
       "        text-align: right;\n",
       "    }\n",
       "</style>\n",
       "<table border=\"1\" class=\"dataframe\">\n",
       "  <thead>\n",
       "    <tr style=\"text-align: right;\">\n",
       "      <th></th>\n",
       "      <th>Chromosome</th>\n",
       "      <th>Start</th>\n",
       "      <th>End</th>\n",
       "      <th>Strand</th>\n",
       "      <th>gene_id</th>\n",
       "      <th>gene_name</th>\n",
       "      <th>transcript_name</th>\n",
       "      <th>transcript_id</th>\n",
       "      <th>exon_number</th>\n",
       "      <th>transcript_biotype</th>\n",
       "      <th>feature_length</th>\n",
       "    </tr>\n",
       "  </thead>\n",
       "  <tbody>\n",
       "    <tr>\n",
       "      <th>0</th>\n",
       "      <td>1</td>\n",
       "      <td>1471764</td>\n",
       "      <td>1472089</td>\n",
       "      <td>+</td>\n",
       "      <td>ENSG00000160072</td>\n",
       "      <td>ATAD3B</td>\n",
       "      <td>ATAD3B-206</td>\n",
       "      <td>ENST00000673477</td>\n",
       "      <td>1</td>\n",
       "      <td>protein_coding</td>\n",
       "      <td>325</td>\n",
       "    </tr>\n",
       "    <tr>\n",
       "      <th>1</th>\n",
       "      <td>1</td>\n",
       "      <td>1477273</td>\n",
       "      <td>1477350</td>\n",
       "      <td>+</td>\n",
       "      <td>ENSG00000160072</td>\n",
       "      <td>ATAD3B</td>\n",
       "      <td>ATAD3B-206</td>\n",
       "      <td>ENST00000673477</td>\n",
       "      <td>2</td>\n",
       "      <td>protein_coding</td>\n",
       "      <td>77</td>\n",
       "    </tr>\n",
       "    <tr>\n",
       "      <th>2</th>\n",
       "      <td>1</td>\n",
       "      <td>1478643</td>\n",
       "      <td>1478745</td>\n",
       "      <td>+</td>\n",
       "      <td>ENSG00000160072</td>\n",
       "      <td>ATAD3B</td>\n",
       "      <td>ATAD3B-206</td>\n",
       "      <td>ENST00000673477</td>\n",
       "      <td>3</td>\n",
       "      <td>protein_coding</td>\n",
       "      <td>102</td>\n",
       "    </tr>\n",
       "    <tr>\n",
       "      <th>3</th>\n",
       "      <td>1</td>\n",
       "      <td>1479048</td>\n",
       "      <td>1479108</td>\n",
       "      <td>+</td>\n",
       "      <td>ENSG00000160072</td>\n",
       "      <td>ATAD3B</td>\n",
       "      <td>ATAD3B-206</td>\n",
       "      <td>ENST00000673477</td>\n",
       "      <td>4</td>\n",
       "      <td>protein_coding</td>\n",
       "      <td>60</td>\n",
       "    </tr>\n",
       "    <tr>\n",
       "      <th>4</th>\n",
       "      <td>1</td>\n",
       "      <td>1480866</td>\n",
       "      <td>1480936</td>\n",
       "      <td>+</td>\n",
       "      <td>ENSG00000160072</td>\n",
       "      <td>ATAD3B</td>\n",
       "      <td>ATAD3B-206</td>\n",
       "      <td>ENST00000673477</td>\n",
       "      <td>5</td>\n",
       "      <td>protein_coding</td>\n",
       "      <td>70</td>\n",
       "    </tr>\n",
       "  </tbody>\n",
       "</table>\n",
       "</div>"
      ],
      "text/plain": [
       "  Chromosome    Start      End Strand          gene_id gene_name  \\\n",
       "0          1  1471764  1472089      +  ENSG00000160072    ATAD3B   \n",
       "1          1  1477273  1477350      +  ENSG00000160072    ATAD3B   \n",
       "2          1  1478643  1478745      +  ENSG00000160072    ATAD3B   \n",
       "3          1  1479048  1479108      +  ENSG00000160072    ATAD3B   \n",
       "4          1  1480866  1480936      +  ENSG00000160072    ATAD3B   \n",
       "\n",
       "  transcript_name    transcript_id exon_number transcript_biotype  \\\n",
       "0      ATAD3B-206  ENST00000673477           1     protein_coding   \n",
       "1      ATAD3B-206  ENST00000673477           2     protein_coding   \n",
       "2      ATAD3B-206  ENST00000673477           3     protein_coding   \n",
       "3      ATAD3B-206  ENST00000673477           4     protein_coding   \n",
       "4      ATAD3B-206  ENST00000673477           5     protein_coding   \n",
       "\n",
       "   feature_length  \n",
       "0             325  \n",
       "1              77  \n",
       "2             102  \n",
       "3              60  \n",
       "4              70  "
      ]
     },
     "execution_count": 8,
     "metadata": {},
     "output_type": "execute_result"
    }
   ],
   "source": [
    "gtf_gr = gtf_gr.df\n",
    "gtf_gr.head()"
   ]
  },
  {
   "cell_type": "code",
   "execution_count": 9,
   "metadata": {},
   "outputs": [
    {
     "data": {
      "text/plain": [
       "protein_coding                        313214\n",
       "lncRNA                                 71004\n",
       "retained_intron                        70980\n",
       "protein_coding_CDS_not_defined         59176\n",
       "nonsense_mediated_decay                56042\n",
       "processed_pseudogene                    7124\n",
       "unprocessed_pseudogene                  4990\n",
       "transcribed_unprocessed_pseudogene      4898\n",
       "processed_transcript                    2784\n",
       "misc_RNA                                1970\n",
       "snRNA                                   1898\n",
       "miRNA                                   1852\n",
       "transcribed_unitary_pseudogene           850\n",
       "snoRNA                                   606\n",
       "rRNA_pseudogene                          496\n",
       "transcribed_processed_pseudogene         426\n",
       "protein_coding_LoF                       372\n",
       "non_stop_decay                           305\n",
       "IG_V_gene                                284\n",
       "IG_V_pseudogene                          282\n",
       "unitary_pseudogene                       231\n",
       "TR_V_gene                                213\n",
       "TEC                                       83\n",
       "TR_J_gene                                 79\n",
       "IG_C_gene                                 72\n",
       "TR_V_pseudogene                           57\n",
       "rRNA                                      47\n",
       "IG_D_gene                                 37\n",
       "TR_C_gene                                 23\n",
       "Mt_tRNA                                   22\n",
       "scaRNA                                    20\n",
       "IG_J_gene                                 18\n",
       "IG_C_pseudogene                           15\n",
       "translated_unprocessed_pseudogene          9\n",
       "ribozyme                                   5\n",
       "TR_D_gene                                  4\n",
       "TR_J_pseudogene                            4\n",
       "IG_J_pseudogene                            3\n",
       "translated_processed_pseudogene            2\n",
       "Mt_rRNA                                    2\n",
       "vault_RNA                                  1\n",
       "scRNA                                      1\n",
       "Name: transcript_biotype, dtype: int64"
      ]
     },
     "execution_count": 9,
     "metadata": {},
     "output_type": "execute_result"
    }
   ],
   "source": [
    "gtf_gr.transcript_biotype.value_counts()"
   ]
  },
  {
   "cell_type": "code",
   "execution_count": 10,
   "metadata": {},
   "outputs": [],
   "source": [
    "pc = gtf_gr[gtf_gr.transcript_biotype == \"protein_coding\"]\n",
    "nc = gtf_gr[gtf_gr.transcript_biotype == \"lncRNA\"]"
   ]
  },
  {
   "cell_type": "code",
   "execution_count": 11,
   "metadata": {},
   "outputs": [],
   "source": [
    "# group by transcript_id then sum up feature_lengths to get total trancsript lengths\n",
    "pc_trans_lengths = pc.groupby([\"gene_name\", \"transcript_id\"])[\"feature_length\"].sum() \n",
    "nc_trans_lengths = nc.groupby([\"gene_name\", \"transcript_id\"])[\"feature_length\"].sum() "
   ]
  },
  {
   "cell_type": "code",
   "execution_count": 12,
   "metadata": {},
   "outputs": [],
   "source": [
    "pc_trans_lengths = pd.DataFrame(pc_trans_lengths)\n",
    "nc_trans_lengths = pd.DataFrame(nc_trans_lengths)"
   ]
  },
  {
   "cell_type": "code",
   "execution_count": 13,
   "metadata": {},
   "outputs": [
    {
     "data": {
      "text/plain": [
       "Text(0, 0.5, 'Percentile')"
      ]
     },
     "execution_count": 13,
     "metadata": {},
     "output_type": "execute_result"
    },
    {
     "data": {
      "image/png": "[encoded data removed]",
      "text/plain": [
       "<Figure size 600x600 with 1 Axes>"
      ]
     },
     "metadata": {},
     "output_type": "display_data"
    }
   ],
   "source": [
    "# figure out which percentile each feature_length falls into in pc_trans_lengths\n",
    "lengths = pc_trans_lengths.sort_values(\"feature_length\")\n",
    "lengths = lengths.feature_length.values\n",
    "lengths = pd.Series(lengths)\n",
    "lengths[len(lengths)] = lengths.iloc[-1]\n",
    "\n",
    "cum_dist = np.linspace(0.,1.,len(lengths))\n",
    "ser_cdf = pd.Series(cum_dist, index=lengths)\n",
    "\n",
    "# define plt \n",
    "import matplotlib.pyplot as plt\n",
    "import seaborn as sns\n",
    "sns.set_style(\"whitegrid\")\n",
    "ser_cdf.plot(drawstyle='steps', figsize=(6,6), title=\"Cumulative Distribution of Transcript Lengths in Protein Coding Genes\")\n",
    "plt.xlabel(\"Transcript Length\")\n",
    "plt.ylabel(\"Percentile\")"
   ]
  },
  {
   "cell_type": "code",
   "execution_count": 14,
   "metadata": {},
   "outputs": [
    {
     "data": {
      "text/plain": [
       "Text(0, 0.5, 'Percentile')"
      ]
     },
     "execution_count": 14,
     "metadata": {},
     "output_type": "execute_result"
    },
    {
     "data": {
      "image/png": "[encoded data removed]",
      "text/plain": [
       "<Figure size 600x600 with 1 Axes>"
      ]
     },
     "metadata": {},
     "output_type": "display_data"
    }
   ],
   "source": [
    "# figure out which percentile each feature_length falls into in pc_trans_lengths\n",
    "lengths = nc_trans_lengths.sort_values(\"feature_length\")\n",
    "lengths = lengths.feature_length.values\n",
    "lengths = pd.Series(lengths)\n",
    "lengths[len(lengths)] = lengths.iloc[-1]\n",
    "\n",
    "cum_dist = np.linspace(0.,1.,len(lengths))\n",
    "ser_cdf = pd.Series(cum_dist, index=lengths)\n",
    "\n",
    "# define plt \n",
    "import matplotlib.pyplot as plt\n",
    "import seaborn as sns\n",
    "sns.set_style(\"whitegrid\")\n",
    "ser_cdf.plot(drawstyle='steps', figsize=(6,6), title=\"Cumulative Distribution of Transcript Lengths in lncRNA Genes\")\n",
    "plt.xlabel(\"Transcript Length\")\n",
    "plt.ylabel(\"Percentile\")"
   ]
  },
  {
   "cell_type": "code",
   "execution_count": null,
   "metadata": {},
   "outputs": [],
   "source": [
    "# number of exons per transcript "
   ]
  },
  {
   "cell_type": "code",
   "execution_count": 15,
   "metadata": {},
   "outputs": [
    {
     "data": {
      "text/plain": [
       "Text(0.5, 1.0, 'Distribution of Transcript Lengths in Protein Coding Genes')"
      ]
     },
     "execution_count": 15,
     "metadata": {},
     "output_type": "execute_result"
    },
    {
     "data": {
      "image/png": "[encoded data removed]",
      "text/plain": [
       "<Figure size 640x480 with 1 Axes>"
      ]
     },
     "metadata": {},
     "output_type": "display_data"
    }
   ],
   "source": [
    "# make a histogram of transcript_length\n",
    "sns.histplot(data=pc_trans_lengths[pc_trans_lengths.feature_length < 10000], x=\"feature_length\")\n",
    "plt.title(\"Distribution of Transcript Lengths in Protein Coding Genes\")\n",
    "\n",
    "# medium 1000-3000\n",
    "# try 3000 as cutoff for long ... "
   ]
  },
  {
   "cell_type": "code",
   "execution_count": 16,
   "metadata": {},
   "outputs": [
    {
     "data": {
      "text/plain": [
       "Text(0.5, 1.0, 'Distribution of Transcript Lengths in lncRNA Genes')"
      ]
     },
     "execution_count": 16,
     "metadata": {},
     "output_type": "execute_result"
    },
    {
     "data": {
      "image/png": "[encoded data removed]",
      "text/plain": [
       "<Figure size 640x480 with 1 Axes>"
      ]
     },
     "metadata": {},
     "output_type": "display_data"
    }
   ],
   "source": [
    "sns.histplot(data=nc_trans_lengths[nc_trans_lengths.feature_length < 10000], x=\"feature_length\")\n",
    "plt.title(\"Distribution of Transcript Lengths in lncRNA Genes\")"
   ]
  },
  {
   "cell_type": "code",
   "execution_count": 17,
   "metadata": {},
   "outputs": [],
   "source": [
    "# first need to attach chr, start and end positions to tables \n",
    "pc_trans_lengths = pc_trans_lengths.reset_index()\n",
    "nc_trans_lengths = nc_trans_lengths.reset_index()"
   ]
  },
  {
   "cell_type": "code",
   "execution_count": 18,
   "metadata": {},
   "outputs": [],
   "source": [
    "pc_trans_lengths = pc_trans_lengths.merge(coords, on=\"transcript_id\")\n",
    "nc_trans_lengths = nc_trans_lengths.merge(coords, on=\"transcript_id\")"
   ]
  },
  {
   "cell_type": "code",
   "execution_count": 19,
   "metadata": {},
   "outputs": [],
   "source": [
    "# reorder columns to match BED file format, chr, start, end, strand\n",
    "pc_trans_lengths = pc_trans_lengths[[\"Chromosome\", \"Start\", \"End\", \"Strand\", \"transcript_id\", \"gene_name\", \"feature_length\"]]\n",
    "nc_trans_lengths = nc_trans_lengths[[\"Chromosome\", \"Start\", \"End\", \"Strand\", \"transcript_id\", \"gene_name\", \"feature_length\"]]"
   ]
  },
  {
   "cell_type": "code",
   "execution_count": 20,
   "metadata": {},
   "outputs": [
    {
     "name": "stdout",
     "output_type": "stream",
     "text": [
      "(51210, 7)\n",
      "(32033, 7)\n",
      "(669, 7)\n"
     ]
    }
   ],
   "source": [
    "# generate three files for protein coding genes BED files for short, medium, and long transcripts\n",
    "# short: < 1000 bp\n",
    "# medium: 1000-10000 bp\n",
    "# long: > 10000 bp\n",
    "\n",
    "short_pc = pc_trans_lengths[pc_trans_lengths.feature_length < 1000]\n",
    "med_pc = pc_trans_lengths[pc_trans_lengths.feature_length.between(1000, 10000)]\n",
    "long_pc = pc_trans_lengths[pc_trans_lengths.feature_length > 10000]\n",
    "print(short_pc.shape)\n",
    "print(med_pc.shape)\n",
    "print(long_pc.shape)"
   ]
  },
  {
   "cell_type": "code",
   "execution_count": 21,
   "metadata": {},
   "outputs": [
    {
     "name": "stdout",
     "output_type": "stream",
     "text": [
      "(20008, 7)\n",
      "(10472, 7)\n",
      "(28, 7)\n"
     ]
    }
   ],
   "source": [
    "# generate three files for protein coding genes BED files for short, medium, and long transcripts\n",
    "# short: < 1000 bp\n",
    "# medium: 1000-10000 bp\n",
    "# long: > 10000 bp\n",
    "\n",
    "short_nc = nc_trans_lengths[nc_trans_lengths.feature_length < 1000]\n",
    "med_nc = nc_trans_lengths[nc_trans_lengths.feature_length.between(1000, 10000)]\n",
    "long_nc = nc_trans_lengths[nc_trans_lengths.feature_length > 10000]\n",
    "print(short_nc.shape)\n",
    "print(med_nc.shape)\n",
    "print(long_nc.shape)"
   ]
  },
  {
   "cell_type": "code",
   "execution_count": 22,
   "metadata": {},
   "outputs": [],
   "source": [
    "# choose directory to save these files in\n",
    "save_dir = \"/gpfs/commons/groups/knowles_lab/Karin/genome_files/\"\n",
    "\n",
    "# save files as BED files \n",
    "short_pc.to_csv(save_dir + \"short_pc.bed\", sep=\"\\t\", header=False, index=False)\n",
    "med_pc.to_csv(save_dir + \"med_pc.bed\", sep=\"\\t\", header=False, index=False)\n",
    "long_pc.to_csv(save_dir + \"long_pc.bed\", sep=\"\\t\", header=False, index=False)\n",
    "short_nc.to_csv(save_dir + \"short_nc.bed\", sep=\"\\t\", header=False, index=False)\n",
    "med_nc.to_csv(save_dir + \"med_nc.bed\", sep=\"\\t\", header=False, index=False)\n",
    "long_nc.to_csv(save_dir + \"long_nc.bed\", sep=\"\\t\", header=False, index=False)"
   ]
  },
  {
   "cell_type": "code",
   "execution_count": 23,
   "metadata": {},
   "outputs": [
    {
     "data": {
      "text/html": [
       "<div>\n",
       "<style scoped>\n",
       "    .dataframe tbody tr th:only-of-type {\n",
       "        vertical-align: middle;\n",
       "    }\n",
       "\n",
       "    .dataframe tbody tr th {\n",
       "        vertical-align: top;\n",
       "    }\n",
       "\n",
       "    .dataframe thead th {\n",
       "        text-align: right;\n",
       "    }\n",
       "</style>\n",
       "<table border=\"1\" class=\"dataframe\">\n",
       "  <thead>\n",
       "    <tr style=\"text-align: right;\">\n",
       "      <th></th>\n",
       "      <th>Chromosome</th>\n",
       "      <th>Start</th>\n",
       "      <th>End</th>\n",
       "      <th>Strand</th>\n",
       "      <th>transcript_id</th>\n",
       "      <th>gene_name</th>\n",
       "      <th>feature_length</th>\n",
       "    </tr>\n",
       "  </thead>\n",
       "  <tbody>\n",
       "    <tr>\n",
       "      <th>1</th>\n",
       "      <td>19</td>\n",
       "      <td>58350593</td>\n",
       "      <td>58353129</td>\n",
       "      <td>-</td>\n",
       "      <td>ENST00000600966</td>\n",
       "      <td>A1BG</td>\n",
       "      <td>347</td>\n",
       "    </tr>\n",
       "    <tr>\n",
       "      <th>2</th>\n",
       "      <td>10</td>\n",
       "      <td>50806561</td>\n",
       "      <td>50859985</td>\n",
       "      <td>-</td>\n",
       "      <td>ENST00000373993</td>\n",
       "      <td>A1CF</td>\n",
       "      <td>525</td>\n",
       "    </tr>\n",
       "    <tr>\n",
       "      <th>3</th>\n",
       "      <td>10</td>\n",
       "      <td>50806561</td>\n",
       "      <td>50885675</td>\n",
       "      <td>-</td>\n",
       "      <td>ENST00000373995</td>\n",
       "      <td>A1CF</td>\n",
       "      <td>143</td>\n",
       "    </tr>\n",
       "    <tr>\n",
       "      <th>4</th>\n",
       "      <td>10</td>\n",
       "      <td>50799408</td>\n",
       "      <td>50885627</td>\n",
       "      <td>-</td>\n",
       "      <td>ENST00000373997</td>\n",
       "      <td>A1CF</td>\n",
       "      <td>95</td>\n",
       "    </tr>\n",
       "    <tr>\n",
       "      <th>7</th>\n",
       "      <td>10</td>\n",
       "      <td>50836073</td>\n",
       "      <td>50885675</td>\n",
       "      <td>-</td>\n",
       "      <td>ENST00000414883</td>\n",
       "      <td>A1CF</td>\n",
       "      <td>93</td>\n",
       "    </tr>\n",
       "    <tr>\n",
       "      <th>...</th>\n",
       "      <td>...</td>\n",
       "      <td>...</td>\n",
       "      <td>...</td>\n",
       "      <td>...</td>\n",
       "      <td>...</td>\n",
       "      <td>...</td>\n",
       "      <td>...</td>\n",
       "    </tr>\n",
       "    <tr>\n",
       "      <th>83904</th>\n",
       "      <td>7</td>\n",
       "      <td>143381294</td>\n",
       "      <td>143382925</td>\n",
       "      <td>+</td>\n",
       "      <td>ENST00000449630</td>\n",
       "      <td>ZYX</td>\n",
       "      <td>533</td>\n",
       "    </tr>\n",
       "    <tr>\n",
       "      <th>83905</th>\n",
       "      <td>7</td>\n",
       "      <td>143381360</td>\n",
       "      <td>143382676</td>\n",
       "      <td>+</td>\n",
       "      <td>ENST00000457235</td>\n",
       "      <td>ZYX</td>\n",
       "      <td>503</td>\n",
       "    </tr>\n",
       "    <tr>\n",
       "      <th>83907</th>\n",
       "      <td>17</td>\n",
       "      <td>4022416</td>\n",
       "      <td>4062798</td>\n",
       "      <td>-</td>\n",
       "      <td>ENST00000573183</td>\n",
       "      <td>ZZEF1</td>\n",
       "      <td>458</td>\n",
       "    </tr>\n",
       "    <tr>\n",
       "      <th>83910</th>\n",
       "      <td>1</td>\n",
       "      <td>77633245</td>\n",
       "      <td>77683374</td>\n",
       "      <td>-</td>\n",
       "      <td>ENST00000414381</td>\n",
       "      <td>ZZZ3</td>\n",
       "      <td>273</td>\n",
       "    </tr>\n",
       "    <tr>\n",
       "      <th>83911</th>\n",
       "      <td>1</td>\n",
       "      <td>77633181</td>\n",
       "      <td>77682675</td>\n",
       "      <td>-</td>\n",
       "      <td>ENST00000433749</td>\n",
       "      <td>ZZZ3</td>\n",
       "      <td>315</td>\n",
       "    </tr>\n",
       "  </tbody>\n",
       "</table>\n",
       "<p>51210 rows × 7 columns</p>\n",
       "</div>"
      ],
      "text/plain": [
       "      Chromosome      Start        End Strand    transcript_id gene_name  \\\n",
       "1             19   58350593   58353129      -  ENST00000600966      A1BG   \n",
       "2             10   50806561   50859985      -  ENST00000373993      A1CF   \n",
       "3             10   50806561   50885675      -  ENST00000373995      A1CF   \n",
       "4             10   50799408   50885627      -  ENST00000373997      A1CF   \n",
       "7             10   50836073   50885675      -  ENST00000414883      A1CF   \n",
       "...          ...        ...        ...    ...              ...       ...   \n",
       "83904          7  143381294  143382925      +  ENST00000449630       ZYX   \n",
       "83905          7  143381360  143382676      +  ENST00000457235       ZYX   \n",
       "83907         17    4022416    4062798      -  ENST00000573183     ZZEF1   \n",
       "83910          1   77633245   77683374      -  ENST00000414381      ZZZ3   \n",
       "83911          1   77633181   77682675      -  ENST00000433749      ZZZ3   \n",
       "\n",
       "       feature_length  \n",
       "1                 347  \n",
       "2                 525  \n",
       "3                 143  \n",
       "4                  95  \n",
       "7                  93  \n",
       "...               ...  \n",
       "83904             533  \n",
       "83905             503  \n",
       "83907             458  \n",
       "83910             273  \n",
       "83911             315  \n",
       "\n",
       "[51210 rows x 7 columns]"
      ]
     },
     "execution_count": 23,
     "metadata": {},
     "output_type": "execute_result"
    }
   ],
   "source": [
    "short_pc"
   ]
  }
 ],
 "metadata": {
  "kernelspec": {
   "display_name": "leafcutter-sc",
   "language": "python",
   "name": "python3"
  },
  "language_info": {
   "codemirror_mode": {
    "name": "ipython",
    "version": 3
   },
   "file_extension": ".py",
   "mimetype": "text/x-python",
   "name": "python",
   "nbconvert_exporter": "python",
   "pygments_lexer": "ipython3",
   "version": "3.9.16"
  },
  "orig_nbformat": 4
 },
 "nbformat": 4,
 "nbformat_minor": 2
}
