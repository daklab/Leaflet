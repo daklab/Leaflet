{
 "cells": [
  {
   "cell_type": "code",
   "execution_count": 100,
   "metadata": {},
   "outputs": [],
   "source": [
    "import scanpy as sc # import scanpy to handle our AnnData \n",
    "import pandas as pd # import pandas to handle dataframes\n",
    "import matplotlib.pyplot as plt # import matplotlib to visualize our qc metrics\n",
    "import seaborn as sns # import seaborn to visualize our qc metrics\n",
    "\n",
    "# magic incantation to help matplotlib work with our jupyter notebook\n",
    "%matplotlib inline "
   ]
  },
  {
   "cell_type": "code",
   "execution_count": 93,
   "metadata": {},
   "outputs": [
    {
     "data": {
      "text/html": [
       "<div>\n",
       "<style scoped>\n",
       "    .dataframe tbody tr th:only-of-type {\n",
       "        vertical-align: middle;\n",
       "    }\n",
       "\n",
       "    .dataframe tbody tr th {\n",
       "        vertical-align: top;\n",
       "    }\n",
       "\n",
       "    .dataframe thead th {\n",
       "        text-align: right;\n",
       "    }\n",
       "</style>\n",
       "<table border=\"1\" class=\"dataframe\">\n",
       "  <thead>\n",
       "    <tr style=\"text-align: right;\">\n",
       "      <th>Status</th>\n",
       "      <th>Assigned</th>\n",
       "      <th>Unassigned_Unmapped</th>\n",
       "      <th>Unassigned_Read_Type</th>\n",
       "      <th>Unassigned_Singleton</th>\n",
       "      <th>Unassigned_MappingQuality</th>\n",
       "      <th>Unassigned_Chimera</th>\n",
       "      <th>Unassigned_FragmentLength</th>\n",
       "      <th>Unassigned_Duplicate</th>\n",
       "      <th>Unassigned_MultiMapping</th>\n",
       "      <th>Unassigned_Secondary</th>\n",
       "      <th>Unassigned_NonSplit</th>\n",
       "      <th>Unassigned_NoFeatures</th>\n",
       "      <th>Unassigned_Overlapping_Length</th>\n",
       "      <th>Unassigned_Ambiguity</th>\n",
       "    </tr>\n",
       "    <tr>\n",
       "      <th>cell_id</th>\n",
       "      <th></th>\n",
       "      <th></th>\n",
       "      <th></th>\n",
       "      <th></th>\n",
       "      <th></th>\n",
       "      <th></th>\n",
       "      <th></th>\n",
       "      <th></th>\n",
       "      <th></th>\n",
       "      <th></th>\n",
       "      <th></th>\n",
       "      <th></th>\n",
       "      <th></th>\n",
       "      <th></th>\n",
       "    </tr>\n",
       "  </thead>\n",
       "  <tbody>\n",
       "    <tr>\n",
       "      <th>A10-MAA000926-3_9_M-1-1</th>\n",
       "      <td>0.513324</td>\n",
       "      <td>0.0</td>\n",
       "      <td>0.0</td>\n",
       "      <td>0.0</td>\n",
       "      <td>0.0</td>\n",
       "      <td>0.0</td>\n",
       "      <td>0.0</td>\n",
       "      <td>0.0</td>\n",
       "      <td>0.096185</td>\n",
       "      <td>0.0</td>\n",
       "      <td>0.0</td>\n",
       "      <td>0.237560</td>\n",
       "      <td>0.0</td>\n",
       "      <td>0.152930</td>\n",
       "    </tr>\n",
       "    <tr>\n",
       "      <th>A11-B000404-3_56_F-1-1</th>\n",
       "      <td>0.562764</td>\n",
       "      <td>0.0</td>\n",
       "      <td>0.0</td>\n",
       "      <td>0.0</td>\n",
       "      <td>0.0</td>\n",
       "      <td>0.0</td>\n",
       "      <td>0.0</td>\n",
       "      <td>0.0</td>\n",
       "      <td>0.325019</td>\n",
       "      <td>0.0</td>\n",
       "      <td>0.0</td>\n",
       "      <td>0.061981</td>\n",
       "      <td>0.0</td>\n",
       "      <td>0.050236</td>\n",
       "    </tr>\n",
       "    <tr>\n",
       "      <th>A11-MAA000923-3_9_M-1-1</th>\n",
       "      <td>0.546682</td>\n",
       "      <td>0.0</td>\n",
       "      <td>0.0</td>\n",
       "      <td>0.0</td>\n",
       "      <td>0.0</td>\n",
       "      <td>0.0</td>\n",
       "      <td>0.0</td>\n",
       "      <td>0.0</td>\n",
       "      <td>0.297441</td>\n",
       "      <td>0.0</td>\n",
       "      <td>0.0</td>\n",
       "      <td>0.079207</td>\n",
       "      <td>0.0</td>\n",
       "      <td>0.076671</td>\n",
       "    </tr>\n",
       "    <tr>\n",
       "      <th>A11-MAA000944-3_9_M-1-1</th>\n",
       "      <td>0.328829</td>\n",
       "      <td>0.0</td>\n",
       "      <td>0.0</td>\n",
       "      <td>0.0</td>\n",
       "      <td>0.0</td>\n",
       "      <td>0.0</td>\n",
       "      <td>0.0</td>\n",
       "      <td>0.0</td>\n",
       "      <td>0.077843</td>\n",
       "      <td>0.0</td>\n",
       "      <td>0.0</td>\n",
       "      <td>0.386421</td>\n",
       "      <td>0.0</td>\n",
       "      <td>0.206907</td>\n",
       "    </tr>\n",
       "    <tr>\n",
       "      <th>A12-MAA000930-3_8_M-1-1</th>\n",
       "      <td>0.574127</td>\n",
       "      <td>0.0</td>\n",
       "      <td>0.0</td>\n",
       "      <td>0.0</td>\n",
       "      <td>0.0</td>\n",
       "      <td>0.0</td>\n",
       "      <td>0.0</td>\n",
       "      <td>0.0</td>\n",
       "      <td>0.091915</td>\n",
       "      <td>0.0</td>\n",
       "      <td>0.0</td>\n",
       "      <td>0.210299</td>\n",
       "      <td>0.0</td>\n",
       "      <td>0.123659</td>\n",
       "    </tr>\n",
       "  </tbody>\n",
       "</table>\n",
       "</div>"
      ],
      "text/plain": [
       "Status                   Assigned  Unassigned_Unmapped  Unassigned_Read_Type  \\\n",
       "cell_id                                                                        \n",
       "A10-MAA000926-3_9_M-1-1  0.513324                  0.0                   0.0   \n",
       "A11-B000404-3_56_F-1-1   0.562764                  0.0                   0.0   \n",
       "A11-MAA000923-3_9_M-1-1  0.546682                  0.0                   0.0   \n",
       "A11-MAA000944-3_9_M-1-1  0.328829                  0.0                   0.0   \n",
       "A12-MAA000930-3_8_M-1-1  0.574127                  0.0                   0.0   \n",
       "\n",
       "Status                   Unassigned_Singleton  Unassigned_MappingQuality  \\\n",
       "cell_id                                                                    \n",
       "A10-MAA000926-3_9_M-1-1                   0.0                        0.0   \n",
       "A11-B000404-3_56_F-1-1                    0.0                        0.0   \n",
       "A11-MAA000923-3_9_M-1-1                   0.0                        0.0   \n",
       "A11-MAA000944-3_9_M-1-1                   0.0                        0.0   \n",
       "A12-MAA000930-3_8_M-1-1                   0.0                        0.0   \n",
       "\n",
       "Status                   Unassigned_Chimera  Unassigned_FragmentLength  \\\n",
       "cell_id                                                                  \n",
       "A10-MAA000926-3_9_M-1-1                 0.0                        0.0   \n",
       "A11-B000404-3_56_F-1-1                  0.0                        0.0   \n",
       "A11-MAA000923-3_9_M-1-1                 0.0                        0.0   \n",
       "A11-MAA000944-3_9_M-1-1                 0.0                        0.0   \n",
       "A12-MAA000930-3_8_M-1-1                 0.0                        0.0   \n",
       "\n",
       "Status                   Unassigned_Duplicate  Unassigned_MultiMapping  \\\n",
       "cell_id                                                                  \n",
       "A10-MAA000926-3_9_M-1-1                   0.0                 0.096185   \n",
       "A11-B000404-3_56_F-1-1                    0.0                 0.325019   \n",
       "A11-MAA000923-3_9_M-1-1                   0.0                 0.297441   \n",
       "A11-MAA000944-3_9_M-1-1                   0.0                 0.077843   \n",
       "A12-MAA000930-3_8_M-1-1                   0.0                 0.091915   \n",
       "\n",
       "Status                   Unassigned_Secondary  Unassigned_NonSplit  \\\n",
       "cell_id                                                              \n",
       "A10-MAA000926-3_9_M-1-1                   0.0                  0.0   \n",
       "A11-B000404-3_56_F-1-1                    0.0                  0.0   \n",
       "A11-MAA000923-3_9_M-1-1                   0.0                  0.0   \n",
       "A11-MAA000944-3_9_M-1-1                   0.0                  0.0   \n",
       "A12-MAA000930-3_8_M-1-1                   0.0                  0.0   \n",
       "\n",
       "Status                   Unassigned_NoFeatures  Unassigned_Overlapping_Length  \\\n",
       "cell_id                                                                         \n",
       "A10-MAA000926-3_9_M-1-1               0.237560                            0.0   \n",
       "A11-B000404-3_56_F-1-1                0.061981                            0.0   \n",
       "A11-MAA000923-3_9_M-1-1               0.079207                            0.0   \n",
       "A11-MAA000944-3_9_M-1-1               0.386421                            0.0   \n",
       "A12-MAA000930-3_8_M-1-1               0.210299                            0.0   \n",
       "\n",
       "Status                   Unassigned_Ambiguity  \n",
       "cell_id                                        \n",
       "A10-MAA000926-3_9_M-1-1              0.152930  \n",
       "A11-B000404-3_56_F-1-1               0.050236  \n",
       "A11-MAA000923-3_9_M-1-1              0.076671  \n",
       "A11-MAA000944-3_9_M-1-1              0.206907  \n",
       "A12-MAA000930-3_8_M-1-1              0.123659  "
      ]
     },
     "execution_count": 93,
     "metadata": {},
     "output_type": "execute_result"
    }
   ],
   "source": [
    "# read the summary from featureCounts \n",
    "summary = pd.read_csv('/gpfs/commons/groups/knowles_lab/data/tabula_muris/smart_seq/featureCounts/Brain_NonMyeloid_astrocyte_counts.txt.summary', sep=\"\\t\", index_col=0)\n",
    "summary = summary.T\n",
    "\n",
    "# for each row (cell) get proportions of each feature across all types of reads \n",
    "summary_props = summary.div(summary.sum(axis=1), axis=0)\n",
    "\n",
    "# clean up cell IDs in the first column, keep only the sample name everything before '_merged.mus.Aligned.out.sorted.CB.bam' \n",
    "summary_props.index = summary_props.index.str.split('_merged.mus.Aligned.out.sorted.CB.bam').str[0]\n",
    "\n",
    "# rename the first column from Status to cell_id the first column is the index \n",
    "summary_props.index.name = 'cell_id'\n",
    "summary_props.head()"
   ]
  },
  {
   "cell_type": "code",
   "execution_count": 96,
   "metadata": {},
   "outputs": [],
   "source": [
    "summary_props = summary_props.T"
   ]
  },
  {
   "cell_type": "code",
   "execution_count": 102,
   "metadata": {},
   "outputs": [
    {
     "data": {
      "text/plain": [
       "(14, 432)"
      ]
     },
     "execution_count": 102,
     "metadata": {},
     "output_type": "execute_result"
    }
   ],
   "source": [
    "summary_props.shape"
   ]
  },
  {
   "cell_type": "code",
   "execution_count": 112,
   "metadata": {},
   "outputs": [
    {
     "data": {
      "text/plain": [
       "<seaborn.matrix.ClusterGrid at 0x7f962227f3d0>"
      ]
     },
     "execution_count": 112,
     "metadata": {},
     "output_type": "execute_result"
    },
    {
     "data": {
      "image/png": "[encoded data removed]",
      "text/plain": [
       "<Figure size 700x500 with 4 Axes>"
      ]
     },
     "metadata": {},
     "output_type": "display_data"
    }
   ],
   "source": [
    "# plot summary_props as a heatmap with seaborn, don't plot cell_ids \n",
    "sns.clustermap(summary_props, xticklabels=False, figsize=(7, 5), dendrogram_ratio=(.1, .2))"
   ]
  },
  {
   "cell_type": "code",
   "execution_count": 114,
   "metadata": {},
   "outputs": [],
   "source": [
    "## tell pandas to make a new DataFrame with the contents of `brain_counts.csv`. This might take a minute.\n",
    "count_dataframe = pd.read_table('/gpfs/commons/groups/knowles_lab/data/tabula_muris/smart_seq/featureCounts/Brain_NonMyeloid_astrocyte_counts.txt', comment='#')"
   ]
  },
  {
   "cell_type": "code",
   "execution_count": 50,
   "metadata": {},
   "outputs": [],
   "source": [
    "#First, we need to load in the metadata for our cells. This is a table that contains information about each cell in our dataset.\n",
    "#metadata_dataframe = pd.read_csv('../data/brain_metadata.csv', # where to find the data\n",
    "#                           index_col=0) # use the first column as the index"
   ]
  },
  {
   "cell_type": "code",
   "execution_count": 115,
   "metadata": {},
   "outputs": [],
   "source": [
    "# keep only Geneid and the columns that contain cell names which start at column 6\n",
    "count_dataframe = count_dataframe.iloc[:, [0] + list(range(6, count_dataframe.shape[1]))]\n",
    "\n",
    "# make Geneid the index \n",
    "count_dataframe = count_dataframe.set_index('Geneid')"
   ]
  },
  {
   "cell_type": "code",
   "execution_count": 116,
   "metadata": {},
   "outputs": [
    {
     "data": {
      "text/html": [
       "<div>\n",
       "<style scoped>\n",
       "    .dataframe tbody tr th:only-of-type {\n",
       "        vertical-align: middle;\n",
       "    }\n",
       "\n",
       "    .dataframe tbody tr th {\n",
       "        vertical-align: top;\n",
       "    }\n",
       "\n",
       "    .dataframe thead th {\n",
       "        text-align: right;\n",
       "    }\n",
       "</style>\n",
       "<table border=\"1\" class=\"dataframe\">\n",
       "  <thead>\n",
       "    <tr style=\"text-align: right;\">\n",
       "      <th></th>\n",
       "      <th>A10-MAA000926-3_9_M-1-1</th>\n",
       "      <th>A11-B000404-3_56_F-1-1</th>\n",
       "      <th>A11-MAA000923-3_9_M-1-1</th>\n",
       "      <th>A11-MAA000944-3_9_M-1-1</th>\n",
       "      <th>A12-MAA000930-3_8_M-1-1</th>\n",
       "      <th>A13-MAA000560-3_10_M-1-1</th>\n",
       "      <th>A13-MAA000923-3_9_M-1-1</th>\n",
       "      <th>A15-MAA000560-3_10_M-1-1</th>\n",
       "      <th>A15-MAA000944-3_9_M-1-1</th>\n",
       "      <th>A16-MAA000930-3_8_M-1-1</th>\n",
       "      <th>...</th>\n",
       "      <th>P5-MAA000926-3_9_M-1-1</th>\n",
       "      <th>P5-MAA000930-3_8_M-1-1</th>\n",
       "      <th>P5-MAA001894-3_39_F-1-1</th>\n",
       "      <th>P6-MAA000560-3_10_M-1-1</th>\n",
       "      <th>P6-MAA000942-3_8_M-1-1</th>\n",
       "      <th>P7-MAA000564-3_10_M-1-1</th>\n",
       "      <th>P7-MAA000947-3_9_M-1-1</th>\n",
       "      <th>P8-MAA000560-3_10_M-1-1</th>\n",
       "      <th>P9-MAA000930-3_8_M-1-1</th>\n",
       "      <th>P9-MAA001894-3_39_F-1-1</th>\n",
       "    </tr>\n",
       "    <tr>\n",
       "      <th>Geneid</th>\n",
       "      <th></th>\n",
       "      <th></th>\n",
       "      <th></th>\n",
       "      <th></th>\n",
       "      <th></th>\n",
       "      <th></th>\n",
       "      <th></th>\n",
       "      <th></th>\n",
       "      <th></th>\n",
       "      <th></th>\n",
       "      <th></th>\n",
       "      <th></th>\n",
       "      <th></th>\n",
       "      <th></th>\n",
       "      <th></th>\n",
       "      <th></th>\n",
       "      <th></th>\n",
       "      <th></th>\n",
       "      <th></th>\n",
       "      <th></th>\n",
       "      <th></th>\n",
       "    </tr>\n",
       "  </thead>\n",
       "  <tbody>\n",
       "    <tr>\n",
       "      <th>ENSMUSG00000102693.1</th>\n",
       "      <td>0</td>\n",
       "      <td>0</td>\n",
       "      <td>0</td>\n",
       "      <td>0</td>\n",
       "      <td>0</td>\n",
       "      <td>0</td>\n",
       "      <td>0</td>\n",
       "      <td>0</td>\n",
       "      <td>0</td>\n",
       "      <td>0</td>\n",
       "      <td>...</td>\n",
       "      <td>0</td>\n",
       "      <td>0</td>\n",
       "      <td>0</td>\n",
       "      <td>0</td>\n",
       "      <td>0</td>\n",
       "      <td>0</td>\n",
       "      <td>0</td>\n",
       "      <td>0</td>\n",
       "      <td>0</td>\n",
       "      <td>0</td>\n",
       "    </tr>\n",
       "    <tr>\n",
       "      <th>ENSMUSG00000064842.1</th>\n",
       "      <td>0</td>\n",
       "      <td>0</td>\n",
       "      <td>0</td>\n",
       "      <td>0</td>\n",
       "      <td>0</td>\n",
       "      <td>0</td>\n",
       "      <td>0</td>\n",
       "      <td>0</td>\n",
       "      <td>0</td>\n",
       "      <td>0</td>\n",
       "      <td>...</td>\n",
       "      <td>0</td>\n",
       "      <td>0</td>\n",
       "      <td>0</td>\n",
       "      <td>0</td>\n",
       "      <td>0</td>\n",
       "      <td>0</td>\n",
       "      <td>0</td>\n",
       "      <td>0</td>\n",
       "      <td>0</td>\n",
       "      <td>0</td>\n",
       "    </tr>\n",
       "    <tr>\n",
       "      <th>ENSMUSG00000051951.5</th>\n",
       "      <td>0</td>\n",
       "      <td>0</td>\n",
       "      <td>0</td>\n",
       "      <td>0</td>\n",
       "      <td>0</td>\n",
       "      <td>0</td>\n",
       "      <td>0</td>\n",
       "      <td>0</td>\n",
       "      <td>0</td>\n",
       "      <td>0</td>\n",
       "      <td>...</td>\n",
       "      <td>0</td>\n",
       "      <td>0</td>\n",
       "      <td>0</td>\n",
       "      <td>0</td>\n",
       "      <td>0</td>\n",
       "      <td>0</td>\n",
       "      <td>0</td>\n",
       "      <td>0</td>\n",
       "      <td>0</td>\n",
       "      <td>0</td>\n",
       "    </tr>\n",
       "    <tr>\n",
       "      <th>ENSMUSG00000102851.1</th>\n",
       "      <td>0</td>\n",
       "      <td>0</td>\n",
       "      <td>0</td>\n",
       "      <td>0</td>\n",
       "      <td>0</td>\n",
       "      <td>0</td>\n",
       "      <td>0</td>\n",
       "      <td>0</td>\n",
       "      <td>0</td>\n",
       "      <td>0</td>\n",
       "      <td>...</td>\n",
       "      <td>0</td>\n",
       "      <td>0</td>\n",
       "      <td>0</td>\n",
       "      <td>0</td>\n",
       "      <td>0</td>\n",
       "      <td>0</td>\n",
       "      <td>0</td>\n",
       "      <td>0</td>\n",
       "      <td>0</td>\n",
       "      <td>0</td>\n",
       "    </tr>\n",
       "    <tr>\n",
       "      <th>ENSMUSG00000103377.1</th>\n",
       "      <td>0</td>\n",
       "      <td>0</td>\n",
       "      <td>0</td>\n",
       "      <td>0</td>\n",
       "      <td>0</td>\n",
       "      <td>0</td>\n",
       "      <td>0</td>\n",
       "      <td>0</td>\n",
       "      <td>0</td>\n",
       "      <td>0</td>\n",
       "      <td>...</td>\n",
       "      <td>0</td>\n",
       "      <td>0</td>\n",
       "      <td>0</td>\n",
       "      <td>0</td>\n",
       "      <td>0</td>\n",
       "      <td>0</td>\n",
       "      <td>0</td>\n",
       "      <td>0</td>\n",
       "      <td>0</td>\n",
       "      <td>0</td>\n",
       "    </tr>\n",
       "  </tbody>\n",
       "</table>\n",
       "<p>5 rows × 432 columns</p>\n",
       "</div>"
      ],
      "text/plain": [
       "                      A10-MAA000926-3_9_M-1-1  A11-B000404-3_56_F-1-1  \\\n",
       "Geneid                                                                  \n",
       "ENSMUSG00000102693.1                        0                       0   \n",
       "ENSMUSG00000064842.1                        0                       0   \n",
       "ENSMUSG00000051951.5                        0                       0   \n",
       "ENSMUSG00000102851.1                        0                       0   \n",
       "ENSMUSG00000103377.1                        0                       0   \n",
       "\n",
       "                      A11-MAA000923-3_9_M-1-1  A11-MAA000944-3_9_M-1-1  \\\n",
       "Geneid                                                                   \n",
       "ENSMUSG00000102693.1                        0                        0   \n",
       "ENSMUSG00000064842.1                        0                        0   \n",
       "ENSMUSG00000051951.5                        0                        0   \n",
       "ENSMUSG00000102851.1                        0                        0   \n",
       "ENSMUSG00000103377.1                        0                        0   \n",
       "\n",
       "                      A12-MAA000930-3_8_M-1-1  A13-MAA000560-3_10_M-1-1  \\\n",
       "Geneid                                                                    \n",
       "ENSMUSG00000102693.1                        0                         0   \n",
       "ENSMUSG00000064842.1                        0                         0   \n",
       "ENSMUSG00000051951.5                        0                         0   \n",
       "ENSMUSG00000102851.1                        0                         0   \n",
       "ENSMUSG00000103377.1                        0                         0   \n",
       "\n",
       "                      A13-MAA000923-3_9_M-1-1  A15-MAA000560-3_10_M-1-1  \\\n",
       "Geneid                                                                    \n",
       "ENSMUSG00000102693.1                        0                         0   \n",
       "ENSMUSG00000064842.1                        0                         0   \n",
       "ENSMUSG00000051951.5                        0                         0   \n",
       "ENSMUSG00000102851.1                        0                         0   \n",
       "ENSMUSG00000103377.1                        0                         0   \n",
       "\n",
       "                      A15-MAA000944-3_9_M-1-1  A16-MAA000930-3_8_M-1-1  ...  \\\n",
       "Geneid                                                                  ...   \n",
       "ENSMUSG00000102693.1                        0                        0  ...   \n",
       "ENSMUSG00000064842.1                        0                        0  ...   \n",
       "ENSMUSG00000051951.5                        0                        0  ...   \n",
       "ENSMUSG00000102851.1                        0                        0  ...   \n",
       "ENSMUSG00000103377.1                        0                        0  ...   \n",
       "\n",
       "                      P5-MAA000926-3_9_M-1-1  P5-MAA000930-3_8_M-1-1  \\\n",
       "Geneid                                                                 \n",
       "ENSMUSG00000102693.1                       0                       0   \n",
       "ENSMUSG00000064842.1                       0                       0   \n",
       "ENSMUSG00000051951.5                       0                       0   \n",
       "ENSMUSG00000102851.1                       0                       0   \n",
       "ENSMUSG00000103377.1                       0                       0   \n",
       "\n",
       "                      P5-MAA001894-3_39_F-1-1  P6-MAA000560-3_10_M-1-1  \\\n",
       "Geneid                                                                   \n",
       "ENSMUSG00000102693.1                        0                        0   \n",
       "ENSMUSG00000064842.1                        0                        0   \n",
       "ENSMUSG00000051951.5                        0                        0   \n",
       "ENSMUSG00000102851.1                        0                        0   \n",
       "ENSMUSG00000103377.1                        0                        0   \n",
       "\n",
       "                      P6-MAA000942-3_8_M-1-1  P7-MAA000564-3_10_M-1-1  \\\n",
       "Geneid                                                                  \n",
       "ENSMUSG00000102693.1                       0                        0   \n",
       "ENSMUSG00000064842.1                       0                        0   \n",
       "ENSMUSG00000051951.5                       0                        0   \n",
       "ENSMUSG00000102851.1                       0                        0   \n",
       "ENSMUSG00000103377.1                       0                        0   \n",
       "\n",
       "                      P7-MAA000947-3_9_M-1-1  P8-MAA000560-3_10_M-1-1  \\\n",
       "Geneid                                                                  \n",
       "ENSMUSG00000102693.1                       0                        0   \n",
       "ENSMUSG00000064842.1                       0                        0   \n",
       "ENSMUSG00000051951.5                       0                        0   \n",
       "ENSMUSG00000102851.1                       0                        0   \n",
       "ENSMUSG00000103377.1                       0                        0   \n",
       "\n",
       "                      P9-MAA000930-3_8_M-1-1  P9-MAA001894-3_39_F-1-1  \n",
       "Geneid                                                                 \n",
       "ENSMUSG00000102693.1                       0                        0  \n",
       "ENSMUSG00000064842.1                       0                        0  \n",
       "ENSMUSG00000051951.5                       0                        0  \n",
       "ENSMUSG00000102851.1                       0                        0  \n",
       "ENSMUSG00000103377.1                       0                        0  \n",
       "\n",
       "[5 rows x 432 columns]"
      ]
     },
     "execution_count": 116,
     "metadata": {},
     "output_type": "execute_result"
    }
   ],
   "source": [
    "# clean up the column names, keep only everything before '_merged.mus.Aligned.out.sorted.CB.bam'\n",
    "count_dataframe.columns = count_dataframe.columns.str.split('_merged.mus.Aligned.out.sorted.CB.bam').str[0]\n",
    "count_dataframe.head()"
   ]
  },
  {
   "cell_type": "code",
   "execution_count": 118,
   "metadata": {},
   "outputs": [
    {
     "name": "stdout",
     "output_type": "stream",
     "text": [
      "AnnData object with n_obs × n_vars = 432 × 54446\n"
     ]
    },
    {
     "name": "stderr",
     "output_type": "stream",
     "text": [
      "/tmp/ipykernel_4552/1224504392.py:4: FutureWarning: X.dtype being converted to np.float32 from int64. In the next version of anndata (0.9) conversion will not be automatic. Pass dtype explicitly to avoid this warning. Pass `AnnData(X, dtype=X.dtype, ...)` to get the future behavour.\n",
      "  adata = sc.AnnData(X = count_dataframe)\n"
     ]
    }
   ],
   "source": [
    "# make a new AnnData object\n",
    "# help(sc.AnnData)\n",
    "#adata = sc.AnnData(X = count_dataframe, obs = metadata_dataframe)\n",
    "adata = sc.AnnData(X = count_dataframe)\n",
    "# switch var_names and obs in adata \n",
    "adata = adata.transpose()\n",
    "print(adata)"
   ]
  },
  {
   "cell_type": "code",
   "execution_count": 119,
   "metadata": {},
   "outputs": [
    {
     "data": {
      "text/plain": [
       "Index(['ENSMUSG00000102693.1', 'ENSMUSG00000064842.1', 'ENSMUSG00000051951.5',\n",
       "       'ENSMUSG00000102851.1', 'ENSMUSG00000103377.1', 'ENSMUSG00000104017.1',\n",
       "       'ENSMUSG00000103025.1', 'ENSMUSG00000089699.1', 'ENSMUSG00000103201.1',\n",
       "       'ENSMUSG00000103147.1',\n",
       "       ...\n",
       "       'ENSMUSG00000064363.1', 'ENSMUSG00000064364.1', 'ENSMUSG00000064365.1',\n",
       "       'ENSMUSG00000064366.1', 'ENSMUSG00000064367.1', 'ENSMUSG00000064368.1',\n",
       "       'ENSMUSG00000064369.1', 'ENSMUSG00000064370.1', 'ENSMUSG00000064371.1',\n",
       "       'ENSMUSG00000064372.1'],\n",
       "      dtype='object', name='Geneid', length=54446)"
      ]
     },
     "execution_count": 119,
     "metadata": {},
     "output_type": "execute_result"
    }
   ],
   "source": [
    "adata.var_names"
   ]
  },
  {
   "cell_type": "code",
   "execution_count": 120,
   "metadata": {},
   "outputs": [
    {
     "name": "stdout",
     "output_type": "stream",
     "text": [
      "found this many spike ins:  0\n"
     ]
    }
   ],
   "source": [
    "#Because this is smartseq2 data, we may have spike-ins. These gene names start with ERCC. \n",
    "# We can label them in adata.var as a gene annotation.\n",
    "\n",
    "is_spike_in = {}\n",
    "number_of_spike_ins = 0\n",
    "\n",
    "for gene_name in adata.var_names:\n",
    "    if 'ERCC' in gene_name:\n",
    "        is_spike_in[gene_name] = True # record that we found a spike-in\n",
    "        number_of_spike_ins += 1 # bump the counter\n",
    "    else:\n",
    "        is_spike_in[gene_name] = False # record that this was not a spike-in\n",
    "        \n",
    "adata.var['ERCC'] = pd.Series(is_spike_in) # because the index of adata.var and the keys of is_spike_in match, anndata will take care of matching them up\n",
    "print('found this many spike ins: ', number_of_spike_ins)"
   ]
  },
  {
   "cell_type": "code",
   "execution_count": 122,
   "metadata": {},
   "outputs": [],
   "source": [
    "# get some QC metrics on adata \n",
    "sc.pp.calculate_qc_metrics(adata, inplace=True)"
   ]
  },
  {
   "cell_type": "code",
   "execution_count": 123,
   "metadata": {},
   "outputs": [
    {
     "data": {
      "text/plain": [
       "AnnData object with n_obs × n_vars = 432 × 54446\n",
       "    obs: 'n_genes_by_counts', 'log1p_n_genes_by_counts', 'total_counts', 'log1p_total_counts', 'pct_counts_in_top_50_genes', 'pct_counts_in_top_100_genes', 'pct_counts_in_top_200_genes', 'pct_counts_in_top_500_genes'\n",
       "    var: 'ERCC', 'n_cells_by_counts', 'mean_counts', 'log1p_mean_counts', 'pct_dropout_by_counts', 'total_counts', 'log1p_total_counts'"
      ]
     },
     "execution_count": 123,
     "metadata": {},
     "output_type": "execute_result"
    }
   ],
   "source": [
    "adata"
   ]
  },
  {
   "cell_type": "code",
   "execution_count": 128,
   "metadata": {},
   "outputs": [
    {
     "data": {
      "text/plain": [
       "count    4.320000e+02\n",
       "mean     1.505033e+06\n",
       "std      2.344256e+06\n",
       "min      9.393200e+04\n",
       "25%      4.333435e+05\n",
       "50%      8.788440e+05\n",
       "75%      1.843208e+06\n",
       "max      2.949306e+07\n",
       "Name: total_counts, dtype: float64"
      ]
     },
     "execution_count": 128,
     "metadata": {},
     "output_type": "execute_result"
    }
   ],
   "source": [
    "adata.obs[\"total_counts\"].describe()"
   ]
  },
  {
   "cell_type": "code",
   "execution_count": 130,
   "metadata": {},
   "outputs": [
    {
     "data": {
      "text/plain": [
       "(0.0, 1000000.0)"
      ]
     },
     "execution_count": 130,
     "metadata": {},
     "output_type": "execute_result"
    },
    {
     "data": {
      "image/png": "[encoded data removed]",
      "text/plain": [
       "<Figure size 640x480 with 1 Axes>"
      ]
     },
     "metadata": {},
     "output_type": "display_data"
    }
   ],
   "source": [
    "plt.hist(adata.obs['total_counts'], bins=1000)\n",
    "plt.xlabel('Total counts')\n",
    "plt.ylabel('N cells')\n",
    "plt.axvline(50000, color='red')\n",
    "plt.xlim(0,1e6)"
   ]
  },
  {
   "cell_type": "code",
   "execution_count": 132,
   "metadata": {},
   "outputs": [
    {
     "data": {
      "image/png": "[encoded data removed]",
      "text/plain": [
       "<Figure size 640x480 with 1 Axes>"
      ]
     },
     "metadata": {},
     "output_type": "display_data"
    }
   ],
   "source": [
    "plt.hist(adata.var['n_cells_by_counts'], bins=100)\n",
    "plt.xlabel('N cells expressing > 0')\n",
    "plt.ylabel('log(N genes)') # for visual clarity\n",
    "plt.axvline(2, color='red')\n",
    "plt.yscale('log') "
   ]
  }
 ],
 "metadata": {
  "kernelspec": {
   "display_name": "leafcutter-sc",
   "language": "python",
   "name": "python3"
  },
  "language_info": {
   "codemirror_mode": {
    "name": "ipython",
    "version": 3
   },
   "file_extension": ".py",
   "mimetype": "text/x-python",
   "name": "python",
   "nbconvert_exporter": "python",
   "pygments_lexer": "ipython3",
   "version": "3.9.16"
  },
  "orig_nbformat": 4
 },
 "nbformat": 4,
 "nbformat_minor": 2
}
