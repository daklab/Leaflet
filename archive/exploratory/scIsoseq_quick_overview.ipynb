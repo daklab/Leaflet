{
 "cells": [
  {
   "cell_type": "code",
   "execution_count": null,
   "metadata": {},
   "outputs": [],
   "source": [
    "import pandas as pd \n",
    "import numpy as np\n",
    "from tqdm import tqdm  # Import the tqdm library\n",
    "\n",
    "#Reads here are spliced + barcoded + unique molecules so there are a LOT fewer reads in that than in the BAM\n",
    "allinfo = pd.read_csv('/gpfs/commons/groups/knowles_lab/Karin/data/isoform_cortex_longread_SC/Anoushka_allInfo/FCtx_Rep2_ONT_AllInfo.gz', sep='\\t', header=None)"
   ]
  },
  {
   "cell_type": "code",
   "execution_count": null,
   "metadata": {},
   "outputs": [],
   "source": [
    "allinfo.head()"
   ]
  },
  {
   "cell_type": "code",
   "execution_count": null,
   "metadata": {},
   "outputs": [],
   "source": [
    "allinfo[2].unique()"
   ]
  },
  {
   "cell_type": "code",
   "execution_count": null,
   "metadata": {},
   "outputs": [],
   "source": [
    "# get number of unique cells and how many of each type they are (column 2)\n",
    "cells_types = allinfo[[0,2]].drop_duplicates()\n",
    "cells_types.head()"
   ]
  },
  {
   "cell_type": "code",
   "execution_count": null,
   "metadata": {},
   "outputs": [],
   "source": [
    "cells_types[2].value_counts()"
   ]
  },
  {
   "cell_type": "code",
   "execution_count": null,
   "metadata": {},
   "outputs": [],
   "source": [
    "# load the gtf file \n",
    "gtf = pd.read_csv('/gpfs/commons/home/kisaev/leafcutter-sc/PCDH_gene_clusters.gtf', delimiter=r\"\\s+\")\n",
    "gtf.head()"
   ]
  },
  {
   "cell_type": "code",
   "execution_count": null,
   "metadata": {},
   "outputs": [],
   "source": [
    "allinfo_exons = allinfo[[0,1,2, 3, 4, 6, 8, 10]]\n",
    "allinfo_exons.head()"
   ]
  },
  {
   "cell_type": "code",
   "execution_count": null,
   "metadata": {},
   "outputs": [],
   "source": [
    "# check via gene_id column if any of the pcdh genes are there using grep "
   ]
  },
  {
   "cell_type": "code",
   "execution_count": null,
   "metadata": {},
   "outputs": [],
   "source": [
    "# Split the exon coordinates by the delimiter ';%;'\n",
    "allinfo_exons[8] = allinfo_exons[8].str.split(';%;')"
   ]
  },
  {
   "cell_type": "code",
   "execution_count": null,
   "metadata": {},
   "outputs": [],
   "source": [
    "# Remove the first element from each exon coordinate list\n",
    "allinfo_exons[8] = allinfo_exons[8].apply(lambda lst: lst[1:])\n",
    "allinfo_exons.head()"
   ]
  },
  {
   "cell_type": "code",
   "execution_count": null,
   "metadata": {},
   "outputs": [],
   "source": [
    "# Explode the list of exons into separate rows\n",
    "new_df = allinfo_exons.explode(8)"
   ]
  },
  {
   "cell_type": "code",
   "execution_count": null,
   "metadata": {},
   "outputs": [],
   "source": [
    "# split column 8 into 4 columns: chr, start, end and strand \n",
    "new_df[['chromosome', 'start', 'end', 'strand']] = new_df[8].str.split('_', expand=True)\n",
    "new_df.head()\n"
   ]
  },
  {
   "cell_type": "code",
   "execution_count": null,
   "metadata": {},
   "outputs": [],
   "source": [
    "# reorder columns so chromosome, start, end, strand, gene_id, exon_id are first\n",
    "new_df_save = new_df[[\"chromosome\", \"start\", \"end\", \"strand\"]].drop_duplicates()\n",
    "\n",
    "# save gtf file as bed file to view in IGV\n",
    "new_df_save.to_csv('/gpfs/commons/home/kisaev/leafcutter-sc/lonread_isoseq_rep2.bed', sep='\\t', index=False, header=False)"
   ]
  },
  {
   "cell_type": "code",
   "execution_count": null,
   "metadata": {},
   "outputs": [],
   "source": [
    "new_df.head()"
   ]
  },
  {
   "cell_type": "code",
   "execution_count": null,
   "metadata": {},
   "outputs": [],
   "source": [
    "#chr5:140,821,540-140,822,267\n",
    "new_df[(new_df['chromosome'] == 'chr5') & (new_df['strand'] == \"+\")]"
   ]
  },
  {
   "cell_type": "code",
   "execution_count": null,
   "metadata": {},
   "outputs": [],
   "source": [
    "# now need to map to exons in gtf \n",
    "gtf.head()"
   ]
  },
  {
   "cell_type": "code",
   "execution_count": null,
   "metadata": {},
   "outputs": [],
   "source": [
    "gtf[\"exon_id\"] = gtf.chromosome + \"_\" + gtf.start.astype(str) + \"_\" + gtf.end.astype(str) + \"_\" + gtf.strand"
   ]
  },
  {
   "cell_type": "code",
   "execution_count": null,
   "metadata": {},
   "outputs": [],
   "source": [
    "# reorder columns so chromosome, start, end, strand, gene_id, exon_id are first\n",
    "gtf = gtf[[\"chromosome\", \"start\", \"end\", \"strand\", \"source\"]]\n",
    "\n",
    "# save gtf file as bed file to view in IGV\n",
    "gtf.to_csv('/gpfs/commons/home/kisaev/leafcutter-sc/PCDH_gene_clusters.bed', sep='\\t', index=False, header=False)"
   ]
  },
  {
   "cell_type": "code",
   "execution_count": null,
   "metadata": {},
   "outputs": [],
   "source": [
    "gtf"
   ]
  }
 ],
 "metadata": {
  "kernelspec": {
   "display_name": "leafcutter-sc",
   "language": "python",
   "name": "python3"
  },
  "language_info": {
   "codemirror_mode": {
    "name": "ipython",
    "version": 3
   },
   "file_extension": ".py",
   "mimetype": "text/x-python",
   "name": "python",
   "nbconvert_exporter": "python",
   "pygments_lexer": "ipython3",
   "version": "3.9.16"
  },
  "orig_nbformat": 4
 },
 "nbformat": 4,
 "nbformat_minor": 2
}
